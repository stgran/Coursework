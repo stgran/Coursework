{
 "cells": [
  {
   "cell_type": "markdown",
   "metadata": {},
   "source": [
    "# Assignment 1: The 8-puzzle\n",
    "## CS152 // Prof Shekhar\n",
    "### Soren Gran // October 2019"
   ]
  },
  {
   "cell_type": "markdown",
   "metadata": {},
   "source": [
    "<h1>CS152 Assignment 1: The 8-puzzle</h1>\n",
    "\n",
    "Before you turn in this assignment, make sure everything runs as expected. First, **restart the kernel** (in the menubar, select Kernel$\\rightarrow$Restart) and then run the test cells for each of the questions you have answered.  Note that a grade of 3 for the A* implementation requires all tests in the \"Basic Functionality\" section to be passed.  The test cells pass if they execute with no errors (i.e. all the assertions are passed).\n",
    "\n",
    "Make sure you fill in any place that says `YOUR CODE HERE`.  Be sure to remove the `raise NotImplementedError()` statements as you implement your code - these are simply there as a reminder if you forget to add code where it's needed."
   ]
  },
  {
   "cell_type": "markdown",
   "metadata": {},
   "source": [
    "---"
   ]
  },
  {
   "cell_type": "markdown",
   "metadata": {
    "deletable": false,
    "editable": false,
    "nbgrader": {
     "cell_type": "markdown",
     "checksum": "3582513581b2e5d1806ee2b1117ac019",
     "grade": false,
     "grade_id": "5bb4ce",
     "locked": true,
     "schema_version": 3,
     "solution": false
    }
   },
   "source": [
    "<h1>\n",
    "Question 1    \n",
    "</h1>\n",
    "Define your <code>PuzzleNode</code> class below.  Ensure that you include all attributes that you need to implement an A* search.  If you wish, you can even include member functions, such as a function to generate successor states.  Alternatively, you can code up this functionality later in the <code>solvePuzzle</code> function."
   ]
  },
  {
   "cell_type": "markdown",
   "metadata": {},
   "source": [
    "### Author: Soren Gran"
   ]
  },
  {
   "cell_type": "code",
   "execution_count": 140,
   "metadata": {
    "deletable": false,
    "nbgrader": {
     "cell_type": "code",
     "checksum": "4326143183f9b58edcedbc64aed31100",
     "grade": false,
     "grade_id": "b5da05",
     "locked": false,
     "schema_version": 3,
     "solution": true,
     "task": false
    }
   },
   "outputs": [],
   "source": [
    "# Import any packages you need here\n",
    "# Also define any variables as needed\n",
    "import numpy as np\n",
    "import random\n",
    "# YOUR CODE HERE (OPTIONAL)\n",
    "\n",
    "#Now, define the class PuzzleNode:\n",
    "class PuzzleNode(object):\n",
    "    \"\"\"\n",
    "    Class PuzzleNode: Provides a structure for performing A* search for the n^2-1 puzzle\n",
    "    \n",
    "    \"\"\"\n",
    "    def __init__(self, state, parent_g, h_score, parent_path):\n",
    "        self.state = state # first and foremost, each puzzle node is represented by its state\n",
    "        # (i.e. the arrangement of its tiles)\n",
    "        self.g_score = parent_g + 1 # in other A* search algorithms, the g_score would change from node to node.\n",
    "        # However, every move has the same step length in 8 puzzle: 1. So we just add 1.\n",
    "        self.h_score = h_score # calculated by the heuristic specified by solvePuzzle()\n",
    "        self.f_score = self.g_score + self.h_score # f is sum of g and h\n",
    "        self.path = parent_path # the root node starts with an empty list as the parent_path\n",
    "        self.path.append(state) # we just add the current state onto the parent's path\n",
    "    \n",
    "    def __str__(self): # short method to display the grid\n",
    "        for row in self.state:\n",
    "            print(row) # print each row\n",
    "        print('\\n') # print a new line in case we are printing repeated states\n",
    "        # which would look confusing if not for the new line"
   ]
  },
  {
   "cell_type": "markdown",
   "metadata": {
    "deletable": false,
    "editable": false,
    "nbgrader": {
     "cell_type": "markdown",
     "checksum": "f523db3048f85be39ef3dc740b53fdba",
     "grade": false,
     "grade_id": "859d2c",
     "locked": true,
     "schema_version": 3,
     "solution": false
    }
   },
   "source": [
    "<h1>\n",
    "Question 2    \n",
    "</h1>\n",
    "Define your heuristic functions using the templates below.  Ensure that you extend the <code>heuristics</code> list to include all the heuristic functions you implement.  Note that state will be given as a list of lists, so ensure your function accepts this format.  You may use packages like numpy if you wish within the functions themselves."
   ]
  },
  {
   "cell_type": "code",
   "execution_count": 42,
   "metadata": {
    "deletable": false,
    "nbgrader": {
     "cell_type": "code",
     "checksum": "686c6cabd6955171ad70aa6fd37d31a9",
     "grade": false,
     "grade_id": "3fb850",
     "locked": false,
     "schema_version": 3,
     "solution": true,
     "task": false
    }
   },
   "outputs": [],
   "source": [
    "# Add any additional code here (e.g. for the memoization extension)\n",
    "\n",
    "# YOUR CODE HERE (OPTIONAL)\n",
    "\n",
    "# Misplaced tiles heuristic\n",
    "def h1(state):\n",
    "    \"\"\"\n",
    "    This function returns the number of misplaced tiles, given the board state\n",
    "    Input:\n",
    "        -state: the board state as a list of lists\n",
    "    Output:\n",
    "        -h: the number of misplaced tiles\n",
    "    \"\"\"\n",
    "    state = [item for sublist in state for item in sublist] # this line of code taken from https://stackoverflow.com/questions/952914/how-to-make-a-flat-list-out-of-list-of-lists\n",
    "    # this line is designed to flatten the list, making it easier to assess the misplaced tiles\n",
    "    h = 0\n",
    "    for index in range(len(state)): # for every tile\n",
    "        if state[index] != 0: # we do not want to consider the 0 tile, because it actually represents the absence of a tile\n",
    "            if state[index] != index: # if the tile is not equal to the index (which is its home position),\n",
    "                h += 1 # we count it as misplaced\n",
    "    return h\n",
    "\n",
    "# Manhattan distance heuristic\n",
    "def h2(state):\n",
    "    \"\"\"\n",
    "    This function returns the Manhattan distance from the solved state, given the board state\n",
    "    Input:\n",
    "        -state: the board state as a list of lists\n",
    "    Output:\n",
    "        -h: the Manhattan distance from the solved configuration\n",
    "    \"\"\"\n",
    "    # YOUR CODE HERE\n",
    "    # the Manhattan distance is the total distance of all tiles from their home square\n",
    "    # we calculate this distance by calculating each tiles' distance and summing them\n",
    "    # The distance is calculated by subtracting the current position from the ideal positions.\n",
    "    # For example, if the 1 tile is at position (2, 2) (i.e. the last tile in the last row),\n",
    "    # we subtract those coordinates from the home coordinates (1, 0) giving us a Manhattan distance of 3\n",
    "    h = 0\n",
    "    sides = len(state) # gets us the dimensions of the board\n",
    "    for row in range(sides): # iterating over \n",
    "        y_coord = row # the y_coordinate is the vertical position, or the row number\n",
    "        for index in range(sides):\n",
    "            point = state[row][index]\n",
    "            if point != 0: # again, we do not want to consider the empty space\n",
    "                x_coord = index # the x_coordinate is the horizontal position, or the index in whichever row\n",
    "                y_coord_ideal = point // sides # floor division gives us the correct row\n",
    "                x_coord_ideal = point % sides # modulo division gives us the correct index\n",
    "                man_dist = abs(y_coord - y_coord_ideal) + abs(x_coord - x_coord_ideal) # add the distances\n",
    "                h += man_dist # add the distance to the sum\n",
    "    return h\n",
    "    \n",
    "# Extra heuristic for the extension.  If implemented, modify the function below\n",
    "# This heuristic is a Pattern Database.\n",
    "def h3(state):\n",
    "    \"\"\"\n",
    "    This function returns a heuristic that dominates the Manhattan distance, given the board state\n",
    "    Input:\n",
    "        -state: the board state as a list of lists\n",
    "    Output:\n",
    "        -h: the Heuristic distance of the state from its solved configuration\n",
    "    \"\"\"\n",
    "    \n",
    "    return 0\n",
    "\n",
    "# If you implement more than 3 heuristics, then add any extra heuristic functions onto the end of this list.\n",
    "heuristics = [h1, h2]"
   ]
  },
  {
   "cell_type": "markdown",
   "metadata": {
    "deletable": false,
    "editable": false,
    "nbgrader": {
     "cell_type": "markdown",
     "checksum": "591174c27300d0a4d4d96ee841e46810",
     "grade": false,
     "grade_id": "e224d9",
     "locked": true,
     "schema_version": 3,
     "solution": false
    }
   },
   "source": [
    "<h1>\n",
    "Question 3    \n",
    "</h1>\n",
    "Code up your A* search using the SolvePuzzle function within the template below.  Please do not modify the function header, otherwise the automated testing will fail.  You may define other functions or import packages as needed in this cell or by adding additional cells."
   ]
  },
  {
   "cell_type": "code",
   "execution_count": 212,
   "metadata": {
    "deletable": false,
    "nbgrader": {
     "cell_type": "code",
     "checksum": "91dda09c4f5df1db4607bb3b82e81afd",
     "grade": false,
     "grade_id": "328d7b",
     "locked": false,
     "schema_version": 3,
     "solution": true
    }
   },
   "outputs": [],
   "source": [
    "# Import any packages or define any helper functions you need here\n",
    "\n",
    "# YOUR CODE HERE (OPTIONAL)\n",
    "import queue as q\n",
    "import copy\n",
    "\n",
    "def swap_positions(state, pos1_a, pos1_b, pos2_a, pos2_b): # this function was taken from\n",
    "    # https://www.geeksforgeeks.org/python-program-to-swap-two-elements-in-a-list/, although\n",
    "    # I edited it to work for a list of lists\n",
    "    # This function is used to \"move\" a tile to the empty spot\n",
    "    # in reality, we just switch the 0 tile with the other tile\n",
    "    state[pos1_a][pos1_b], state[pos2_a][pos2_b] = state[pos2_a][pos2_b], state[pos1_a][pos1_b]\n",
    "    return state\n",
    "\n",
    "def get_kids(state):\n",
    "    # For any board position, this function gets its child nodes\n",
    "    # It does this by finding the 0 tile (the empty space), identifying its neighbors,\n",
    "    # and swapping the 0 with each neighbor, returning as many kids as there are neighbors\n",
    "    sides = len(state)\n",
    "    kids = []\n",
    "    for row in range(sides):\n",
    "        for index in range(sides):\n",
    "            if state[row][index] == 0: # we have found the 0 tile\n",
    "                # now we need to get its neighbors\n",
    "                neighbors = [(row+1, index), (row-1, index), (row, index+1), (row, index-1)]\n",
    "                for coord_pair in neighbors:\n",
    "                    neigh_row, neigh_index = coord_pair\n",
    "                    if -1 < neigh_row < sides:\n",
    "                        if -1 < neigh_index < sides:\n",
    "                            # we must make sure we are not getting a neighbor that is off the board\n",
    "                            # all neighbors must be on the board, and the board does not have periodic boundaries.\n",
    "                            # This means that a corner 0 tile has 2 neighbors, a side 0 has 3 neighbors, and a center 0 has 4 neighbors.\n",
    "                            kid = [x[:] for x in state] # makes a copy of the parent board\n",
    "                            swap_positions(kid, row, index, neigh_row, neigh_index) # switches the 0 with its neighbor\n",
    "                            kids.append(kid)\n",
    "    return kids\n",
    "\n",
    "# Main solvePuzzle function.\n",
    "def solvePuzzle(state, heuristic):\n",
    "    \"\"\"This function should solve the n**2-1 puzzle for any n > 2 (although it may take too long for n > 4)).\n",
    "    Inputs:\n",
    "        -state: The initial state of the puzzle as a list of lists\n",
    "        -heuristic: a handle to a heuristic function.  Will be one of those defined in Question 2.\n",
    "    Outputs:\n",
    "        -steps: The number of steps to optimally solve the puzzle (excluding the initial state)\n",
    "        -exp: The number of nodes expanded to reach the solution\n",
    "        -max_frontier: The maximum size of the frontier over the whole search\n",
    "        -opt_path: The optimal path as a list of list of lists.  That is, opt_path[:,:,i] should give a list of lists\n",
    "                    that represents the state of the board at the ith step of the solution.\n",
    "        -err: An error code.  If state is not of the appropriate size and dimension, return -1.  For the extention task,\n",
    "          if the state is not solvable, then return -2\n",
    "    \"\"\"\n",
    "    \n",
    "    # IS IT THE CORRECT DIMENSIONS?\n",
    "    sides = len(state) # every row should be as long as the entire puzzle is tall (in order for it to be a square)\n",
    "    for row in state:\n",
    "        if len(row) != sides: # if it's not a square\n",
    "            return 0, 0, 0, None, -1\n",
    "    \n",
    "    # DOES IT HAVE THE RIGHT NUMBERS?\n",
    "    # every board should have the numbers 0 to dimensions**2 - 1. So a 3x3 board will have 0-8, 4x4 will have 0-15, etc.\n",
    "    ideal_list = list(range(sides**2)) # this is what the sorted board would look like\n",
    "    flat_state = [item for sublist in state for item in sublist] # again, taken from https://stackoverflow.com/questions/952914/how-to-make-a-flat-list-out-of-list-of-lists\n",
    "    sorted_list = sorted(flat_state) # now we have our board good and sorted\n",
    "    if sorted_list != ideal_list: # are they the same? they should be.\n",
    "        return 0, 0, 0, None, -1\n",
    "    \n",
    "    # IS IT SOLVABLE?\n",
    "    # This method for checking for solvability was taken from https://www.geeksforgeeks.org/check-instance-15-puzzle-solvable/\n",
    "    # However, the code is all my own for this check. Only the way of checking for solvability was taken from that source.\n",
    "    '''\n",
    "    The idea of this method is checking for \"inversions\" in the grid; i.e. when a tile is greater than following tiles.\n",
    "    So if our board looks like [[0,1],[3,2]], we would have 1 inversion, the one of 3,2.\n",
    "    The reason we need to know about inversions is because of the way the number of inversions when we make a move.\n",
    "    A horizontal move will never change the number of inversions (switching the empty tile, which we dont consider,\n",
    "    with any other tile).\n",
    "    On a board of odd dimensions, if we were to transpose a vertical move from a normal board to a flattened board,\n",
    "    the tile in question would pass an even number of tiles. And so the invertedness relationship between that tile\n",
    "    and those even number of tiles will automatically flip, meaning the total number of inversions will not change\n",
    "    even to odd. This means that for a board with odd dimensions, there must be an even number of inversions for it\n",
    "    to be solvable.\n",
    "    For a board with even dimensions, we are concerned about the same idea but now a vertical move will move the tile\n",
    "    past an odd number of tiles (a horizontal move will still not change anything). However, we know that we need the\n",
    "    0 tile to end up in the first row. So if the 0 tile is starting in the second row (or any even row from the top),\n",
    "    the number of inversions must start odd. And if the 0 tile starts in the top row or any odd row, the number of\n",
    "    inversions must be even.\n",
    "    '''\n",
    "    \n",
    "    flat_state = [item for sublist in state for item in sublist] # again, taken from https://stackoverflow.com/questions/952914/how-to-make-a-flat-list-out-of-list-of-lists\n",
    "    inversions = 0\n",
    "    # Are the dimensions even or odd?\n",
    "    if sides%2 != 0: # the dimensions are odd\n",
    "        for index in range(len(flat_state)):\n",
    "            if flat_state[index] != 0: # we don't want to count inversions involving the empty tile\n",
    "                for later in range(index + 1, len(flat_state)):\n",
    "                    if flat_state[later] != 0: # again, no empty inversions\n",
    "                        if flat_state[index] > flat_state[later]: # if the earlier tile is greater than the later tile\n",
    "                            inversions += 1 # that's an inversion\n",
    "        if inversions % 2 != 0: # we want even inversions\n",
    "            return 0, 0, 0, None, -2\n",
    "    else: # the dimensions are even\n",
    "        for index in range(len(flat_state)):\n",
    "            if flat_state[index] != 0: # again, no empty inversions\n",
    "                for later in range(index + 1, len(flat_state)):\n",
    "                    if flat_state[later] != 0: # again, no empty inversions\n",
    "                        if flat_state[index] > flat_state[later]: # if the earlier tile is greater than the later tile\n",
    "                            inversions += 1 # that's an inversions\n",
    "\n",
    "        for row in range(sides): # calculating distance from bottom of puzzle\n",
    "            if 0 in state[row]:\n",
    "                dist = sides - row\n",
    "        if inversions % 2 != 0: # number of inversions is odd    \n",
    "            if dist % 2 == 0: # 0 is on even row from bottom (odd row from top)\n",
    "                return 0, 0, 0, None, -2\n",
    "        else: # number of inversions is even\n",
    "            if dist % 2 == 1: # 0 is on odd row from bottom (even row from top)\n",
    "                return 0, 0, 0, None, -2\n",
    "    \n",
    "    # SOLVING THE PUZZLE\n",
    "    '''\n",
    "    1. Establish the root node, the goal state, and our visited and frontier lists\n",
    "    2. Start with the first node in the frontier (in this case, our root node). Pop that node, removing it\n",
    "    from the frontier.\n",
    "    3. Check if that node is the goal state. Because of the nature of heuristic search (A* is a variation),\n",
    "    the first goal state we find has an optimal path, so we can end there.\n",
    "    If the node is not the goal:\n",
    "    4. Check if we have visited it. If we have, check if the previous g-score is better\n",
    "    than the current one (i.e. if it took fewer steps to get to the same state last time).\n",
    "    If the previous one is better, skip this node since we have visited it before more quickly.\n",
    "    If the g-score is worse in the visited list, then update the g-score for this state in the\n",
    "    visited list and continue with this node (although we have visited it before, we are interested\n",
    "    in finding a better path through this node).\n",
    "    5. Get its kids and add them as new nodes. Add them to the frontier list. Sort the frontier list\n",
    "    so that the nodes with the best f-scores are expanded first.\n",
    "    6. Repeat.\n",
    "    '''\n",
    "    \n",
    "    # 1. Establish the root node, the goal state, and our visited and frontier lists\n",
    "    start = PuzzleNode(state, -1, heuristic(state), [])\n",
    "    \n",
    "    goal = np.reshape(list(range(sides**2)), (sides, sides))\n",
    "    goal = list(list(i) for i in goal)\n",
    "    \n",
    "    visited = {}\n",
    "    frontier = [[start.f_score, start]]\n",
    "    # 2. Start with the first node in the frontier (in this case, our root node).\n",
    "    \n",
    "    steps = 0\n",
    "    exp = 0\n",
    "    max_frontier = 0\n",
    "    opt_path = 0\n",
    "    \n",
    "    while frontier:\n",
    "        max_frontier = max(max_frontier, len(frontier))\n",
    "        cont = True\n",
    "        [cur_f, cur_node] = frontier.pop(0) # Pop that first node, removing it from the frontier.\n",
    "        exp += 1\n",
    "        if cur_node.state == goal:\n",
    "            # 3. Check if that node is the goal state. Because of the nature of heuristic search (A* is a variation),\n",
    "            # the first goal state we find has an optimal path, so we can end there.\n",
    "            opt_path = cur_node.path\n",
    "            steps = len(opt_path) - 1\n",
    "            return steps, exp, max_frontier, opt_path, _\n",
    "        \n",
    "        # If the node is not the goal:\n",
    "        if str(cur_node.state) in visited.keys():\n",
    "            # 4. Check if we have visited it. If we have, check if the previous g-score is better\n",
    "            # than the current one (i.e. if it took fewer steps to get to the same state last time).\n",
    "            # If the previous one is better, skip this node since we have visited it before more quickly.\n",
    "            # If the g-score is worse in the visited list, then update the g-score for this state in the\n",
    "            # visited list and continue with this node (although we have visited it before, we are interested\n",
    "            # in finding a better path through this node).\n",
    "            if visited[str(cur_node.state)] > cur_node.g_score:\n",
    "                visited[str(cur_node.state)] = cur_node.g_score\n",
    "            else:\n",
    "                cont = False\n",
    "        \n",
    "        if cont == True:\n",
    "            # 5. Get its kids and add them as new nodes. Add them to the frontier list.\n",
    "            kids = get_kids(cur_node.state)\n",
    "            for kid in kids:\n",
    "                new_node = PuzzleNode(kid, cur_node.f_score, heuristic(kid), copy.deepcopy(cur_node.path))\n",
    "                frontier.append([new_node.f_score, new_node])\n",
    "            visited[str(cur_node.state)] = cur_node.g_score\n",
    "        # Sort the frontier list so that the nodes with the best f-scores are expanded first.\n",
    "        frontier.sort(key = lambda x: x[0]) # this line taken from https://stackoverflow.com/questions/17555218/python-how-to-sort-a-list-of-lists-by-the-fourth-element-in-each-list\n",
    "        # Repeat.\n",
    "    return 'fail', 'fail', 'fail', 'fail', 'fail'"
   ]
  },
  {
   "cell_type": "markdown",
   "metadata": {
    "deletable": false,
    "editable": false,
    "nbgrader": {
     "cell_type": "markdown",
     "checksum": "93712bce8426499023ace13735ea998d",
     "grade": false,
     "grade_id": "cell-3fc6e687e03655a1",
     "locked": true,
     "schema_version": 3,
     "solution": false,
     "task": false
    }
   },
   "source": [
    "<h1>Extension Questions</h1>\n",
    "\n",
    "The extensions can be implemented by modifying the code from Q2-3 above appropriately.\n",
    "\n",
    "1. <b>Initial state solvability:</b>  Modify your SolvePuzzle function code in Q3 to return -2 if an initial state is not solvable to the goal state.\n",
    "2. <b>Extra heuristic function:</b> Add another heuristic function (e.g. pattern database) that dominates the misplaced tiles and Manhattan distance heuristics to your Q2 code.\n",
    "3. <b>Memoization:</b>  Modify your heuristic function definitions in Q2 by using a Python decorator to speed up heuristic function evaluation\n",
    "\n",
    "There are test cells provided for extension questions 1 and 2."
   ]
  },
  {
   "cell_type": "markdown",
   "metadata": {
    "deletable": false,
    "editable": false,
    "nbgrader": {
     "cell_type": "markdown",
     "checksum": "c89ea5c4d80cc73d321b4d15a043e8b7",
     "grade": false,
     "grade_id": "fb9ccd",
     "locked": true,
     "schema_version": 3,
     "solution": false
    }
   },
   "source": [
    "<h1>Basic Functionality Tests</h1>\n",
    "The cells below contain tests to verify that your code is working properly to be classified as basically functional.  Please note that a grade of <b>3</b> on #aicoding and #search as applicable for each test requires the test to be successfully passed.  <b>If you want to demonstrate some other aspect of your code, then feel free to add additional cells with test code and document what they do.<b>"
   ]
  },
  {
   "cell_type": "code",
   "execution_count": 214,
   "metadata": {
    "deletable": false,
    "editable": false,
    "nbgrader": {
     "cell_type": "code",
     "checksum": "f8d927b41dc95f7b76d81ed7f6cd13ec",
     "grade": true,
     "grade_id": "8fbc24",
     "locked": true,
     "points": 1,
     "schema_version": 3,
     "solution": false
    }
   },
   "outputs": [],
   "source": [
    "## Test for state not correctly defined\n",
    "\n",
    "incorrect_state = [[0,1,2],[2,3,4],[5,6,7]]\n",
    "_,_,_,_,err = solvePuzzle(incorrect_state, lambda state: 0)\n",
    "assert(err == -1)"
   ]
  },
  {
   "cell_type": "code",
   "execution_count": 215,
   "metadata": {
    "deletable": false,
    "editable": false,
    "nbgrader": {
     "cell_type": "code",
     "checksum": "005a7a99916dafeb7180172c66365597",
     "grade": true,
     "grade_id": "cell-5738a2124877e52e",
     "locked": true,
     "points": 2,
     "schema_version": 3,
     "solution": false,
     "task": false
    }
   },
   "outputs": [],
   "source": [
    "## Heuristic function tests for misplaced tiles and manhattan distance\n",
    "\n",
    "# Define the working initial states\n",
    "working_initial_states_8_puzzle = ([[2,3,7],[1,8,0],[6,5,4]], [[7,0,8],[4,6,1],[5,3,2]], [[5,7,6],[2,4,3],[8,1,0]])\n",
    "\n",
    "# Test the values returned by the heuristic functions\n",
    "h_mt_vals = [7,8,7]\n",
    "h_man_vals = [15,17,18]\n",
    "\n",
    "for i in range(0,3):\n",
    "    h_mt = heuristics[0](working_initial_states_8_puzzle[i])\n",
    "    h_man = heuristics[1](working_initial_states_8_puzzle[i])\n",
    "    assert(h_mt == h_mt_vals[i])\n",
    "    assert(h_man == h_man_vals[i])\n"
   ]
  },
  {
   "cell_type": "markdown",
   "metadata": {},
   "source": [
    "The next cell didn't have time to run so it still says AssertionError but hopefully that is no longer the case."
   ]
  },
  {
   "cell_type": "code",
   "execution_count": 216,
   "metadata": {
    "deletable": false,
    "editable": false,
    "nbgrader": {
     "cell_type": "code",
     "checksum": "293094319e63d67c5f6d94cd7aee0c02",
     "grade": true,
     "grade_id": "cell-99c07d9541559b52",
     "locked": true,
     "points": 4,
     "schema_version": 3,
     "solution": false,
     "task": false
    }
   },
   "outputs": [
    {
     "ename": "AssertionError",
     "evalue": "",
     "output_type": "error",
     "traceback": [
      "\u001b[0;31m---------------------------------------------------------------------------\u001b[0m",
      "\u001b[0;31mAssertionError\u001b[0m                            Traceback (most recent call last)",
      "\u001b[0;32m<ipython-input-216-ed7d27ea9adb>\u001b[0m in \u001b[0;36m<module>\u001b[0;34m\u001b[0m\n\u001b[1;32m     19\u001b[0m     \u001b[0msteps_man\u001b[0m\u001b[0;34m,\u001b[0m \u001b[0mexpansions_man\u001b[0m\u001b[0;34m,\u001b[0m \u001b[0m_\u001b[0m\u001b[0;34m,\u001b[0m \u001b[0mopt_path_man\u001b[0m\u001b[0;34m,\u001b[0m \u001b[0m_\u001b[0m \u001b[0;34m=\u001b[0m \u001b[0msolvePuzzle\u001b[0m\u001b[0;34m(\u001b[0m\u001b[0mworking_initial_states_8_puzzle\u001b[0m\u001b[0;34m[\u001b[0m\u001b[0mi\u001b[0m\u001b[0;34m]\u001b[0m\u001b[0;34m,\u001b[0m \u001b[0mheuristics\u001b[0m\u001b[0;34m[\u001b[0m\u001b[0;36m1\u001b[0m\u001b[0;34m]\u001b[0m\u001b[0;34m)\u001b[0m\u001b[0;34m\u001b[0m\u001b[0;34m\u001b[0m\u001b[0m\n\u001b[1;32m     20\u001b[0m     \u001b[0;31m# Test whether the number of optimal steps is correct and the same\u001b[0m\u001b[0;34m\u001b[0m\u001b[0;34m\u001b[0m\u001b[0;34m\u001b[0m\u001b[0m\n\u001b[0;32m---> 21\u001b[0;31m     \u001b[0;32massert\u001b[0m\u001b[0;34m(\u001b[0m\u001b[0msteps_mt\u001b[0m \u001b[0;34m==\u001b[0m \u001b[0msteps_man\u001b[0m \u001b[0;34m==\u001b[0m \u001b[0mastar_steps\u001b[0m\u001b[0;34m[\u001b[0m\u001b[0mi\u001b[0m\u001b[0;34m]\u001b[0m\u001b[0;34m)\u001b[0m\u001b[0;34m\u001b[0m\u001b[0;34m\u001b[0m\u001b[0m\n\u001b[0m\u001b[1;32m     22\u001b[0m     \u001b[0;31m# Test whether or not the manhattan distance dominates the misplaced tiles heuristic in every case\u001b[0m\u001b[0;34m\u001b[0m\u001b[0;34m\u001b[0m\u001b[0;34m\u001b[0m\u001b[0m\n\u001b[1;32m     23\u001b[0m     \u001b[0;32massert\u001b[0m\u001b[0;34m(\u001b[0m\u001b[0mexpansions_man\u001b[0m \u001b[0;34m<\u001b[0m \u001b[0mexpansions_mt\u001b[0m\u001b[0;34m)\u001b[0m\u001b[0;34m\u001b[0m\u001b[0;34m\u001b[0m\u001b[0m\n",
      "\u001b[0;31mAssertionError\u001b[0m: "
     ]
    }
   ],
   "source": [
    "## A* Tests for 3 x 3 boards\n",
    "## This test runs A* with both heuristics and ensures that the same optimal number of steps are found\n",
    "## with each heuristic.\n",
    "\n",
    "# Optimal path to the solution for the first 3 x 3 state\n",
    "opt_path_soln = [[[2, 3, 7], [1, 8, 0], [6, 5, 4]], [[2, 3, 7], [1, 8, 4], [6, 5, 0]], \n",
    "                 [[2, 3, 7], [1, 8, 4], [6, 0, 5]], [[2, 3, 7], [1, 0, 4], [6, 8, 5]], \n",
    "                 [[2, 0, 7], [1, 3, 4], [6, 8, 5]], [[0, 2, 7], [1, 3, 4], [6, 8, 5]], \n",
    "                 [[1, 2, 7], [0, 3, 4], [6, 8, 5]], [[1, 2, 7], [3, 0, 4], [6, 8, 5]], \n",
    "                 [[1, 2, 7], [3, 4, 0], [6, 8, 5]], [[1, 2, 0], [3, 4, 7], [6, 8, 5]], \n",
    "                 [[1, 0, 2], [3, 4, 7], [6, 8, 5]], [[1, 4, 2], [3, 0, 7], [6, 8, 5]], \n",
    "                 [[1, 4, 2], [3, 7, 0], [6, 8, 5]], [[1, 4, 2], [3, 7, 5], [6, 8, 0]], \n",
    "                 [[1, 4, 2], [3, 7, 5], [6, 0, 8]], [[1, 4, 2], [3, 0, 5], [6, 7, 8]], \n",
    "                 [[1, 0, 2], [3, 4, 5], [6, 7, 8]], [[0, 1, 2], [3, 4, 5], [6, 7, 8]]]\n",
    "\n",
    "astar_steps = [17, 25, 28]\n",
    "for i in range(0,3):\n",
    "    steps_mt, expansions_mt, _, opt_path_mt, _ = solvePuzzle(working_initial_states_8_puzzle[i], heuristics[0])\n",
    "    steps_man, expansions_man, _, opt_path_man, _ = solvePuzzle(working_initial_states_8_puzzle[i], heuristics[1])\n",
    "    # Test whether the number of optimal steps is correct and the same\n",
    "    assert(steps_mt == steps_man == astar_steps[i])\n",
    "    # Test whether or not the manhattan distance dominates the misplaced tiles heuristic in every case\n",
    "    assert(expansions_man < expansions_mt)\n",
    "    # For the first state, test that the optimal path is the same\n",
    "    if i == 0:\n",
    "        assert(opt_path_mt == opt_path_soln)\n"
   ]
  },
  {
   "cell_type": "code",
   "execution_count": 213,
   "metadata": {
    "deletable": false,
    "editable": false,
    "nbgrader": {
     "cell_type": "code",
     "checksum": "94ad7f950f87fcc281af1f3946c4e196",
     "grade": true,
     "grade_id": "cell-2981ba2cc7745c22",
     "locked": true,
     "points": 8,
     "schema_version": 3,
     "solution": false,
     "task": false
    }
   },
   "outputs": [],
   "source": [
    "## A* Test for 4 x 4 board\n",
    "## This test runs A* with both heuristics and ensures that the same optimal number of steps are found\n",
    "## with each heuristic.\n",
    "\n",
    "working_initial_state_15_puzzle = [[1,2,6,3],[0,9,5,7],[4,13,10,11],[8,12,14,15]]\n",
    "steps_mt, expansions_mt, _, _, _ = solvePuzzle(working_initial_state_15_puzzle, heuristics[0])\n",
    "steps_man, expansions_man, _, _, _ = solvePuzzle(working_initial_state_15_puzzle, heuristics[1])\n",
    "# Test whether the number of optimal steps is correct and the same\n",
    "assert(steps_mt == steps_man == 9)\n",
    "# Test whether or not the manhattan distance dominates the misplaced tiles heuristic in every case\n",
    "assert(expansions_mt >= expansions_man)"
   ]
  },
  {
   "cell_type": "markdown",
   "metadata": {
    "deletable": false,
    "editable": false,
    "nbgrader": {
     "cell_type": "markdown",
     "checksum": "7251e4aad7b1e19b42a78e54d8e7b920",
     "grade": false,
     "grade_id": "cell-2c262efb90518641",
     "locked": true,
     "schema_version": 3,
     "solution": false,
     "task": false
    }
   },
   "source": [
    "<h1>Extension Tests</h1>\n",
    "The cells below can be used to test the extension questions.  Memoization if implemented will be tested on the final submission - you can test it yourself by testing the execution time of the heuristic functions with and without it."
   ]
  },
  {
   "cell_type": "code",
   "execution_count": 196,
   "metadata": {
    "deletable": false,
    "editable": false,
    "nbgrader": {
     "cell_type": "code",
     "checksum": "efc4b74c95e814a4fb07d2c5ed26f337",
     "grade": true,
     "grade_id": "cell-21cada9978e9a1bb",
     "locked": true,
     "points": 16,
     "schema_version": 3,
     "solution": false,
     "task": false
    }
   },
   "outputs": [],
   "source": [
    "## Puzzle solvability test\n",
    "\n",
    "unsolvable_initial_state = [[7,5,6],[2,4,3],[8,1,0]]\n",
    "_,_,_,_,err = solvePuzzle(unsolvable_initial_state, lambda state: 0)\n",
    "assert(err == -2)"
   ]
  },
  {
   "cell_type": "code",
   "execution_count": null,
   "metadata": {
    "deletable": false,
    "editable": false,
    "nbgrader": {
     "cell_type": "code",
     "checksum": "9b7ebb02bcf675ab3a5157eaa1155763",
     "grade": true,
     "grade_id": "cell-8c7a414efc152379",
     "locked": true,
     "points": 32,
     "schema_version": 3,
     "solution": false,
     "task": false
    }
   },
   "outputs": [],
   "source": [
    "## Extra heuristic function test.  \n",
    "## This tests that for all initial conditions, the new heuristic dominates over the manhattan distance.\n",
    "\n",
    "dom = 0\n",
    "for i in range(0,3):\n",
    "    steps_new, expansions_new, _, _, _ = solvePuzzle(working_initial_states_8_puzzle[i], heuristics[2])\n",
    "    steps_man, expansions_man, _, _, _ = solvePuzzle(working_initial_states_8_puzzle[i], heuristics[1])\n",
    "    # Test whether the number of optimal steps is correct and the same\n",
    "    assert(steps_new == steps_man == astar_steps[i])\n",
    "    # Test whether or not the manhattan distance is dominated by the new heuristic in every case, by checking\n",
    "    # the number of nodes expanded\n",
    "    dom = expansions_man - expansions_new\n",
    "assert(dom > 0)"
   ]
  },
  {
   "cell_type": "code",
   "execution_count": null,
   "metadata": {
    "deletable": false,
    "editable": false,
    "nbgrader": {
     "cell_type": "code",
     "checksum": "af551e00bc8334100b7cf901ece597a2",
     "grade": true,
     "grade_id": "cell-09f710b6aa2e3fa3",
     "locked": true,
     "points": 64,
     "schema_version": 3,
     "solution": false,
     "task": false
    }
   },
   "outputs": [],
   "source": [
    "## Memoization test - will be carried out after submission"
   ]
  }
 ],
 "metadata": {
  "kernelspec": {
   "display_name": "Python 3",
   "language": "python",
   "name": "python3"
  },
  "language_info": {
   "codemirror_mode": {
    "name": "ipython",
    "version": 3
   },
   "file_extension": ".py",
   "mimetype": "text/x-python",
   "name": "python",
   "nbconvert_exporter": "python",
   "pygments_lexer": "ipython3",
   "version": "3.8.0"
  }
 },
 "nbformat": 4,
 "nbformat_minor": 1
}
