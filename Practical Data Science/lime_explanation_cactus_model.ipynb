{
  "nbformat": 4,
  "nbformat_minor": 0,
  "metadata": {
    "colab": {
      "name": "lime explanation_cactus_model.ipynb",
      "provenance": [],
      "include_colab_link": true
    },
    "kernelspec": {
      "name": "python3",
      "display_name": "Python 3"
    },
    "widgets": {
      "application/vnd.jupyter.widget-state+json": {
        "c58babfae9a742c1b4462098b41fb820": {
          "model_module": "@jupyter-widgets/controls",
          "model_name": "HBoxModel",
          "state": {
            "_view_name": "HBoxView",
            "_dom_classes": [],
            "_model_name": "HBoxModel",
            "_view_module": "@jupyter-widgets/controls",
            "_model_module_version": "1.5.0",
            "_view_count": null,
            "_view_module_version": "1.5.0",
            "box_style": "",
            "layout": "IPY_MODEL_90ba2f2073ff4a4f9e1bf747faccbdd4",
            "_model_module": "@jupyter-widgets/controls",
            "children": [
              "IPY_MODEL_2e20dbad37f14aa2902991374d0f61be",
              "IPY_MODEL_6e50a6bfe0dc46fb87c64d4ce665f128"
            ]
          }
        },
        "90ba2f2073ff4a4f9e1bf747faccbdd4": {
          "model_module": "@jupyter-widgets/base",
          "model_name": "LayoutModel",
          "state": {
            "_view_name": "LayoutView",
            "grid_template_rows": null,
            "right": null,
            "justify_content": null,
            "_view_module": "@jupyter-widgets/base",
            "overflow": null,
            "_model_module_version": "1.2.0",
            "_view_count": null,
            "flex_flow": null,
            "width": null,
            "min_width": null,
            "border": null,
            "align_items": null,
            "bottom": null,
            "_model_module": "@jupyter-widgets/base",
            "top": null,
            "grid_column": null,
            "overflow_y": null,
            "overflow_x": null,
            "grid_auto_flow": null,
            "grid_area": null,
            "grid_template_columns": null,
            "flex": null,
            "_model_name": "LayoutModel",
            "justify_items": null,
            "grid_row": null,
            "max_height": null,
            "align_content": null,
            "visibility": null,
            "align_self": null,
            "height": null,
            "min_height": null,
            "padding": null,
            "grid_auto_rows": null,
            "grid_gap": null,
            "max_width": null,
            "order": null,
            "_view_module_version": "1.2.0",
            "grid_template_areas": null,
            "object_position": null,
            "object_fit": null,
            "grid_auto_columns": null,
            "margin": null,
            "display": null,
            "left": null
          }
        },
        "2e20dbad37f14aa2902991374d0f61be": {
          "model_module": "@jupyter-widgets/controls",
          "model_name": "IntProgressModel",
          "state": {
            "_view_name": "ProgressView",
            "style": "IPY_MODEL_e4e48ee2055d4e1fba98a3986f5d30b6",
            "_dom_classes": [],
            "description": "100%",
            "_model_name": "IntProgressModel",
            "bar_style": "success",
            "max": 1000,
            "_view_module": "@jupyter-widgets/controls",
            "_model_module_version": "1.5.0",
            "value": 1000,
            "_view_count": null,
            "_view_module_version": "1.5.0",
            "orientation": "horizontal",
            "min": 0,
            "description_tooltip": null,
            "_model_module": "@jupyter-widgets/controls",
            "layout": "IPY_MODEL_4045ca0d12a7476da0f4212c6985bed8"
          }
        },
        "6e50a6bfe0dc46fb87c64d4ce665f128": {
          "model_module": "@jupyter-widgets/controls",
          "model_name": "HTMLModel",
          "state": {
            "_view_name": "HTMLView",
            "style": "IPY_MODEL_7a51b73a15cc496c873d781bef8249d8",
            "_dom_classes": [],
            "description": "",
            "_model_name": "HTMLModel",
            "placeholder": "​",
            "_view_module": "@jupyter-widgets/controls",
            "_model_module_version": "1.5.0",
            "value": " 1000/1000 [00:24&lt;00:00, 40.64it/s]",
            "_view_count": null,
            "_view_module_version": "1.5.0",
            "description_tooltip": null,
            "_model_module": "@jupyter-widgets/controls",
            "layout": "IPY_MODEL_1d0702195e6942869215600e44099f0b"
          }
        },
        "e4e48ee2055d4e1fba98a3986f5d30b6": {
          "model_module": "@jupyter-widgets/controls",
          "model_name": "ProgressStyleModel",
          "state": {
            "_view_name": "StyleView",
            "_model_name": "ProgressStyleModel",
            "description_width": "initial",
            "_view_module": "@jupyter-widgets/base",
            "_model_module_version": "1.5.0",
            "_view_count": null,
            "_view_module_version": "1.2.0",
            "bar_color": null,
            "_model_module": "@jupyter-widgets/controls"
          }
        },
        "4045ca0d12a7476da0f4212c6985bed8": {
          "model_module": "@jupyter-widgets/base",
          "model_name": "LayoutModel",
          "state": {
            "_view_name": "LayoutView",
            "grid_template_rows": null,
            "right": null,
            "justify_content": null,
            "_view_module": "@jupyter-widgets/base",
            "overflow": null,
            "_model_module_version": "1.2.0",
            "_view_count": null,
            "flex_flow": null,
            "width": null,
            "min_width": null,
            "border": null,
            "align_items": null,
            "bottom": null,
            "_model_module": "@jupyter-widgets/base",
            "top": null,
            "grid_column": null,
            "overflow_y": null,
            "overflow_x": null,
            "grid_auto_flow": null,
            "grid_area": null,
            "grid_template_columns": null,
            "flex": null,
            "_model_name": "LayoutModel",
            "justify_items": null,
            "grid_row": null,
            "max_height": null,
            "align_content": null,
            "visibility": null,
            "align_self": null,
            "height": null,
            "min_height": null,
            "padding": null,
            "grid_auto_rows": null,
            "grid_gap": null,
            "max_width": null,
            "order": null,
            "_view_module_version": "1.2.0",
            "grid_template_areas": null,
            "object_position": null,
            "object_fit": null,
            "grid_auto_columns": null,
            "margin": null,
            "display": null,
            "left": null
          }
        },
        "7a51b73a15cc496c873d781bef8249d8": {
          "model_module": "@jupyter-widgets/controls",
          "model_name": "DescriptionStyleModel",
          "state": {
            "_view_name": "StyleView",
            "_model_name": "DescriptionStyleModel",
            "description_width": "",
            "_view_module": "@jupyter-widgets/base",
            "_model_module_version": "1.5.0",
            "_view_count": null,
            "_view_module_version": "1.2.0",
            "_model_module": "@jupyter-widgets/controls"
          }
        },
        "1d0702195e6942869215600e44099f0b": {
          "model_module": "@jupyter-widgets/base",
          "model_name": "LayoutModel",
          "state": {
            "_view_name": "LayoutView",
            "grid_template_rows": null,
            "right": null,
            "justify_content": null,
            "_view_module": "@jupyter-widgets/base",
            "overflow": null,
            "_model_module_version": "1.2.0",
            "_view_count": null,
            "flex_flow": null,
            "width": null,
            "min_width": null,
            "border": null,
            "align_items": null,
            "bottom": null,
            "_model_module": "@jupyter-widgets/base",
            "top": null,
            "grid_column": null,
            "overflow_y": null,
            "overflow_x": null,
            "grid_auto_flow": null,
            "grid_area": null,
            "grid_template_columns": null,
            "flex": null,
            "_model_name": "LayoutModel",
            "justify_items": null,
            "grid_row": null,
            "max_height": null,
            "align_content": null,
            "visibility": null,
            "align_self": null,
            "height": null,
            "min_height": null,
            "padding": null,
            "grid_auto_rows": null,
            "grid_gap": null,
            "max_width": null,
            "order": null,
            "_view_module_version": "1.2.0",
            "grid_template_areas": null,
            "object_position": null,
            "object_fit": null,
            "grid_auto_columns": null,
            "margin": null,
            "display": null,
            "left": null
          }
        },
        "e4298e18517642e49a6f2190cc5c01fb": {
          "model_module": "@jupyter-widgets/controls",
          "model_name": "HBoxModel",
          "state": {
            "_view_name": "HBoxView",
            "_dom_classes": [],
            "_model_name": "HBoxModel",
            "_view_module": "@jupyter-widgets/controls",
            "_model_module_version": "1.5.0",
            "_view_count": null,
            "_view_module_version": "1.5.0",
            "box_style": "",
            "layout": "IPY_MODEL_ba7ebc91ea7d4b8f888f88bba5608b34",
            "_model_module": "@jupyter-widgets/controls",
            "children": [
              "IPY_MODEL_4925b2ed006446dc976d10da249aedbb",
              "IPY_MODEL_20c14f0a84624365ab8cd348c0d0c4b8"
            ]
          }
        },
        "ba7ebc91ea7d4b8f888f88bba5608b34": {
          "model_module": "@jupyter-widgets/base",
          "model_name": "LayoutModel",
          "state": {
            "_view_name": "LayoutView",
            "grid_template_rows": null,
            "right": null,
            "justify_content": null,
            "_view_module": "@jupyter-widgets/base",
            "overflow": null,
            "_model_module_version": "1.2.0",
            "_view_count": null,
            "flex_flow": null,
            "width": null,
            "min_width": null,
            "border": null,
            "align_items": null,
            "bottom": null,
            "_model_module": "@jupyter-widgets/base",
            "top": null,
            "grid_column": null,
            "overflow_y": null,
            "overflow_x": null,
            "grid_auto_flow": null,
            "grid_area": null,
            "grid_template_columns": null,
            "flex": null,
            "_model_name": "LayoutModel",
            "justify_items": null,
            "grid_row": null,
            "max_height": null,
            "align_content": null,
            "visibility": null,
            "align_self": null,
            "height": null,
            "min_height": null,
            "padding": null,
            "grid_auto_rows": null,
            "grid_gap": null,
            "max_width": null,
            "order": null,
            "_view_module_version": "1.2.0",
            "grid_template_areas": null,
            "object_position": null,
            "object_fit": null,
            "grid_auto_columns": null,
            "margin": null,
            "display": null,
            "left": null
          }
        },
        "4925b2ed006446dc976d10da249aedbb": {
          "model_module": "@jupyter-widgets/controls",
          "model_name": "IntProgressModel",
          "state": {
            "_view_name": "ProgressView",
            "style": "IPY_MODEL_c359599fcf964ad0a4e2ba37353ea7cd",
            "_dom_classes": [],
            "description": "100%",
            "_model_name": "IntProgressModel",
            "bar_style": "success",
            "max": 1000,
            "_view_module": "@jupyter-widgets/controls",
            "_model_module_version": "1.5.0",
            "value": 1000,
            "_view_count": null,
            "_view_module_version": "1.5.0",
            "orientation": "horizontal",
            "min": 0,
            "description_tooltip": null,
            "_model_module": "@jupyter-widgets/controls",
            "layout": "IPY_MODEL_2afebbbfdc304b80ba30aba087383c96"
          }
        },
        "20c14f0a84624365ab8cd348c0d0c4b8": {
          "model_module": "@jupyter-widgets/controls",
          "model_name": "HTMLModel",
          "state": {
            "_view_name": "HTMLView",
            "style": "IPY_MODEL_cbec24fcdf2c4a8cbec6ce43f30de271",
            "_dom_classes": [],
            "description": "",
            "_model_name": "HTMLModel",
            "placeholder": "​",
            "_view_module": "@jupyter-widgets/controls",
            "_model_module_version": "1.5.0",
            "value": " 1000/1000 [00:19&lt;00:00, 50.87it/s]",
            "_view_count": null,
            "_view_module_version": "1.5.0",
            "description_tooltip": null,
            "_model_module": "@jupyter-widgets/controls",
            "layout": "IPY_MODEL_bf0a9d3bb3774db8ade27d6a4281222f"
          }
        },
        "c359599fcf964ad0a4e2ba37353ea7cd": {
          "model_module": "@jupyter-widgets/controls",
          "model_name": "ProgressStyleModel",
          "state": {
            "_view_name": "StyleView",
            "_model_name": "ProgressStyleModel",
            "description_width": "initial",
            "_view_module": "@jupyter-widgets/base",
            "_model_module_version": "1.5.0",
            "_view_count": null,
            "_view_module_version": "1.2.0",
            "bar_color": null,
            "_model_module": "@jupyter-widgets/controls"
          }
        },
        "2afebbbfdc304b80ba30aba087383c96": {
          "model_module": "@jupyter-widgets/base",
          "model_name": "LayoutModel",
          "state": {
            "_view_name": "LayoutView",
            "grid_template_rows": null,
            "right": null,
            "justify_content": null,
            "_view_module": "@jupyter-widgets/base",
            "overflow": null,
            "_model_module_version": "1.2.0",
            "_view_count": null,
            "flex_flow": null,
            "width": null,
            "min_width": null,
            "border": null,
            "align_items": null,
            "bottom": null,
            "_model_module": "@jupyter-widgets/base",
            "top": null,
            "grid_column": null,
            "overflow_y": null,
            "overflow_x": null,
            "grid_auto_flow": null,
            "grid_area": null,
            "grid_template_columns": null,
            "flex": null,
            "_model_name": "LayoutModel",
            "justify_items": null,
            "grid_row": null,
            "max_height": null,
            "align_content": null,
            "visibility": null,
            "align_self": null,
            "height": null,
            "min_height": null,
            "padding": null,
            "grid_auto_rows": null,
            "grid_gap": null,
            "max_width": null,
            "order": null,
            "_view_module_version": "1.2.0",
            "grid_template_areas": null,
            "object_position": null,
            "object_fit": null,
            "grid_auto_columns": null,
            "margin": null,
            "display": null,
            "left": null
          }
        },
        "cbec24fcdf2c4a8cbec6ce43f30de271": {
          "model_module": "@jupyter-widgets/controls",
          "model_name": "DescriptionStyleModel",
          "state": {
            "_view_name": "StyleView",
            "_model_name": "DescriptionStyleModel",
            "description_width": "",
            "_view_module": "@jupyter-widgets/base",
            "_model_module_version": "1.5.0",
            "_view_count": null,
            "_view_module_version": "1.2.0",
            "_model_module": "@jupyter-widgets/controls"
          }
        },
        "bf0a9d3bb3774db8ade27d6a4281222f": {
          "model_module": "@jupyter-widgets/base",
          "model_name": "LayoutModel",
          "state": {
            "_view_name": "LayoutView",
            "grid_template_rows": null,
            "right": null,
            "justify_content": null,
            "_view_module": "@jupyter-widgets/base",
            "overflow": null,
            "_model_module_version": "1.2.0",
            "_view_count": null,
            "flex_flow": null,
            "width": null,
            "min_width": null,
            "border": null,
            "align_items": null,
            "bottom": null,
            "_model_module": "@jupyter-widgets/base",
            "top": null,
            "grid_column": null,
            "overflow_y": null,
            "overflow_x": null,
            "grid_auto_flow": null,
            "grid_area": null,
            "grid_template_columns": null,
            "flex": null,
            "_model_name": "LayoutModel",
            "justify_items": null,
            "grid_row": null,
            "max_height": null,
            "align_content": null,
            "visibility": null,
            "align_self": null,
            "height": null,
            "min_height": null,
            "padding": null,
            "grid_auto_rows": null,
            "grid_gap": null,
            "max_width": null,
            "order": null,
            "_view_module_version": "1.2.0",
            "grid_template_areas": null,
            "object_position": null,
            "object_fit": null,
            "grid_auto_columns": null,
            "margin": null,
            "display": null,
            "left": null
          }
        },
        "f55cfa27a35e4e7fa7bf25a47fb85800": {
          "model_module": "@jupyter-widgets/controls",
          "model_name": "HBoxModel",
          "state": {
            "_view_name": "HBoxView",
            "_dom_classes": [],
            "_model_name": "HBoxModel",
            "_view_module": "@jupyter-widgets/controls",
            "_model_module_version": "1.5.0",
            "_view_count": null,
            "_view_module_version": "1.5.0",
            "box_style": "",
            "layout": "IPY_MODEL_99a45192580e4fcf8ea795bb6ed7b3a4",
            "_model_module": "@jupyter-widgets/controls",
            "children": [
              "IPY_MODEL_595019373dd640c28fee58f986fd403c",
              "IPY_MODEL_8f41ae18e3d346d38ba65e2b2700d65b"
            ]
          }
        },
        "99a45192580e4fcf8ea795bb6ed7b3a4": {
          "model_module": "@jupyter-widgets/base",
          "model_name": "LayoutModel",
          "state": {
            "_view_name": "LayoutView",
            "grid_template_rows": null,
            "right": null,
            "justify_content": null,
            "_view_module": "@jupyter-widgets/base",
            "overflow": null,
            "_model_module_version": "1.2.0",
            "_view_count": null,
            "flex_flow": null,
            "width": null,
            "min_width": null,
            "border": null,
            "align_items": null,
            "bottom": null,
            "_model_module": "@jupyter-widgets/base",
            "top": null,
            "grid_column": null,
            "overflow_y": null,
            "overflow_x": null,
            "grid_auto_flow": null,
            "grid_area": null,
            "grid_template_columns": null,
            "flex": null,
            "_model_name": "LayoutModel",
            "justify_items": null,
            "grid_row": null,
            "max_height": null,
            "align_content": null,
            "visibility": null,
            "align_self": null,
            "height": null,
            "min_height": null,
            "padding": null,
            "grid_auto_rows": null,
            "grid_gap": null,
            "max_width": null,
            "order": null,
            "_view_module_version": "1.2.0",
            "grid_template_areas": null,
            "object_position": null,
            "object_fit": null,
            "grid_auto_columns": null,
            "margin": null,
            "display": null,
            "left": null
          }
        },
        "595019373dd640c28fee58f986fd403c": {
          "model_module": "@jupyter-widgets/controls",
          "model_name": "IntProgressModel",
          "state": {
            "_view_name": "ProgressView",
            "style": "IPY_MODEL_e25525cbe321492cbdd06d173196916c",
            "_dom_classes": [],
            "description": "100%",
            "_model_name": "IntProgressModel",
            "bar_style": "success",
            "max": 1000,
            "_view_module": "@jupyter-widgets/controls",
            "_model_module_version": "1.5.0",
            "value": 1000,
            "_view_count": null,
            "_view_module_version": "1.5.0",
            "orientation": "horizontal",
            "min": 0,
            "description_tooltip": null,
            "_model_module": "@jupyter-widgets/controls",
            "layout": "IPY_MODEL_f2bd9b1742b14b90bff035ccbbe36207"
          }
        },
        "8f41ae18e3d346d38ba65e2b2700d65b": {
          "model_module": "@jupyter-widgets/controls",
          "model_name": "HTMLModel",
          "state": {
            "_view_name": "HTMLView",
            "style": "IPY_MODEL_c77182b62d5e4e979de58306ee28e572",
            "_dom_classes": [],
            "description": "",
            "_model_name": "HTMLModel",
            "placeholder": "​",
            "_view_module": "@jupyter-widgets/controls",
            "_model_module_version": "1.5.0",
            "value": " 1000/1000 [00:19&lt;00:00, 50.23it/s]",
            "_view_count": null,
            "_view_module_version": "1.5.0",
            "description_tooltip": null,
            "_model_module": "@jupyter-widgets/controls",
            "layout": "IPY_MODEL_3802e1404f5f4c2eb1358228e313b60b"
          }
        },
        "e25525cbe321492cbdd06d173196916c": {
          "model_module": "@jupyter-widgets/controls",
          "model_name": "ProgressStyleModel",
          "state": {
            "_view_name": "StyleView",
            "_model_name": "ProgressStyleModel",
            "description_width": "initial",
            "_view_module": "@jupyter-widgets/base",
            "_model_module_version": "1.5.0",
            "_view_count": null,
            "_view_module_version": "1.2.0",
            "bar_color": null,
            "_model_module": "@jupyter-widgets/controls"
          }
        },
        "f2bd9b1742b14b90bff035ccbbe36207": {
          "model_module": "@jupyter-widgets/base",
          "model_name": "LayoutModel",
          "state": {
            "_view_name": "LayoutView",
            "grid_template_rows": null,
            "right": null,
            "justify_content": null,
            "_view_module": "@jupyter-widgets/base",
            "overflow": null,
            "_model_module_version": "1.2.0",
            "_view_count": null,
            "flex_flow": null,
            "width": null,
            "min_width": null,
            "border": null,
            "align_items": null,
            "bottom": null,
            "_model_module": "@jupyter-widgets/base",
            "top": null,
            "grid_column": null,
            "overflow_y": null,
            "overflow_x": null,
            "grid_auto_flow": null,
            "grid_area": null,
            "grid_template_columns": null,
            "flex": null,
            "_model_name": "LayoutModel",
            "justify_items": null,
            "grid_row": null,
            "max_height": null,
            "align_content": null,
            "visibility": null,
            "align_self": null,
            "height": null,
            "min_height": null,
            "padding": null,
            "grid_auto_rows": null,
            "grid_gap": null,
            "max_width": null,
            "order": null,
            "_view_module_version": "1.2.0",
            "grid_template_areas": null,
            "object_position": null,
            "object_fit": null,
            "grid_auto_columns": null,
            "margin": null,
            "display": null,
            "left": null
          }
        },
        "c77182b62d5e4e979de58306ee28e572": {
          "model_module": "@jupyter-widgets/controls",
          "model_name": "DescriptionStyleModel",
          "state": {
            "_view_name": "StyleView",
            "_model_name": "DescriptionStyleModel",
            "description_width": "",
            "_view_module": "@jupyter-widgets/base",
            "_model_module_version": "1.5.0",
            "_view_count": null,
            "_view_module_version": "1.2.0",
            "_model_module": "@jupyter-widgets/controls"
          }
        },
        "3802e1404f5f4c2eb1358228e313b60b": {
          "model_module": "@jupyter-widgets/base",
          "model_name": "LayoutModel",
          "state": {
            "_view_name": "LayoutView",
            "grid_template_rows": null,
            "right": null,
            "justify_content": null,
            "_view_module": "@jupyter-widgets/base",
            "overflow": null,
            "_model_module_version": "1.2.0",
            "_view_count": null,
            "flex_flow": null,
            "width": null,
            "min_width": null,
            "border": null,
            "align_items": null,
            "bottom": null,
            "_model_module": "@jupyter-widgets/base",
            "top": null,
            "grid_column": null,
            "overflow_y": null,
            "overflow_x": null,
            "grid_auto_flow": null,
            "grid_area": null,
            "grid_template_columns": null,
            "flex": null,
            "_model_name": "LayoutModel",
            "justify_items": null,
            "grid_row": null,
            "max_height": null,
            "align_content": null,
            "visibility": null,
            "align_self": null,
            "height": null,
            "min_height": null,
            "padding": null,
            "grid_auto_rows": null,
            "grid_gap": null,
            "max_width": null,
            "order": null,
            "_view_module_version": "1.2.0",
            "grid_template_areas": null,
            "object_position": null,
            "object_fit": null,
            "grid_auto_columns": null,
            "margin": null,
            "display": null,
            "left": null
          }
        },
        "d1b6afb6da2246a18602f9ea07c5086d": {
          "model_module": "@jupyter-widgets/controls",
          "model_name": "HBoxModel",
          "state": {
            "_view_name": "HBoxView",
            "_dom_classes": [],
            "_model_name": "HBoxModel",
            "_view_module": "@jupyter-widgets/controls",
            "_model_module_version": "1.5.0",
            "_view_count": null,
            "_view_module_version": "1.5.0",
            "box_style": "",
            "layout": "IPY_MODEL_b2d3ff474a2c45d18d30b7ba4ae74368",
            "_model_module": "@jupyter-widgets/controls",
            "children": [
              "IPY_MODEL_b5a7df763eb5444c867bfa1be18be739",
              "IPY_MODEL_c40b53ea6a394793b76e713ad9660813"
            ]
          }
        },
        "b2d3ff474a2c45d18d30b7ba4ae74368": {
          "model_module": "@jupyter-widgets/base",
          "model_name": "LayoutModel",
          "state": {
            "_view_name": "LayoutView",
            "grid_template_rows": null,
            "right": null,
            "justify_content": null,
            "_view_module": "@jupyter-widgets/base",
            "overflow": null,
            "_model_module_version": "1.2.0",
            "_view_count": null,
            "flex_flow": null,
            "width": null,
            "min_width": null,
            "border": null,
            "align_items": null,
            "bottom": null,
            "_model_module": "@jupyter-widgets/base",
            "top": null,
            "grid_column": null,
            "overflow_y": null,
            "overflow_x": null,
            "grid_auto_flow": null,
            "grid_area": null,
            "grid_template_columns": null,
            "flex": null,
            "_model_name": "LayoutModel",
            "justify_items": null,
            "grid_row": null,
            "max_height": null,
            "align_content": null,
            "visibility": null,
            "align_self": null,
            "height": null,
            "min_height": null,
            "padding": null,
            "grid_auto_rows": null,
            "grid_gap": null,
            "max_width": null,
            "order": null,
            "_view_module_version": "1.2.0",
            "grid_template_areas": null,
            "object_position": null,
            "object_fit": null,
            "grid_auto_columns": null,
            "margin": null,
            "display": null,
            "left": null
          }
        },
        "b5a7df763eb5444c867bfa1be18be739": {
          "model_module": "@jupyter-widgets/controls",
          "model_name": "IntProgressModel",
          "state": {
            "_view_name": "ProgressView",
            "style": "IPY_MODEL_021eeac1f4c94a2daed1157593b94d2c",
            "_dom_classes": [],
            "description": "100%",
            "_model_name": "IntProgressModel",
            "bar_style": "success",
            "max": 1000,
            "_view_module": "@jupyter-widgets/controls",
            "_model_module_version": "1.5.0",
            "value": 1000,
            "_view_count": null,
            "_view_module_version": "1.5.0",
            "orientation": "horizontal",
            "min": 0,
            "description_tooltip": null,
            "_model_module": "@jupyter-widgets/controls",
            "layout": "IPY_MODEL_43970edcbc41417780a7f4ce07b2c384"
          }
        },
        "c40b53ea6a394793b76e713ad9660813": {
          "model_module": "@jupyter-widgets/controls",
          "model_name": "HTMLModel",
          "state": {
            "_view_name": "HTMLView",
            "style": "IPY_MODEL_b96155b44ff04454b7e0d680ec7be127",
            "_dom_classes": [],
            "description": "",
            "_model_name": "HTMLModel",
            "placeholder": "​",
            "_view_module": "@jupyter-widgets/controls",
            "_model_module_version": "1.5.0",
            "value": " 1000/1000 [00:20&lt;00:00, 49.64it/s]",
            "_view_count": null,
            "_view_module_version": "1.5.0",
            "description_tooltip": null,
            "_model_module": "@jupyter-widgets/controls",
            "layout": "IPY_MODEL_5872bd82211c42b8b66771f2d0d1ac5c"
          }
        },
        "021eeac1f4c94a2daed1157593b94d2c": {
          "model_module": "@jupyter-widgets/controls",
          "model_name": "ProgressStyleModel",
          "state": {
            "_view_name": "StyleView",
            "_model_name": "ProgressStyleModel",
            "description_width": "initial",
            "_view_module": "@jupyter-widgets/base",
            "_model_module_version": "1.5.0",
            "_view_count": null,
            "_view_module_version": "1.2.0",
            "bar_color": null,
            "_model_module": "@jupyter-widgets/controls"
          }
        },
        "43970edcbc41417780a7f4ce07b2c384": {
          "model_module": "@jupyter-widgets/base",
          "model_name": "LayoutModel",
          "state": {
            "_view_name": "LayoutView",
            "grid_template_rows": null,
            "right": null,
            "justify_content": null,
            "_view_module": "@jupyter-widgets/base",
            "overflow": null,
            "_model_module_version": "1.2.0",
            "_view_count": null,
            "flex_flow": null,
            "width": null,
            "min_width": null,
            "border": null,
            "align_items": null,
            "bottom": null,
            "_model_module": "@jupyter-widgets/base",
            "top": null,
            "grid_column": null,
            "overflow_y": null,
            "overflow_x": null,
            "grid_auto_flow": null,
            "grid_area": null,
            "grid_template_columns": null,
            "flex": null,
            "_model_name": "LayoutModel",
            "justify_items": null,
            "grid_row": null,
            "max_height": null,
            "align_content": null,
            "visibility": null,
            "align_self": null,
            "height": null,
            "min_height": null,
            "padding": null,
            "grid_auto_rows": null,
            "grid_gap": null,
            "max_width": null,
            "order": null,
            "_view_module_version": "1.2.0",
            "grid_template_areas": null,
            "object_position": null,
            "object_fit": null,
            "grid_auto_columns": null,
            "margin": null,
            "display": null,
            "left": null
          }
        },
        "b96155b44ff04454b7e0d680ec7be127": {
          "model_module": "@jupyter-widgets/controls",
          "model_name": "DescriptionStyleModel",
          "state": {
            "_view_name": "StyleView",
            "_model_name": "DescriptionStyleModel",
            "description_width": "",
            "_view_module": "@jupyter-widgets/base",
            "_model_module_version": "1.5.0",
            "_view_count": null,
            "_view_module_version": "1.2.0",
            "_model_module": "@jupyter-widgets/controls"
          }
        },
        "5872bd82211c42b8b66771f2d0d1ac5c": {
          "model_module": "@jupyter-widgets/base",
          "model_name": "LayoutModel",
          "state": {
            "_view_name": "LayoutView",
            "grid_template_rows": null,
            "right": null,
            "justify_content": null,
            "_view_module": "@jupyter-widgets/base",
            "overflow": null,
            "_model_module_version": "1.2.0",
            "_view_count": null,
            "flex_flow": null,
            "width": null,
            "min_width": null,
            "border": null,
            "align_items": null,
            "bottom": null,
            "_model_module": "@jupyter-widgets/base",
            "top": null,
            "grid_column": null,
            "overflow_y": null,
            "overflow_x": null,
            "grid_auto_flow": null,
            "grid_area": null,
            "grid_template_columns": null,
            "flex": null,
            "_model_name": "LayoutModel",
            "justify_items": null,
            "grid_row": null,
            "max_height": null,
            "align_content": null,
            "visibility": null,
            "align_self": null,
            "height": null,
            "min_height": null,
            "padding": null,
            "grid_auto_rows": null,
            "grid_gap": null,
            "max_width": null,
            "order": null,
            "_view_module_version": "1.2.0",
            "grid_template_areas": null,
            "object_position": null,
            "object_fit": null,
            "grid_auto_columns": null,
            "margin": null,
            "display": null,
            "left": null
          }
        }
      }
    }
  },
  "cells": [
    {
      "cell_type": "markdown",
      "metadata": {
        "id": "view-in-github",
        "colab_type": "text"
      },
      "source": [
        "<a href=\"https://colab.research.google.com/github/stgran/Coursework/blob/master/lime_explanation_cactus_model.ipynb\" target=\"_parent\"><img src=\"https://colab.research.google.com/assets/colab-badge.svg\" alt=\"Open In Colab\"/></a>"
      ]
    },
    {
      "cell_type": "code",
      "metadata": {
        "id": "VSD0DYmJQPi5",
        "colab_type": "code",
        "colab": {
          "base_uri": "https://localhost:8080/",
          "height": 34
        },
        "outputId": "19853f83-148c-478b-ffbf-17e2946c9ab2"
      },
      "source": [
        "## connecting notebook to google drive\n",
        "# click on the URL, give permissions and copy and paste the authorisation code to connect\n",
        "from google.colab import drive\n",
        "drive.mount('/gdrive')"
      ],
      "execution_count": null,
      "outputs": [
        {
          "output_type": "stream",
          "text": [
            "Drive already mounted at /gdrive; to attempt to forcibly remount, call drive.mount(\"/gdrive\", force_remount=True).\n"
          ],
          "name": "stdout"
        }
      ]
    },
    {
      "cell_type": "markdown",
      "metadata": {
        "id": "XyPNbCnOlLZO",
        "colab_type": "text"
      },
      "source": [
        "# Local Interpretable Model-Agnostic Explanations (LIME) for Cactus Classification Model (Soren)\n",
        "This code is explained in more detail and with more context in my article [\"Model interpretation with LIME and concluding remarks\"](https://medium.com/@soren.gran/part-4-model-interpretation-with-lime-and-concluding-remarks-fdcfa6dae667).\n",
        "\n",
        "This implementation of LIME was taken largely from [Marco Tulio Correia Ribeiro's tutorial](https://github.com/marcotcr/lime/blob/master/doc/notebooks/Tutorial%20-%20Image%20Classification%20Keras.ipynb?fbclid=IwAR2zmS6xUc9zbd2esk3pGc1dWxR8adF6IEXjx-q6Yq-CJ9KGPHO_0Y7XBmE).\n",
        "\n",
        "This LIME implementation is performed on a convolutional neural network model for cactus classification using [Kaggle's cactus dataset](https://www.kaggle.com/c/aerial-cactus-identification/data)."
      ]
    },
    {
      "cell_type": "markdown",
      "metadata": {
        "id": "nk4qgAMEQVR2",
        "colab_type": "text"
      },
      "source": [
        "## Importing Libraries"
      ]
    },
    {
      "cell_type": "code",
      "metadata": {
        "id": "OFzdmnAsA0yZ",
        "colab_type": "code",
        "colab": {
          "base_uri": "https://localhost:8080/",
          "height": 360
        },
        "outputId": "633a2c8c-0ae0-450f-ca79-f144ccfc5f87"
      },
      "source": [
        "!pip install lime\n",
        "\n",
        "from keras.applications import inception_v3 as inc_net\n",
        "from keras.preprocessing import image\n",
        "from lime import lime_image\n",
        "import pandas as pd\n",
        "import matplotlib.pyplot as plt\n",
        "import numpy as np\n",
        "import glob\n",
        "import imageio\n",
        "import os\n",
        "import PIL\n",
        "import cv2\n",
        "\n",
        "%tensorflow_version 1.x\n",
        "\n",
        "import keras\n",
        "import tensorflow as tf\n",
        "from keras.layers import Input, Dense, Conv2D, UpSampling2D, MaxPool2D, Flatten, BatchNormalization\n",
        "from keras.models import Model, load_model\n",
        "\n",
        "from skimage.segmentation import mark_boundaries"
      ],
      "execution_count": null,
      "outputs": [
        {
          "output_type": "stream",
          "text": [
            "Requirement already satisfied: lime in /usr/local/lib/python3.6/dist-packages (0.2.0.0)\n",
            "Requirement already satisfied: scikit-learn>=0.18 in /usr/local/lib/python3.6/dist-packages (from lime) (0.22.2.post1)\n",
            "Requirement already satisfied: tqdm in /usr/local/lib/python3.6/dist-packages (from lime) (4.38.0)\n",
            "Requirement already satisfied: pillow==5.4.1 in /usr/local/lib/python3.6/dist-packages (from lime) (5.4.1)\n",
            "Requirement already satisfied: scipy in /usr/local/lib/python3.6/dist-packages (from lime) (1.4.1)\n",
            "Requirement already satisfied: matplotlib in /usr/local/lib/python3.6/dist-packages (from lime) (3.2.1)\n",
            "Requirement already satisfied: scikit-image>=0.12 in /usr/local/lib/python3.6/dist-packages (from lime) (0.16.2)\n",
            "Requirement already satisfied: numpy in /usr/local/lib/python3.6/dist-packages (from lime) (1.18.3)\n",
            "Requirement already satisfied: joblib>=0.11 in /usr/local/lib/python3.6/dist-packages (from scikit-learn>=0.18->lime) (0.14.1)\n",
            "Requirement already satisfied: cycler>=0.10 in /usr/local/lib/python3.6/dist-packages (from matplotlib->lime) (0.10.0)\n",
            "Requirement already satisfied: pyparsing!=2.0.4,!=2.1.2,!=2.1.6,>=2.0.1 in /usr/local/lib/python3.6/dist-packages (from matplotlib->lime) (2.4.7)\n",
            "Requirement already satisfied: python-dateutil>=2.1 in /usr/local/lib/python3.6/dist-packages (from matplotlib->lime) (2.8.1)\n",
            "Requirement already satisfied: kiwisolver>=1.0.1 in /usr/local/lib/python3.6/dist-packages (from matplotlib->lime) (1.2.0)\n",
            "Requirement already satisfied: networkx>=2.0 in /usr/local/lib/python3.6/dist-packages (from scikit-image>=0.12->lime) (2.4)\n",
            "Requirement already satisfied: imageio>=2.3.0 in /usr/local/lib/python3.6/dist-packages (from scikit-image>=0.12->lime) (2.4.1)\n",
            "Requirement already satisfied: PyWavelets>=0.4.0 in /usr/local/lib/python3.6/dist-packages (from scikit-image>=0.12->lime) (1.1.1)\n",
            "Requirement already satisfied: six in /usr/local/lib/python3.6/dist-packages (from cycler>=0.10->matplotlib->lime) (1.12.0)\n",
            "Requirement already satisfied: decorator>=4.3.0 in /usr/local/lib/python3.6/dist-packages (from networkx>=2.0->scikit-image>=0.12->lime) (4.4.2)\n",
            "TensorFlow is already loaded. Please restart the runtime to change versions.\n"
          ],
          "name": "stdout"
        }
      ]
    },
    {
      "cell_type": "markdown",
      "metadata": {
        "id": "XAX_DB_4QT5k",
        "colab_type": "text"
      },
      "source": [
        "## Importing Model"
      ]
    },
    {
      "cell_type": "code",
      "metadata": {
        "id": "AN5ArR5PQj8c",
        "colab_type": "code",
        "colab": {}
      },
      "source": [
        "# make sure to place the folder in the main section of your google drive to connect to this folder\n",
        "os.chdir('/gdrive/My Drive/Cactus')"
      ],
      "execution_count": null,
      "outputs": []
    },
    {
      "cell_type": "code",
      "metadata": {
        "id": "vWfmLwgl2hLz",
        "colab_type": "code",
        "colab": {}
      },
      "source": [
        "train_label = pd.read_csv('train.csv')\n",
        "sample_submission = pd.read_csv('sample_submission.csv')"
      ],
      "execution_count": null,
      "outputs": []
    },
    {
      "cell_type": "markdown",
      "metadata": {
        "id": "Lh9r7dKfYME6",
        "colab_type": "text"
      },
      "source": [
        "## Preparing our model\n",
        "We are working with an autoencoder-inspired convolutional neural network. For more information on this model, please check out [Part 3](https://medium.com/@darya.dyachkova/part-3-model-selection-and-implementation-with-convolutional-neural-networks-cnn-294a581b01ea).  \n",
        "We will build the model but we do not need to train it. Instead, we will import our previous weights, which we got from training earlier, into our model.  \n",
        "The next two cells build the model. The first cell contains the fully connected layer and the second cell contains the rest of the CNN."
      ]
    },
    {
      "cell_type": "code",
      "metadata": {
        "id": "9YeZDyCpoTXM",
        "colab_type": "code",
        "colab": {}
      },
      "source": [
        "# Fully Connected Layer\n",
        "def fc(enco):\n",
        "    flat = Flatten()(enco)\n",
        "    den = Dense(128, activation='relu')(flat) \n",
        "    out = Dense(2, activation='softmax')(den)\n",
        "    return out"
      ],
      "execution_count": null,
      "outputs": []
    },
    {
      "cell_type": "code",
      "metadata": {
        "id": "qMilBvgS6JmU",
        "colab_type": "code",
        "colab": {}
      },
      "source": [
        "# Convolutional Neural Network\n",
        "def encoder_2(input_img_2):\n",
        "  encoded_2 = Conv2D(filters = 256, kernel_size = (3, 3), activation='relu', padding='same')(input_img_2)\n",
        "  encoded_2 = Conv2D(filters = 256, kernel_size = (3, 3), activation='relu', padding='same')(encoded_2)\n",
        "  encoded_2 = MaxPool2D(pool_size = (2, 2), padding='same', strides=2)(encoded_2)\n",
        "  print(encoded_2.shape)\n",
        "\n",
        "  # Conv2 #\n",
        "  encoded_2 = Conv2D(filters = 128, kernel_size = (3, 3), activation='relu', padding='same')(encoded_2)\n",
        "  encoded_2 = Conv2D(filters = 128, kernel_size = (3, 3), activation='relu', padding='same')(encoded_2)\n",
        "  encoded_2 = MaxPool2D(pool_size = (2, 2), padding='same', strides=2)(encoded_2)\n",
        "  print(encoded_2.shape)\n",
        "\n",
        "  # Conv3 #\n",
        "  encoded_2 = Conv2D(filters = 64, kernel_size = (3, 3), activation='relu', padding='same')(encoded_2)\n",
        "  encoded_2 = Conv2D(filters = 64, kernel_size = (3, 3), activation='relu', padding='same')(encoded_2)\n",
        "  encoded_2 = MaxPool2D(pool_size = (2, 2), padding='same', strides=2)(encoded_2)\n",
        "  print(encoded_2.shape)\n",
        "  return encoded_2"
      ],
      "execution_count": null,
      "outputs": []
    },
    {
      "cell_type": "code",
      "metadata": {
        "id": "t_uZHrgUoTU-",
        "colab_type": "code",
        "colab": {
          "base_uri": "https://localhost:8080/",
          "height": 68
        },
        "outputId": "cd302801-72db-4123-f6ae-a1828abbfc89"
      },
      "source": [
        "# Putting the model together\n",
        "input_img = Input(shape = (32, 32, 3))\n",
        "encode = encoder_2(input_img)\n",
        "full_model = Model(input_img,fc(encode))"
      ],
      "execution_count": null,
      "outputs": [
        {
          "output_type": "stream",
          "text": [
            "(None, 16, 16, 256)\n",
            "(None, 8, 8, 128)\n",
            "(None, 4, 4, 64)\n"
          ],
          "name": "stdout"
        }
      ]
    },
    {
      "cell_type": "markdown",
      "metadata": {
        "id": "xu2PbHwIRO2w",
        "colab_type": "text"
      },
      "source": [
        "## Next we load our model weights\n",
        "Training a convolutional neural network takes a long time. We have already trained our model (see [Part 3](https://medium.com/@darya.dyachkova/part-3-model-selection-and-implementation-with-convolutional-neural-networks-cnn-294a581b01ea))."
      ]
    },
    {
      "cell_type": "code",
      "metadata": {
        "id": "STgHP_Clp9v1",
        "colab_type": "code",
        "colab": {}
      },
      "source": [
        "full_model.load_weights('classification_model.h5')"
      ],
      "execution_count": null,
      "outputs": []
    },
    {
      "cell_type": "code",
      "metadata": {
        "id": "PRfe8s3Lx7FJ",
        "colab_type": "code",
        "colab": {
          "base_uri": "https://localhost:8080/",
          "height": 1000
        },
        "outputId": "5cb8d8e7-0f80-48b4-9950-fb96de4cc43f"
      },
      "source": [
        "full_model.weights"
      ],
      "execution_count": null,
      "outputs": [
        {
          "output_type": "execute_result",
          "data": {
            "text/plain": [
              "[<tf.Variable 'conv2d_7/kernel:0' shape=(3, 3, 3, 256) dtype=float32, numpy=\n",
              " array([[[[ 1.51741374e-02, -2.08636168e-02,  4.06656712e-02, ...,\n",
              "           -4.44191098e-02, -3.01180296e-02,  2.70537902e-02],\n",
              "          [-4.15976904e-02, -2.77353786e-02,  7.05368444e-02, ...,\n",
              "            1.60697922e-02,  3.40429954e-02, -3.10876174e-03],\n",
              "          [ 3.53286089e-03, -5.51937111e-02,  5.62381931e-02, ...,\n",
              "           -1.03718163e-02,  2.82081980e-02,  6.99565336e-02]],\n",
              " \n",
              "         [[ 4.20638509e-02,  2.38795672e-02, -3.81743684e-02, ...,\n",
              "            3.86105385e-03, -3.91250812e-02, -1.29590631e-02],\n",
              "          [-5.11381812e-02,  9.51097384e-02,  5.01162522e-02, ...,\n",
              "            2.72790045e-02, -2.76702754e-02,  2.77454164e-02],\n",
              "          [-9.01124068e-03, -1.46734212e-02,  3.65227573e-02, ...,\n",
              "            1.20612234e-02, -2.92597264e-02,  9.99068320e-02]],\n",
              " \n",
              "         [[-6.15630485e-03,  4.04334664e-02,  2.15416495e-02, ...,\n",
              "           -3.47921699e-02, -8.03890731e-03, -1.40605038e-02],\n",
              "          [ 2.61299778e-02,  1.33972131e-02,  1.26412965e-03, ...,\n",
              "           -5.42763099e-02,  3.74141373e-02,  2.35934034e-02],\n",
              "          [-3.27238850e-02, -2.98106205e-02, -2.29694583e-02, ...,\n",
              "           -8.22670385e-03, -3.06229051e-02,  7.22163077e-03]]],\n",
              " \n",
              " \n",
              "        [[[-4.60655335e-03, -2.03545336e-02,  1.23172570e-02, ...,\n",
              "           -3.15964147e-02,  2.48324703e-02,  4.77780439e-02],\n",
              "          [-2.27368996e-02, -8.04748852e-05,  3.90592702e-02, ...,\n",
              "            8.23279005e-03, -4.09401953e-02,  1.51197379e-02],\n",
              "          [ 3.36735621e-02, -3.02823763e-02,  4.16404903e-02, ...,\n",
              "           -1.07849315e-02,  2.70030019e-03,  4.24673744e-02]],\n",
              " \n",
              "         [[-2.55642906e-02,  2.59111635e-02,  5.01332395e-02, ...,\n",
              "           -2.33052224e-02, -3.44588012e-02,  2.82111466e-02],\n",
              "          [ 2.05399655e-02,  9.06191021e-02,  3.17427533e-04, ...,\n",
              "            6.92365691e-03, -9.44334641e-03, -1.04168765e-02],\n",
              "          [-5.59236342e-03, -6.56655803e-02,  8.87757074e-03, ...,\n",
              "           -5.78882359e-02, -4.28855456e-02,  7.06344321e-02]],\n",
              " \n",
              "         [[-3.80046144e-02,  5.08376881e-02,  2.63530836e-02, ...,\n",
              "            2.61394251e-02,  3.86447683e-02, -1.98546965e-02],\n",
              "          [-1.59710459e-02,  6.76724911e-02,  2.59597152e-02, ...,\n",
              "            1.28672225e-02, -1.23538179e-02,  1.68855395e-02],\n",
              "          [ 2.60043740e-02, -3.82143036e-02,  5.86138852e-02, ...,\n",
              "           -4.53669988e-02, -3.73112820e-02,  4.44219895e-02]]],\n",
              " \n",
              " \n",
              "        [[[-8.56013410e-03, -4.18684864e-03,  1.06007019e-02, ...,\n",
              "            3.25231180e-02, -1.33247711e-02,  8.81589670e-03],\n",
              "          [-3.46350074e-02,  5.46237938e-02, -2.70551275e-02, ...,\n",
              "            2.05156282e-02,  4.20359746e-02, -1.56841744e-02],\n",
              "          [ 1.93326510e-02, -8.19362178e-02, -5.26166579e-04, ...,\n",
              "           -1.07406918e-02,  3.35773937e-02,  8.14507678e-02]],\n",
              " \n",
              "         [[ 3.68204676e-02, -6.56341296e-03, -4.37936224e-02, ...,\n",
              "            2.43116859e-02, -2.86671445e-02,  7.11264536e-02],\n",
              "          [-3.49853262e-02,  8.51008892e-02, -3.36037241e-02, ...,\n",
              "            2.91462205e-02,  4.07653451e-02, -2.54224967e-02],\n",
              "          [ 1.80195663e-02, -6.38456121e-02, -9.95518826e-03, ...,\n",
              "            1.52654154e-02,  4.25019069e-03,  9.97758210e-02]],\n",
              " \n",
              "         [[-2.26871856e-02,  5.28008491e-02, -2.25141663e-02, ...,\n",
              "            4.46675569e-02,  5.84175251e-02,  3.00888270e-02],\n",
              "          [-5.65072522e-02,  7.52982274e-02,  2.54459679e-02, ...,\n",
              "           -3.53217758e-02,  1.09174056e-02,  1.36297587e-02],\n",
              "          [ 5.30521339e-03,  4.78824675e-02,  2.48561129e-02, ...,\n",
              "           -7.32198916e-03, -3.26026864e-02,  9.96005759e-02]]]],\n",
              "       dtype=float32)>,\n",
              " <tf.Variable 'conv2d_7/bias:0' shape=(256,) dtype=float32, numpy=\n",
              " array([-4.57218802e-03,  1.25434563e-01, -3.30283821e-01, -3.16947669e-01,\n",
              "        -1.01011807e-04,  1.40601937e-02, -3.97158368e-03, -3.75888318e-01,\n",
              "         1.32126212e-01, -4.72167492e-01, -3.37966532e-03,  3.79716344e-02,\n",
              "        -1.02096938e-01, -4.04184669e-01, -1.91640260e-03, -4.61703598e-01,\n",
              "        -3.61368865e-01,  2.70581305e-01,  3.79335582e-02, -3.01680803e-01,\n",
              "        -4.01610166e-01, -1.18207391e-02,  1.55478716e-02,  5.90631701e-02,\n",
              "        -1.60006732e-01, -1.24550844e-02,  1.80345699e-01, -4.27571893e-01,\n",
              "        -2.67967698e-03, -4.49259728e-01,  8.97124857e-02,  2.19121184e-02,\n",
              "        -3.97071779e-01,  1.94677413e-01,  1.53339596e-03, -2.88579404e-01,\n",
              "        -8.76943488e-03,  6.78047538e-02,  1.15832379e-02, -1.12900222e-02,\n",
              "         1.13944970e-01,  7.23603964e-02,  6.32709339e-02,  1.16783893e-02,\n",
              "        -4.51579183e-01, -3.61635257e-03,  1.67911965e-02, -1.57435462e-02,\n",
              "        -1.55993640e-01,  1.12261288e-01,  4.36186120e-02,  4.35120100e-03,\n",
              "         1.62533104e-01, -3.25344014e-03,  3.91515084e-02, -3.85740519e-01,\n",
              "        -2.27178354e-02, -3.20943028e-01, -1.70260184e-02,  1.11374585e-02,\n",
              "        -3.17949086e-01, -4.25743848e-01, -3.82541955e-01,  1.30980268e-01,\n",
              "         9.30940080e-03, -4.37167406e-01, -1.16451913e-02, -2.16192842e-01,\n",
              "         1.06373057e-01, -3.94965947e-01, -6.28162920e-03, -3.03345740e-01,\n",
              "        -2.54624844e-01, -3.95257562e-01,  7.72954822e-02, -3.94853860e-01,\n",
              "        -2.40795210e-01, -1.03063054e-01,  2.43981630e-02, -3.80839586e-01,\n",
              "        -1.80703521e-01,  1.84366817e-03, -2.61284292e-01, -5.10975067e-03,\n",
              "        -3.91715318e-01, -3.71587873e-01, -4.02352400e-03,  1.15927989e-02,\n",
              "        -7.90332165e-03, -1.94571257e-04, -4.97834206e-01,  1.95459738e-01,\n",
              "         1.71620995e-01,  1.29164301e-03,  2.31525279e-03, -3.33375424e-01,\n",
              "        -2.52658248e-01, -6.19261665e-03,  1.74402580e-01,  9.22292992e-02,\n",
              "         3.31000201e-02,  1.17889568e-02,  1.13215055e-02, -4.68632966e-01,\n",
              "         1.49700314e-01, -8.38848576e-02,  6.09577820e-02,  6.94671422e-02,\n",
              "        -4.42918003e-01, -6.29765773e-03, -3.42067659e-01,  3.39183323e-02,\n",
              "        -4.41254139e-01,  1.76746259e-03, -1.75367855e-03,  7.93431103e-02,\n",
              "        -8.44300073e-03,  4.76560881e-03, -3.22046727e-01,  2.22017884e-01,\n",
              "        -1.84350216e-03, -2.87441164e-01, -1.75984263e-01,  1.29613057e-01,\n",
              "        -1.15365032e-02, -8.19963366e-02,  8.14769138e-03, -1.85872659e-01,\n",
              "         1.08726034e-02, -2.09250897e-02,  3.64708994e-03, -1.18213713e-04,\n",
              "        -4.90959734e-01,  1.87465832e-01, -5.17413497e-01, -1.67619716e-02,\n",
              "         1.06704190e-01,  1.06389739e-01, -4.98911083e-01, -4.04582620e-01,\n",
              "        -7.11337291e-03, -2.02280656e-01,  7.45819733e-02, -1.68032404e-02,\n",
              "        -6.67924061e-03,  1.51794225e-01,  3.08844820e-03, -2.36240804e-01,\n",
              "        -2.62062669e-01,  8.76454171e-03,  1.33106768e-01, -3.67592543e-01,\n",
              "        -4.06521976e-01, -3.24909538e-01, -3.71320039e-01, -3.59493613e-01,\n",
              "         1.84910670e-01,  3.11505850e-02, -8.58766027e-03, -3.34511787e-01,\n",
              "        -7.70491827e-03, -2.66951304e-02, -2.33045593e-01,  4.79816372e-04,\n",
              "        -1.86008528e-01, -5.40332437e-01, -2.24869605e-03, -1.87100731e-02,\n",
              "         2.19428316e-02, -2.90171295e-01, -1.70235131e-02, -6.29184302e-03,\n",
              "        -3.82946849e-01, -2.80398488e-01, -1.76681764e-02,  5.97095899e-02,\n",
              "        -1.59777701e-02, -4.22184974e-01, -5.74131727e-01, -3.06874630e-03,\n",
              "        -2.04640850e-01, -3.77084672e-01, -1.66936149e-03,  1.66576670e-03,\n",
              "         2.59255152e-02,  5.32192457e-03,  4.49556345e-03, -4.86757427e-01,\n",
              "        -2.57350832e-01, -6.56006578e-03, -2.12493651e-02,  1.16347641e-01,\n",
              "         1.58430748e-02,  4.06972803e-02, -2.86945608e-03, -2.65878320e-01,\n",
              "        -4.86336321e-01, -6.34382218e-02,  2.12241895e-03, -3.25392157e-01,\n",
              "        -3.31806093e-01,  7.74187222e-02,  1.04138730e-02,  2.80613881e-02,\n",
              "         2.00933754e-01,  1.03922851e-01,  4.83441260e-03, -2.83781201e-01,\n",
              "         1.84830278e-01,  6.40396774e-02, -4.92267450e-03, -3.75729144e-01,\n",
              "        -1.81357283e-03,  1.12308159e-01, -8.95706471e-03,  2.88386457e-02,\n",
              "        -3.63866806e-01,  1.09045133e-01, -2.64970330e-03,  1.81059539e-01,\n",
              "         9.46033075e-02, -2.39233613e-01, -3.56732935e-01, -4.94254427e-03,\n",
              "        -4.62846071e-01, -2.70633578e-01, -5.30377962e-03, -1.70973837e-02,\n",
              "         2.23400831e-01,  1.08257011e-01,  1.65861189e-01,  3.20122615e-02,\n",
              "        -1.93064101e-03, -5.32643963e-03,  6.57180417e-03, -2.60118140e-05,\n",
              "        -6.41954271e-03, -4.97856736e-03, -1.25034407e-01,  1.01797730e-02,\n",
              "        -1.23899817e-01,  6.56493604e-02,  1.85979679e-02,  6.80817245e-03,\n",
              "         2.66841315e-02,  1.04308546e-01, -6.96176291e-03,  6.78009838e-02,\n",
              "        -4.19061482e-01, -1.33119477e-02,  1.37223095e-01,  1.40915081e-01,\n",
              "        -2.02491768e-02,  8.04742426e-02,  7.23751262e-03, -4.93400455e-01],\n",
              "       dtype=float32)>,\n",
              " <tf.Variable 'conv2d_8/kernel:0' shape=(3, 3, 256, 256) dtype=float32, numpy=\n",
              " array([[[[ 2.42480170e-02, -5.34174824e-03, -1.73078310e-02, ...,\n",
              "            2.60471925e-02, -3.36315930e-02,  6.72644889e-03],\n",
              "          [ 1.56987458e-02,  9.22001956e-04,  1.80790909e-02, ...,\n",
              "           -2.61819102e-02,  1.26680126e-02,  4.71257186e-03],\n",
              "          [-8.55700928e-05, -2.68713702e-02,  2.67071705e-02, ...,\n",
              "            1.81135722e-02, -1.88097507e-02, -7.12846266e-03],\n",
              "          ...,\n",
              "          [-7.16306129e-03, -3.68410582e-03, -1.26435738e-02, ...,\n",
              "           -3.23335677e-02,  1.16190994e-02, -1.65022742e-02],\n",
              "          [-3.13372612e-02,  1.43397031e-02, -1.31490054e-02, ...,\n",
              "           -2.97195315e-02, -4.33587991e-02, -8.60793237e-03],\n",
              "          [ 2.16885423e-03,  5.22001740e-03, -3.51970494e-02, ...,\n",
              "           -2.86478978e-02,  2.93008015e-02, -4.05993219e-03]],\n",
              " \n",
              "         [[ 3.17204669e-02, -6.58404920e-03, -9.68794432e-03, ...,\n",
              "           -6.53267000e-03, -1.21287594e-03, -1.04677379e-02],\n",
              "          [-5.56554506e-03, -1.84060074e-02, -4.05399203e-02, ...,\n",
              "           -6.09152485e-03,  2.12887768e-02, -3.35544460e-02],\n",
              "          [ 2.41693985e-02,  6.82919798e-03, -3.35257873e-02, ...,\n",
              "           -6.31822413e-03,  5.62481768e-03, -3.11796404e-02],\n",
              "          ...,\n",
              "          [ 4.92911041e-03,  1.15717305e-02, -1.06013743e-02, ...,\n",
              "            1.58925131e-02, -1.25595378e-02, -2.46505793e-02],\n",
              "          [-2.32912153e-02,  2.13836525e-02, -1.78425014e-02, ...,\n",
              "            1.74092334e-02,  1.79019570e-02,  1.60276447e-03],\n",
              "          [ 8.64975061e-03,  1.75188351e-02,  1.45125119e-02, ...,\n",
              "            9.54972673e-03,  1.70999281e-02,  1.85466129e-02]],\n",
              " \n",
              "         [[ 2.06576642e-02,  2.39991136e-02,  2.00253837e-02, ...,\n",
              "           -1.84619743e-02, -5.96609619e-03, -1.88807491e-02],\n",
              "          [ 2.86474433e-02, -1.68379990e-03, -9.64323990e-03, ...,\n",
              "           -3.14935832e-03, -3.49109545e-02, -1.93882603e-02],\n",
              "          [-3.94625552e-02, -2.30150633e-02,  1.49604995e-02, ...,\n",
              "           -1.62232574e-02, -1.06275482e-02, -2.99145766e-02],\n",
              "          ...,\n",
              "          [ 1.76522601e-02, -1.47816474e-02,  2.20144959e-03, ...,\n",
              "            2.43153726e-03, -2.76534669e-02,  8.16235552e-04],\n",
              "          [-3.53131723e-03,  1.99192818e-02,  4.23500314e-03, ...,\n",
              "           -4.17098254e-02,  8.35028943e-03, -2.49771103e-02],\n",
              "          [-3.12804393e-02, -6.00176957e-03,  1.29612871e-02, ...,\n",
              "           -2.10890844e-02, -3.95449176e-02, -4.24843617e-02]]],\n",
              " \n",
              " \n",
              "        [[[-3.89888231e-03, -8.98131263e-03, -7.79879838e-03, ...,\n",
              "            3.06685157e-02, -2.33329218e-02, -9.86301107e-04],\n",
              "          [-4.01237719e-02, -3.07260342e-02, -2.31360514e-02, ...,\n",
              "           -2.90097781e-02,  3.16292048e-02, -1.61540881e-02],\n",
              "          [ 1.47418510e-02, -4.24586236e-03, -6.23789895e-03, ...,\n",
              "            1.95689443e-02,  2.45315651e-03, -2.13532485e-02],\n",
              "          ...,\n",
              "          [-4.52320278e-03, -1.42381433e-02, -1.15172304e-02, ...,\n",
              "           -3.62498909e-02, -2.68285088e-02,  5.13144303e-03],\n",
              "          [ 2.85701621e-02, -1.09039471e-02, -9.42471996e-03, ...,\n",
              "            2.85664061e-03, -1.37139829e-02,  1.92489009e-02],\n",
              "          [ 4.30406583e-03, -9.76319352e-05, -1.29138900e-03, ...,\n",
              "           -3.43517680e-03, -2.12568622e-02, -3.05291405e-03]],\n",
              " \n",
              "         [[-5.87664917e-03, -2.18875241e-02, -5.41208498e-03, ...,\n",
              "           -2.08414644e-02, -2.71696448e-02, -2.76917294e-02],\n",
              "          [ 6.60092710e-03,  1.10289408e-02,  8.66508763e-03, ...,\n",
              "           -1.50026185e-02, -2.99735945e-02,  1.16074337e-02],\n",
              "          [ 5.64214215e-03,  9.06481408e-03, -3.57451290e-02, ...,\n",
              "           -2.91140433e-02,  1.04026189e-02, -3.64998840e-02],\n",
              "          ...,\n",
              "          [ 4.89404483e-04,  8.80659558e-03,  1.37797445e-02, ...,\n",
              "           -1.71008427e-02, -1.56449229e-02, -4.00011167e-02],\n",
              "          [-3.84914763e-02,  1.35738598e-02, -5.97356027e-03, ...,\n",
              "            1.14301918e-02,  6.70422008e-03,  3.08810044e-02],\n",
              "          [-2.74591129e-02,  8.88190512e-03,  9.95513517e-03, ...,\n",
              "            2.16683522e-02, -3.27245593e-02,  1.25204427e-02]],\n",
              " \n",
              "         [[ 1.72854010e-02, -4.63089999e-03,  1.98360626e-02, ...,\n",
              "           -6.28385087e-03,  2.77887303e-02,  5.86015312e-03],\n",
              "          [-1.57345105e-02, -1.04436511e-02,  8.92513141e-04, ...,\n",
              "           -1.36219691e-02,  1.38086881e-02,  2.62164809e-02],\n",
              "          [ 1.43340509e-02, -2.01673601e-02,  3.64880636e-03, ...,\n",
              "           -4.00152095e-02, -3.32745202e-02, -4.28789146e-02],\n",
              "          ...,\n",
              "          [-3.34583521e-02, -2.06444599e-02, -2.07517948e-02, ...,\n",
              "            2.74359193e-02, -1.18121067e-02,  1.14748757e-02],\n",
              "          [ 2.39582695e-02, -8.12988169e-03, -6.59935316e-03, ...,\n",
              "           -3.58587801e-02, -1.89523604e-02, -1.08496854e-02],\n",
              "          [ 2.97026783e-02, -3.32669318e-02,  2.79358663e-02, ...,\n",
              "            9.28028300e-03, -3.80046177e-03, -2.20369305e-02]]],\n",
              " \n",
              " \n",
              "        [[[ 7.19539914e-03, -1.59688015e-02,  4.17524436e-03, ...,\n",
              "           -2.80455835e-02,  1.97635256e-02, -2.77639255e-02],\n",
              "          [ 1.65472738e-02,  3.83012295e-02, -1.00113517e-02, ...,\n",
              "            1.08795078e-03, -9.33690928e-03, -1.41655188e-02],\n",
              "          [ 2.99271848e-02,  3.49703548e-03, -1.34413196e-02, ...,\n",
              "            2.95004994e-02, -3.26274261e-02, -2.90030688e-02],\n",
              "          ...,\n",
              "          [-2.64314767e-02, -1.90278981e-02, -3.55032049e-02, ...,\n",
              "            1.32209156e-02,  2.44517680e-02, -2.66027041e-02],\n",
              "          [-1.37421386e-02,  2.07251199e-02, -1.60319600e-02, ...,\n",
              "           -1.13531910e-02,  4.45670867e-03,  1.89012792e-02],\n",
              "          [ 1.26459934e-02,  2.30245348e-02,  1.61343049e-02, ...,\n",
              "           -1.21395767e-03, -6.38543954e-03,  1.12403007e-02]],\n",
              " \n",
              "         [[ 7.68793980e-03, -4.37039277e-03, -1.23186503e-02, ...,\n",
              "            1.45311570e-02,  1.51970964e-02,  8.97860061e-03],\n",
              "          [-1.62609257e-02, -3.33764143e-02, -2.25135544e-03, ...,\n",
              "            1.63813010e-02,  4.02299501e-03, -9.67791490e-03],\n",
              "          [-7.11362902e-03,  2.76789181e-02,  1.48167703e-02, ...,\n",
              "           -3.09111141e-02,  1.99602600e-02, -4.01248178e-03],\n",
              "          ...,\n",
              "          [ 8.23488832e-03, -1.91499982e-02, -1.56782847e-02, ...,\n",
              "            4.32875426e-03,  3.58962938e-02,  1.91565398e-02],\n",
              "          [-2.15424951e-02, -2.66805887e-02,  1.46709746e-02, ...,\n",
              "           -1.84711032e-02,  2.95910798e-02,  1.53612439e-02],\n",
              "          [-7.09272036e-03,  3.31133045e-02,  2.62733400e-02, ...,\n",
              "            2.47165840e-02,  3.02252248e-02, -3.37807946e-02]],\n",
              " \n",
              "         [[-2.32557319e-02,  2.17251666e-02, -3.71153168e-02, ...,\n",
              "           -2.84810718e-02,  2.87634432e-02, -2.82184929e-02],\n",
              "          [-3.17641534e-02,  3.55533138e-02, -2.08442844e-02, ...,\n",
              "           -2.46482454e-02,  1.13079343e-02, -4.28204685e-02],\n",
              "          [ 1.29049206e-02, -1.03719085e-02, -1.08379293e-02, ...,\n",
              "           -2.88474765e-02,  2.50656307e-02, -3.21554393e-02],\n",
              "          ...,\n",
              "          [-3.66188884e-02,  9.74494871e-03,  1.89962033e-02, ...,\n",
              "           -3.38619128e-02,  3.25336643e-02, -1.67381037e-02],\n",
              "          [ 1.54816555e-02, -2.13621724e-02,  2.36514248e-02, ...,\n",
              "            2.71521620e-02, -1.24415476e-02, -1.46002686e-02],\n",
              "          [ 1.34468777e-02,  6.04117755e-03,  2.59513464e-02, ...,\n",
              "           -1.43458452e-02, -9.00600571e-03,  4.76554735e-03]]]],\n",
              "       dtype=float32)>,\n",
              " <tf.Variable 'conv2d_8/bias:0' shape=(256,) dtype=float32, numpy=\n",
              " array([ 0.01489756,  0.04083962,  0.0077269 ,  0.00794717,  0.00532981,\n",
              "        -0.1515537 ,  0.04185002, -0.20996732, -0.18030706, -0.01860242,\n",
              "         0.04765793,  0.06056774, -0.04039584, -0.04560257,  0.00565083,\n",
              "         0.05782305,  0.11024404, -0.01116052, -0.01706223,  0.02099705,\n",
              "         0.09746017,  0.00628967,  0.11651083,  0.12608694, -0.12954122,\n",
              "         0.13388602,  0.08228648, -0.16403165,  0.03156745,  0.01397221,\n",
              "         0.09983959,  0.05107987, -0.14683093, -0.10180038, -0.06947769,\n",
              "        -0.18344733,  0.02978626,  0.02051967,  0.0123947 ,  0.08609183,\n",
              "        -0.00089607, -0.19131716,  0.11528558, -0.00505827,  0.14976177,\n",
              "         0.05474665,  0.09385374, -0.18721168, -0.00469316,  0.07720215,\n",
              "         0.15117736,  0.02001902, -0.11912312,  0.04807027,  0.04532863,\n",
              "         0.10000727, -0.21795751,  0.08333257,  0.10057312, -0.08947728,\n",
              "        -0.15405887,  0.00420472,  0.06118377,  0.01622674,  0.01301688,\n",
              "        -0.01089989,  0.22940491, -0.02835461,  0.14031938, -0.1113126 ,\n",
              "        -0.05896265,  0.01649543, -0.00995809,  0.07111031, -0.14884983,\n",
              "        -0.02167109,  0.20362522, -0.03151035, -0.18286343,  0.07631223,\n",
              "        -0.1726909 ,  0.09128785,  0.01095831, -0.01793685, -0.03545364,\n",
              "         0.10846327, -0.20600139,  0.06417892, -0.01076304,  0.07906915,\n",
              "         0.09509023,  0.14163421, -0.02128002,  0.12416992,  0.1778633 ,\n",
              "         0.16005984, -0.04460671,  0.01892831, -0.09677297, -0.1643583 ,\n",
              "        -0.13645451, -0.01976902, -0.00730745, -0.16812973,  0.05014778,\n",
              "         0.09600306,  0.02685479, -0.10349069, -0.02562932, -0.01738446,\n",
              "         0.10839913, -0.11098097,  0.01373623,  0.10033271, -0.01968839,\n",
              "         0.04150929,  0.09105246, -0.00278684,  0.11933028, -0.12749803,\n",
              "         0.03846436,  0.09427196, -0.02228807,  0.11875354, -0.01857679,\n",
              "        -0.01594717, -0.04815941, -0.08663226,  0.11726222,  0.07182529,\n",
              "        -0.16982931, -0.00828049, -0.14544137, -0.06616845, -0.22833282,\n",
              "        -0.00445025, -0.04822428,  0.08124775,  0.06410924, -0.055462  ,\n",
              "         0.01760391, -0.00442349,  0.15742886, -0.03070193,  0.00198908,\n",
              "        -0.09540438, -0.18123539,  0.09645226, -0.00537153,  0.02359889,\n",
              "         0.08986819,  0.17394431,  0.12528689, -0.17221545, -0.02814022,\n",
              "        -0.01818061, -0.01558108, -0.19420412, -0.21382739, -0.12931095,\n",
              "        -0.02134149,  0.01683808, -0.06243359, -0.02624437,  0.09311269,\n",
              "        -0.02919636, -0.00529528, -0.00530518,  0.07288528,  0.1937501 ,\n",
              "        -0.05747756,  0.03119136, -0.09216132, -0.17457132,  0.14334367,\n",
              "        -0.17281932, -0.13103059,  0.02626485,  0.02927007,  0.14006059,\n",
              "         0.0239135 , -0.13259894, -0.17074025, -0.12143125,  0.00316098,\n",
              "         0.0245292 , -0.00881585, -0.03436287, -0.05969599,  0.01325442,\n",
              "        -0.01978637, -0.00071434, -0.00225997,  0.05581636, -0.00441759,\n",
              "        -0.17857836,  0.01553898,  0.07687574,  0.02346431, -0.16038202,\n",
              "         0.09695338,  0.04773118,  0.09201422, -0.0055895 , -0.15910614,\n",
              "         0.01691865,  0.09226336, -0.02356147, -0.00210792,  0.05658654,\n",
              "         0.12004368,  0.02256242, -0.08708116, -0.06323867,  0.01457705,\n",
              "        -0.08213256,  0.01371946,  0.07245204,  0.00726981,  0.00064814,\n",
              "         0.01339194, -0.06126901,  0.04391585, -0.19195862,  0.04553363,\n",
              "        -0.00836022,  0.03511389, -0.23147161, -0.08654466, -0.10979001,\n",
              "        -0.13623503,  0.00129826, -0.12944765,  0.00986348,  0.07196894,\n",
              "        -0.01552353, -0.01264452, -0.1820909 , -0.17632426, -0.09869333,\n",
              "        -0.01094938, -0.18989386, -0.01368304, -0.16539806, -0.10195425,\n",
              "         0.00364806,  0.0039688 , -0.09464988, -0.11520918,  0.0603704 ,\n",
              "        -0.05780376,  0.0415472 ,  0.007606  , -0.11540319,  0.01667364,\n",
              "         0.00865173], dtype=float32)>,\n",
              " <tf.Variable 'conv2d_9/kernel:0' shape=(3, 3, 256, 128) dtype=float32, numpy=\n",
              " array([[[[-2.58588931e-03, -2.34275609e-02, -4.06302102e-02, ...,\n",
              "           -9.66014282e-04, -2.78073037e-03, -3.06177605e-02],\n",
              "          [-1.81515887e-02, -3.29997987e-02,  1.36542665e-02, ...,\n",
              "           -2.02633291e-02,  1.29688149e-02,  1.70794738e-04],\n",
              "          [-3.39575857e-02,  1.95370167e-02, -7.19480263e-03, ...,\n",
              "           -2.09950153e-02,  8.73142574e-03,  3.19148344e-03],\n",
              "          ...,\n",
              "          [ 3.37184817e-02, -4.77835163e-03,  1.15932161e-02, ...,\n",
              "            2.72573698e-02,  8.87984317e-03, -9.17161722e-03],\n",
              "          [ 4.06415351e-02,  1.77905597e-02, -1.56719964e-02, ...,\n",
              "            1.65045168e-03,  3.46153863e-02,  2.83923242e-02],\n",
              "          [-1.46210864e-02, -1.92781314e-02, -3.14960107e-02, ...,\n",
              "           -3.30882333e-03,  2.50216667e-02, -3.92676815e-02]],\n",
              " \n",
              "         [[ 2.05976255e-02,  5.42963156e-03,  5.10447798e-03, ...,\n",
              "            3.23536806e-02, -1.78350154e-02, -4.67433594e-02],\n",
              "          [ 2.23099682e-02,  3.51000577e-02,  6.62450399e-03, ...,\n",
              "           -2.86825430e-02, -1.62880067e-02,  1.42639189e-03],\n",
              "          [-1.45545760e-02, -7.91112892e-03,  2.02615280e-02, ...,\n",
              "            1.08693745e-02,  1.53652877e-02, -3.00893653e-02],\n",
              "          ...,\n",
              "          [ 3.90153490e-02,  4.15629009e-03, -2.13532187e-02, ...,\n",
              "           -3.07111926e-02,  3.23139876e-02,  7.86269642e-03],\n",
              "          [-9.93861165e-03,  3.50454897e-02,  2.70645935e-02, ...,\n",
              "            1.98598579e-02, -2.03277953e-02,  3.61794457e-02],\n",
              "          [ 4.22244482e-02,  1.57680046e-02, -2.27754693e-02, ...,\n",
              "            9.54877026e-03, -3.61031829e-03, -7.22585537e-04]],\n",
              " \n",
              "         [[-4.43215435e-03,  1.33116571e-02, -1.50839211e-02, ...,\n",
              "            2.50804406e-02, -5.04974760e-02, -3.18055716e-03],\n",
              "          [ 2.60452516e-02,  1.07241899e-03, -2.80232262e-02, ...,\n",
              "           -2.59182602e-02,  3.58195491e-02,  1.26219094e-02],\n",
              "          [ 2.17592008e-02,  1.98104139e-02,  2.11901162e-02, ...,\n",
              "            2.43096575e-02, -2.62303036e-02, -2.97519770e-02],\n",
              "          ...,\n",
              "          [ 2.23994814e-02, -3.54267620e-02,  1.22670373e-02, ...,\n",
              "            2.20431201e-02,  2.21715192e-03,  2.20792275e-02],\n",
              "          [-3.85280214e-02,  1.73306540e-02, -3.86638977e-02, ...,\n",
              "           -4.54651155e-02,  1.87080130e-02,  1.85186379e-02],\n",
              "          [ 2.56411135e-02, -9.03264899e-03, -1.18267955e-02, ...,\n",
              "           -2.10764706e-02,  1.54418265e-03,  4.39182483e-03]]],\n",
              " \n",
              " \n",
              "        [[[-1.86817273e-02,  3.20138782e-03,  2.59589572e-02, ...,\n",
              "            6.60284376e-03, -3.37047353e-02, -3.33892182e-02],\n",
              "          [-1.03150550e-02, -1.37577681e-02,  7.67419464e-04, ...,\n",
              "           -5.37855271e-03, -2.82485727e-02,  3.36431861e-02],\n",
              "          [ 3.03290691e-02, -1.81229655e-02, -2.73146257e-02, ...,\n",
              "            1.30261639e-02, -2.31048129e-02, -6.45168079e-03],\n",
              "          ...,\n",
              "          [ 3.76293138e-02,  6.96846377e-03, -6.47359062e-03, ...,\n",
              "           -4.23010774e-02, -6.55303989e-03,  1.18163843e-02],\n",
              "          [-7.46417383e-04, -3.78360040e-02, -4.18395698e-02, ...,\n",
              "           -2.65387930e-02, -5.04284399e-04, -7.17915682e-05],\n",
              "          [ 3.65734436e-02, -2.83812881e-02, -2.51280814e-02, ...,\n",
              "            3.08652278e-02, -2.07451265e-02,  3.28180939e-02]],\n",
              " \n",
              "         [[-3.17683779e-02, -8.29184428e-03, -1.52425282e-03, ...,\n",
              "            4.51282365e-03,  2.11692583e-02, -2.96023693e-02],\n",
              "          [ 4.39654430e-03, -6.84147514e-03,  1.89098362e-02, ...,\n",
              "           -2.60934178e-02,  8.91217496e-03,  6.80064969e-03],\n",
              "          [ 4.74978564e-03, -4.79453765e-02,  3.59307490e-02, ...,\n",
              "           -2.09272224e-02,  1.70094389e-02, -1.31457280e-02],\n",
              "          ...,\n",
              "          [ 3.23984064e-02,  2.34367438e-02, -2.79106274e-02, ...,\n",
              "           -2.04993933e-02,  1.20677883e-02,  4.60639456e-03],\n",
              "          [ 3.28895822e-02, -1.39174461e-02, -2.19810996e-02, ...,\n",
              "            2.87278965e-02, -2.89502982e-02,  3.66915576e-02],\n",
              "          [-1.43821388e-02,  2.98644342e-02, -2.42508035e-02, ...,\n",
              "           -7.48374965e-03,  4.44916859e-02,  3.40686403e-02]],\n",
              " \n",
              "         [[ 3.98785388e-03,  2.92163491e-02, -1.01270936e-02, ...,\n",
              "            1.93165764e-02, -1.50334341e-02, -3.77632454e-02],\n",
              "          [-3.98668684e-02,  5.94473304e-03,  1.83406323e-02, ...,\n",
              "            1.15606301e-02,  3.41602340e-02, -3.17981504e-02],\n",
              "          [-2.71974280e-02, -2.40421854e-02, -4.30114334e-03, ...,\n",
              "           -4.10619117e-02,  2.63604242e-02,  4.21763062e-02],\n",
              "          ...,\n",
              "          [ 1.17054740e-02, -2.33915951e-02,  1.86059587e-02, ...,\n",
              "            3.06400973e-02, -4.11885940e-02,  2.72262208e-02],\n",
              "          [ 4.19878168e-03,  3.25747213e-04,  4.88789454e-02, ...,\n",
              "           -1.16944881e-02,  3.30897085e-02, -1.76038928e-02],\n",
              "          [-3.02486401e-02,  1.71054981e-03, -3.22261676e-02, ...,\n",
              "            1.15039889e-02, -1.27993757e-02, -2.13319100e-02]]],\n",
              " \n",
              " \n",
              "        [[[-3.10542248e-02, -1.05812971e-03,  3.42447571e-02, ...,\n",
              "           -2.26975009e-02,  2.59870626e-02,  6.74604904e-04],\n",
              "          [-7.93440267e-03, -2.16360223e-02,  2.06945371e-02, ...,\n",
              "            1.94569509e-02, -3.86614278e-02,  3.36242504e-02],\n",
              "          [-8.85558967e-03, -9.40433517e-03, -1.30331041e-02, ...,\n",
              "            2.67894305e-02, -3.15286592e-02, -4.36565001e-03],\n",
              "          ...,\n",
              "          [ 8.67767073e-03,  1.63744465e-02, -6.48020301e-03, ...,\n",
              "            3.51011790e-02,  2.99470294e-02,  4.89824743e-04],\n",
              "          [ 3.76465954e-02, -2.77243480e-02,  4.05498445e-02, ...,\n",
              "           -2.00199950e-02,  3.03219128e-02, -2.92596519e-02],\n",
              "          [-3.66468877e-02, -1.50908483e-02, -3.03538963e-02, ...,\n",
              "            8.48703145e-04, -2.23765448e-02,  2.85454746e-02]],\n",
              " \n",
              "         [[-1.90554168e-02, -1.62216853e-02,  6.41986774e-03, ...,\n",
              "            4.71640471e-03,  3.04604862e-02, -3.78594287e-02],\n",
              "          [-3.86413559e-02,  1.17902225e-02,  3.79176959e-02, ...,\n",
              "           -4.29355465e-02,  3.36776562e-02, -2.49843653e-02],\n",
              "          [-3.68906781e-02, -2.12291125e-02, -5.92084676e-02, ...,\n",
              "            1.57568138e-02,  3.30675766e-02, -4.44514155e-02],\n",
              "          ...,\n",
              "          [ 8.17933120e-03,  3.23192179e-02, -1.35975024e-02, ...,\n",
              "           -2.86058001e-02, -4.88201244e-04, -7.06353597e-03],\n",
              "          [ 3.58320698e-02, -3.03383339e-02, -2.83355508e-02, ...,\n",
              "           -3.56123969e-02, -2.56315041e-02,  2.85191759e-02],\n",
              "          [ 1.97953079e-02, -2.62361690e-02, -1.19072320e-02, ...,\n",
              "           -2.72482038e-02,  3.85000594e-02, -3.23565044e-02]],\n",
              " \n",
              "         [[ 2.29292363e-02,  3.59871536e-02,  1.21056079e-03, ...,\n",
              "            1.44565990e-02, -3.04692909e-02,  3.10175214e-02],\n",
              "          [-3.88771705e-02, -1.35966027e-02,  1.44776609e-02, ...,\n",
              "           -2.84200851e-02, -1.45156691e-02,  3.94766554e-02],\n",
              "          [ 2.14093104e-02, -4.85327132e-02,  2.26282440e-02, ...,\n",
              "            3.02157439e-02,  1.31727941e-02,  3.63959977e-03],\n",
              "          ...,\n",
              "          [ 3.71579863e-02, -4.67166677e-02,  3.78645733e-02, ...,\n",
              "            1.98178328e-04, -3.34685221e-02,  2.22100057e-02],\n",
              "          [ 4.18546200e-02,  1.29202753e-03,  5.07368669e-02, ...,\n",
              "            1.94570199e-02,  3.17442082e-02, -1.51280584e-02],\n",
              "          [-3.40389162e-02,  3.79315636e-04, -1.32427113e-02, ...,\n",
              "            2.74290666e-02,  1.35187181e-02, -1.40099740e-02]]]],\n",
              "       dtype=float32)>,\n",
              " <tf.Variable 'conv2d_9/bias:0' shape=(128,) dtype=float32, numpy=\n",
              " array([-1.31565267e-02,  6.65781498e-02, -6.52432367e-02, -2.63246633e-02,\n",
              "        -1.06263407e-01, -1.23497196e-01, -9.49039161e-02, -1.35747179e-01,\n",
              "         2.28279643e-02, -5.97650325e-03,  1.63483073e-03,  1.24827877e-03,\n",
              "        -3.83275398e-03,  6.53346702e-02, -1.51052605e-02, -1.41848996e-01,\n",
              "        -5.59087209e-02, -4.57967520e-02, -5.88654866e-03, -1.57946292e-02,\n",
              "        -4.52882936e-03, -1.31380081e-01,  3.04890773e-03,  1.34701505e-02,\n",
              "        -1.60594046e-01, -1.07800424e-01, -1.12087103e-02, -1.05681755e-01,\n",
              "         2.21140087e-02,  3.24277729e-02, -5.61861731e-02, -3.08450637e-03,\n",
              "         5.20496219e-02, -4.09768987e-03, -9.65445042e-02, -5.33175608e-03,\n",
              "        -1.43605927e-02, -2.35234052e-02,  6.26692027e-02,  2.11625770e-02,\n",
              "         2.23021302e-02, -5.27803320e-03, -1.02436520e-01, -8.86385590e-02,\n",
              "        -5.48836924e-02, -9.15728416e-03, -9.00170021e-03, -2.66094529e-03,\n",
              "         2.88247429e-02, -2.82563120e-02,  4.98756655e-02,  4.03644256e-02,\n",
              "        -2.86602192e-02,  1.43690631e-02, -1.89937856e-02, -1.92160010e-02,\n",
              "         1.35016507e-02,  1.40360659e-02,  2.86840834e-02, -6.28096145e-03,\n",
              "         1.39435928e-03, -8.57178643e-02, -2.36005429e-02, -1.87448293e-01,\n",
              "        -4.10897806e-02,  4.78958664e-03, -5.20830229e-03, -1.78687908e-02,\n",
              "        -5.74594736e-02, -5.90431914e-02, -8.66440497e-03, -9.21157598e-02,\n",
              "         1.36563005e-02,  1.24482689e-02, -2.98816897e-03, -7.25405384e-03,\n",
              "         1.08124157e-02,  1.49775425e-03,  1.70932990e-02,  3.13826278e-02,\n",
              "        -4.08255076e-03, -2.42081508e-02,  2.27583591e-02, -1.57838333e-02,\n",
              "        -5.20529225e-02,  2.98728719e-02, -5.30782994e-03, -1.23331072e-02,\n",
              "         1.25435665e-02,  5.00689782e-02, -2.77405269e-02,  4.71540093e-02,\n",
              "        -3.43480753e-03, -1.36787872e-04, -4.79063112e-03,  7.49050379e-02,\n",
              "        -1.11029632e-01, -1.46179423e-02, -1.93942152e-02, -9.54595953e-02,\n",
              "         1.43305752e-02, -2.40251459e-02,  1.84031520e-02, -1.09148160e-01,\n",
              "        -1.17117818e-02, -1.50275677e-01,  5.87138236e-02, -4.75335419e-02,\n",
              "        -2.06854660e-02,  2.21389122e-02, -1.23598121e-01,  3.99657302e-02,\n",
              "         3.96007635e-02, -5.63812740e-02, -1.07636139e-01, -1.68697294e-02,\n",
              "        -2.28857528e-02, -8.67160410e-03, -4.76707593e-02,  1.26494039e-02,\n",
              "         2.31640153e-02,  4.01803032e-02, -8.35893750e-02, -4.90594143e-03,\n",
              "         1.46792773e-02, -6.10299483e-02, -9.94729903e-03, -1.16838954e-01],\n",
              "       dtype=float32)>,\n",
              " <tf.Variable 'conv2d_10/kernel:0' shape=(3, 3, 128, 128) dtype=float32, numpy=\n",
              " array([[[[-0.04119267,  0.03966482, -0.00838665, ...,  0.00434613,\n",
              "           -0.01618446, -0.07222603],\n",
              "          [ 0.03811355,  0.01555759, -0.04470624, ..., -0.00454813,\n",
              "            0.03728407, -0.04346782],\n",
              "          [-0.02056606, -0.02526682,  0.00770966, ...,  0.00603363,\n",
              "           -0.01422212,  0.01312192],\n",
              "          ...,\n",
              "          [ 0.02622408, -0.029074  , -0.0074704 , ...,  0.00653739,\n",
              "            0.02174816, -0.04304989],\n",
              "          [-0.00069686, -0.0065776 , -0.02147578, ...,  0.04205828,\n",
              "            0.01250905,  0.03484111],\n",
              "          [-0.02360273, -0.04072193,  0.04956201, ..., -0.03490094,\n",
              "           -0.03084337,  0.00736974]],\n",
              " \n",
              "         [[ 0.01255671, -0.02601804, -0.01103459, ..., -0.00173756,\n",
              "           -0.03418373, -0.04105919],\n",
              "          [ 0.03832905,  0.03131479,  0.01786437, ..., -0.00135412,\n",
              "            0.04501607, -0.00154632],\n",
              "          [-0.01724794,  0.05540794,  0.06110667, ...,  0.03502162,\n",
              "            0.00133999,  0.04878509],\n",
              "          ...,\n",
              "          [ 0.00954075, -0.02871248,  0.06093734, ...,  0.03409824,\n",
              "            0.04812086,  0.00343283],\n",
              "          [-0.00223229, -0.010487  , -0.04579406, ...,  0.04220067,\n",
              "           -0.00288916, -0.01910434],\n",
              "          [-0.04885319, -0.00748954,  0.02937141, ..., -0.01946626,\n",
              "            0.03946099,  0.03879166]],\n",
              " \n",
              "         [[ 0.03413539,  0.04744332, -0.00561992, ...,  0.034817  ,\n",
              "            0.00081421, -0.04288472],\n",
              "          [-0.05746061, -0.05362251,  0.03351949, ...,  0.01442492,\n",
              "           -0.01855125, -0.04983955],\n",
              "          [-0.01048535,  0.0329774 , -0.01078114, ...,  0.03294691,\n",
              "            0.00183762,  0.03266548],\n",
              "          ...,\n",
              "          [-0.03292292, -0.03357837,  0.03659005, ..., -0.03754032,\n",
              "            0.04328128,  0.01570134],\n",
              "          [-0.03588623, -0.02309761, -0.03969427, ..., -0.0251332 ,\n",
              "           -0.04202764,  0.02388246],\n",
              "          [-0.00890428,  0.01186076, -0.03041524, ..., -0.03756553,\n",
              "           -0.03408667,  0.03291201]]],\n",
              " \n",
              " \n",
              "        [[[-0.00499333,  0.03531426, -0.01111938, ..., -0.05273696,\n",
              "           -0.03903561,  0.02095   ],\n",
              "          [-0.05606323, -0.00866937, -0.03773371, ..., -0.01402172,\n",
              "           -0.02885722, -0.02140433],\n",
              "          [ 0.04168886,  0.04158154,  0.0033548 , ..., -0.0045884 ,\n",
              "           -0.04201435,  0.0003583 ],\n",
              "          ...,\n",
              "          [-0.03799587,  0.02294444,  0.00400147, ..., -0.02559421,\n",
              "            0.01637972,  0.02992833],\n",
              "          [-0.04074532,  0.03720242, -0.0036989 , ...,  0.01197989,\n",
              "            0.00639033,  0.00418943],\n",
              "          [-0.05188118,  0.01017521,  0.02457655, ...,  0.03271971,\n",
              "           -0.01584883, -0.0458774 ]],\n",
              " \n",
              "         [[-0.01381478, -0.01028767, -0.02498404, ..., -0.05880255,\n",
              "            0.01582035,  0.02578846],\n",
              "          [ 0.00110221, -0.0399852 ,  0.04474446, ...,  0.03442756,\n",
              "           -0.06200132, -0.01475527],\n",
              "          [ 0.00179672,  0.03555652, -0.06737943, ...,  0.00651567,\n",
              "            0.01455992,  0.05460989],\n",
              "          ...,\n",
              "          [-0.03550163,  0.01868065,  0.0049457 , ..., -0.00693884,\n",
              "            0.03776797,  0.04232122],\n",
              "          [ 0.03644014,  0.00065119, -0.02988665, ...,  0.0384011 ,\n",
              "           -0.010209  , -0.02788394],\n",
              "          [ 0.03138073,  0.01171209,  0.01495543, ...,  0.0177997 ,\n",
              "            0.03855059, -0.00969584]],\n",
              " \n",
              "         [[-0.01839915,  0.02458711,  0.04454573, ...,  0.02902928,\n",
              "            0.01882553,  0.0148071 ],\n",
              "          [-0.03417241,  0.00423742,  0.04500561, ..., -0.03448619,\n",
              "           -0.03798993, -0.04643024],\n",
              "          [ 0.00397927,  0.03426788,  0.0420954 , ...,  0.05073822,\n",
              "           -0.02922541, -0.03915621],\n",
              "          ...,\n",
              "          [ 0.01418067,  0.01438524, -0.02175074, ...,  0.00450985,\n",
              "            0.00048181,  0.01553445],\n",
              "          [ 0.00891897, -0.02556437, -0.01796475, ...,  0.02900075,\n",
              "           -0.04150428, -0.02276305],\n",
              "          [ 0.00518647,  0.01162093,  0.04146213, ...,  0.0245223 ,\n",
              "            0.03485905, -0.05250641]]],\n",
              " \n",
              " \n",
              "        [[[-0.01336596,  0.00948413,  0.00258915, ...,  0.04630683,\n",
              "           -0.0128567 , -0.02452067],\n",
              "          [ 0.02151377,  0.0107877 , -0.00600169, ...,  0.0132526 ,\n",
              "           -0.03067602, -0.03255443],\n",
              "          [ 0.03520702, -0.05475851, -0.01098791, ...,  0.05537721,\n",
              "            0.01774251,  0.04713009],\n",
              "          ...,\n",
              "          [-0.02928551, -0.05803113, -0.05089746, ...,  0.02641622,\n",
              "           -0.04178744, -0.01129944],\n",
              "          [ 0.0418234 ,  0.00287606, -0.02296618, ..., -0.0417196 ,\n",
              "           -0.00507083, -0.01794463],\n",
              "          [-0.02000603,  0.00336404,  0.02274956, ..., -0.02145725,\n",
              "            0.05553868,  0.05581548]],\n",
              " \n",
              "         [[-0.01507294,  0.02725035, -0.03311444, ...,  0.02436614,\n",
              "            0.04873143, -0.03625275],\n",
              "          [-0.0120732 ,  0.02619325,  0.01638009, ..., -0.07191266,\n",
              "            0.02719157,  0.01461851],\n",
              "          [-0.02048264,  0.00101276, -0.05789417, ...,  0.05158776,\n",
              "            0.02384612, -0.0388356 ],\n",
              "          ...,\n",
              "          [-0.02682739, -0.04157798,  0.02820547, ..., -0.04203757,\n",
              "           -0.05221586, -0.00132415],\n",
              "          [ 0.01236572, -0.02276147, -0.03171406, ..., -0.02910758,\n",
              "            0.03883395, -0.04009725],\n",
              "          [-0.04714098, -0.00472921, -0.01994632, ...,  0.01596716,\n",
              "           -0.04446753, -0.02629435]],\n",
              " \n",
              "         [[ 0.02345126,  0.03663278, -0.03354929, ...,  0.06607574,\n",
              "            0.03217178, -0.05056194],\n",
              "          [ 0.03900657,  0.01889503, -0.01554148, ..., -0.02521667,\n",
              "           -0.04100057, -0.04606735],\n",
              "          [ 0.02763017, -0.00074819,  0.01588284, ...,  0.0361422 ,\n",
              "           -0.01983139, -0.04372412],\n",
              "          ...,\n",
              "          [-0.02343786,  0.02275285,  0.0328516 , ...,  0.03936985,\n",
              "            0.02260041, -0.01525802],\n",
              "          [-0.04776603, -0.02119116,  0.02107579, ...,  0.03778974,\n",
              "            0.01398939, -0.00659122],\n",
              "          [-0.05237216,  0.0279475 ,  0.01780077, ...,  0.01972644,\n",
              "            0.04559156, -0.04941472]]]], dtype=float32)>,\n",
              " <tf.Variable 'conv2d_10/bias:0' shape=(128,) dtype=float32, numpy=\n",
              " array([ 0.01172315,  0.01761973, -0.03429408, -0.00462305, -0.00305791,\n",
              "         0.04317302,  0.0081463 , -0.01924593, -0.05260555,  0.0099418 ,\n",
              "         0.03920268,  0.01521267,  0.01636378,  0.01925709, -0.06984788,\n",
              "        -0.01307439, -0.08082979, -0.01955735,  0.00094102,  0.01677665,\n",
              "         0.02408553, -0.02579136,  0.04530482,  0.01897025, -0.00180796,\n",
              "         0.01876899,  0.00215462, -0.03822258,  0.01793198, -0.03521696,\n",
              "         0.00379697,  0.01257295, -0.06701896, -0.05548274,  0.03340997,\n",
              "         0.00255821, -0.00304634, -0.01205169, -0.03342047, -0.03144959,\n",
              "         0.01215852, -0.00897364, -0.02742994, -0.03823692,  0.05754784,\n",
              "         0.00688032, -0.0206482 , -0.00194937, -0.0779333 , -0.0681321 ,\n",
              "        -0.04339766,  0.01667526,  0.00756861, -0.05432439,  0.06477369,\n",
              "         0.00198812,  0.01684345, -0.01719234, -0.01487396,  0.05970023,\n",
              "         0.01246419, -0.05435661, -0.06958859,  0.01474595, -0.03906188,\n",
              "         0.02104678, -0.02215829,  0.03306444, -0.00400022, -0.0004535 ,\n",
              "        -0.03482033, -0.01757024, -0.00277201, -0.05043941, -0.04985787,\n",
              "        -0.02899429, -0.05075586, -0.0007247 , -0.02096172, -0.00632725,\n",
              "         0.07186688,  0.01793322,  0.04802238,  0.04303568, -0.0491699 ,\n",
              "        -0.0319596 ,  0.03956839,  0.02034707, -0.00589674,  0.01106415,\n",
              "         0.01854214,  0.05097457, -0.03858932,  0.01793473, -0.06380182,\n",
              "         0.04046706, -0.02340251,  0.02856187, -0.02954798, -0.01252648,\n",
              "         0.00734076,  0.00447595, -0.05530203,  0.01404255, -0.00928479,\n",
              "        -0.00122717,  0.03401437, -0.00795759, -0.01122619,  0.02617804,\n",
              "        -0.02895584, -0.03201652,  0.05828039, -0.04169789,  0.03228869,\n",
              "         0.03793804,  0.05873556, -0.04230388,  0.031423  ,  0.03018288,\n",
              "         0.00893623, -0.01503721,  0.01377891,  0.05556091,  0.03101176,\n",
              "         0.03004023, -0.04608209, -0.01105518], dtype=float32)>,\n",
              " <tf.Variable 'conv2d_11/kernel:0' shape=(3, 3, 128, 64) dtype=float32, numpy=\n",
              " array([[[[ 0.02381766,  0.00510576, -0.03865314, ..., -0.02581256,\n",
              "            0.03250345, -0.04996565],\n",
              "          [-0.0014848 ,  0.03364663, -0.02978654, ..., -0.04934974,\n",
              "            0.02123422, -0.03694849],\n",
              "          [-0.05621862, -0.0005357 ,  0.03262379, ...,  0.0388049 ,\n",
              "            0.00147399, -0.00156539],\n",
              "          ...,\n",
              "          [-0.01340321,  0.02611155, -0.00843587, ...,  0.02923197,\n",
              "            0.00607292,  0.03666403],\n",
              "          [ 0.00587412, -0.01942506, -0.05035693, ..., -0.03407956,\n",
              "            0.04073389,  0.01910628],\n",
              "          [-0.04416899,  0.04322339,  0.0083367 , ...,  0.05705044,\n",
              "           -0.04034434, -0.02707813]],\n",
              " \n",
              "         [[ 0.01246557, -0.01116298, -0.05785349, ..., -0.00059021,\n",
              "            0.02466976,  0.03450305],\n",
              "          [ 0.03143489, -0.04007917,  0.00370684, ...,  0.02280866,\n",
              "            0.0137492 ,  0.01805819],\n",
              "          [-0.02394626, -0.02285212,  0.03361177, ..., -0.01012954,\n",
              "            0.04170721,  0.0196517 ],\n",
              "          ...,\n",
              "          [ 0.01321326, -0.04757345,  0.04960531, ..., -0.0168707 ,\n",
              "            0.02418406, -0.01903374],\n",
              "          [ 0.04374494, -0.00918015,  0.01653593, ...,  0.06255339,\n",
              "           -0.00716915,  0.04373233],\n",
              "          [ 0.02382554,  0.02607809, -0.01308248, ..., -0.01540084,\n",
              "            0.03751682,  0.05968934]],\n",
              " \n",
              "         [[-0.00384482,  0.00683719, -0.0121687 , ..., -0.05600881,\n",
              "           -0.03886011,  0.02753056],\n",
              "          [ 0.01216551,  0.01663683, -0.04795703, ..., -0.01766038,\n",
              "           -0.0013679 , -0.00630408],\n",
              "          [ 0.04645985,  0.02880417,  0.00779679, ..., -0.06079051,\n",
              "           -0.03364009, -0.01644984],\n",
              "          ...,\n",
              "          [-0.02451078,  0.00763442,  0.02101427, ...,  0.0676246 ,\n",
              "            0.01934576,  0.01442803],\n",
              "          [-0.02910347,  0.06630163, -0.00376268, ...,  0.04627886,\n",
              "            0.04368075, -0.00682089],\n",
              "          [-0.00302604, -0.00796919,  0.05800423, ..., -0.01829083,\n",
              "            0.04171168, -0.04692853]]],\n",
              " \n",
              " \n",
              "        [[[ 0.00741214, -0.03758668, -0.0321101 , ...,  0.04482047,\n",
              "           -0.01849309,  0.01766098],\n",
              "          [-0.04518202, -0.00164701,  0.02030702, ..., -0.00996882,\n",
              "            0.05153843, -0.02043048],\n",
              "          [-0.03482989,  0.0162075 ,  0.04363654, ..., -0.00663512,\n",
              "            0.01878204, -0.06804944],\n",
              "          ...,\n",
              "          [ 0.03981726, -0.0253497 , -0.05570175, ..., -0.07999454,\n",
              "            0.04517922, -0.04988229],\n",
              "          [ 0.02975275, -0.00644715,  0.00606895, ...,  0.04478613,\n",
              "            0.01264328, -0.03155494],\n",
              "          [-0.04550034,  0.00102212, -0.01416236, ..., -0.02128662,\n",
              "            0.0021912 ,  0.0001078 ]],\n",
              " \n",
              "         [[-0.0102171 ,  0.00873771, -0.00571685, ...,  0.04603669,\n",
              "            0.03307862,  0.01055985],\n",
              "          [-0.05540466, -0.04264047, -0.02437356, ...,  0.00357917,\n",
              "            0.06107656, -0.04635331],\n",
              "          [-0.0604361 , -0.04602391, -0.0123765 , ..., -0.01677078,\n",
              "           -0.01867106,  0.01975379],\n",
              "          ...,\n",
              "          [ 0.041644  ,  0.03305177, -0.04682386, ..., -0.03988568,\n",
              "            0.01255908, -0.00660095],\n",
              "          [-0.02219187, -0.02446274, -0.03796483, ...,  0.05881865,\n",
              "            0.03780007,  0.0165494 ],\n",
              "          [ 0.03891573, -0.01212825, -0.06354356, ..., -0.00111992,\n",
              "            0.02704099, -0.04880478]],\n",
              " \n",
              "         [[ 0.02042835,  0.00169807,  0.03162902, ..., -0.03176757,\n",
              "           -0.02360064,  0.02509473],\n",
              "          [-0.02593336,  0.03361887, -0.0185078 , ...,  0.03150634,\n",
              "            0.05707745,  0.01519762],\n",
              "          [-0.0063289 , -0.00042593,  0.04144211, ..., -0.0211926 ,\n",
              "           -0.00729125,  0.01805915],\n",
              "          ...,\n",
              "          [-0.00166822, -0.03728281, -0.0284658 , ...,  0.02440572,\n",
              "           -0.0233797 , -0.05034586],\n",
              "          [ 0.00614498,  0.02075976, -0.00862418, ..., -0.06913466,\n",
              "           -0.02787798,  0.05208888],\n",
              "          [-0.01236   ,  0.05006927,  0.00990334, ...,  0.00611412,\n",
              "           -0.04685162, -0.0082387 ]]],\n",
              " \n",
              " \n",
              "        [[[-0.05538333,  0.05889245, -0.00786098, ...,  0.03262321,\n",
              "            0.02916167, -0.04015256],\n",
              "          [ 0.0378614 ,  0.0397079 ,  0.01956247, ..., -0.02865364,\n",
              "            0.02867166,  0.00450562],\n",
              "          [-0.05928418, -0.0279079 ,  0.03637419, ..., -0.02312322,\n",
              "           -0.07443348, -0.01582201],\n",
              "          ...,\n",
              "          [ 0.03012046,  0.02781121, -0.04569605, ..., -0.02116764,\n",
              "            0.01083842,  0.00542338],\n",
              "          [ 0.01082207, -0.01068868, -0.00916564, ..., -0.05731769,\n",
              "           -0.00771563,  0.04957247],\n",
              "          [-0.03164974,  0.02155776, -0.05810577, ...,  0.00264048,\n",
              "            0.00383161, -0.04870626]],\n",
              " \n",
              "         [[-0.01393624,  0.01555023, -0.04311917, ...,  0.01705281,\n",
              "            0.03251673, -0.05422445],\n",
              "          [-0.05293053, -0.02210148, -0.03790315, ..., -0.06013913,\n",
              "            0.03351951, -0.04998474],\n",
              "          [-0.03540058,  0.05521692,  0.06876832, ...,  0.00083361,\n",
              "            0.00208695,  0.00173   ],\n",
              "          ...,\n",
              "          [ 0.0057796 , -0.02585309,  0.02698175, ...,  0.02511669,\n",
              "            0.06447856, -0.03788305],\n",
              "          [-0.04848533, -0.01982779,  0.04955256, ...,  0.00397544,\n",
              "           -0.05181966,  0.04201792],\n",
              "          [-0.04109557, -0.00477453,  0.01992091, ...,  0.01989802,\n",
              "           -0.03865677, -0.04033667]],\n",
              " \n",
              "         [[ 0.0285211 ,  0.00664477, -0.02912207, ...,  0.02139704,\n",
              "            0.00057072, -0.0629444 ],\n",
              "          [-0.0568704 ,  0.03720258, -0.05176615, ...,  0.03261576,\n",
              "           -0.05850949, -0.02853205],\n",
              "          [ 0.04105458,  0.04275114, -0.04660559, ..., -0.04560041,\n",
              "            0.0214358 ,  0.00499104],\n",
              "          ...,\n",
              "          [ 0.03204368,  0.00834726, -0.07148787, ...,  0.03289194,\n",
              "            0.04459484, -0.04027502],\n",
              "          [-0.02643559, -0.02387309, -0.05879914, ...,  0.00369036,\n",
              "           -0.00171451, -0.01070386],\n",
              "          [ 0.05324747, -0.04152633, -0.0633032 , ..., -0.00536621,\n",
              "            0.00529418, -0.00387814]]]], dtype=float32)>,\n",
              " <tf.Variable 'conv2d_11/bias:0' shape=(64,) dtype=float32, numpy=\n",
              " array([ 2.80366908e-03,  4.13367711e-03, -5.10910787e-02, -2.89669521e-02,\n",
              "         1.30338389e-02,  5.34420162e-02,  3.78701948e-02,  2.67284028e-02,\n",
              "        -6.71362411e-03,  2.75315009e-02,  6.46621436e-02,  5.80355935e-02,\n",
              "         5.31225058e-04,  1.30748935e-02, -8.42756126e-03,  3.71744968e-02,\n",
              "        -8.52869544e-03,  2.63015255e-02, -3.46370088e-03, -1.80592015e-02,\n",
              "        -2.95458902e-02,  4.52450849e-03, -3.21021117e-02,  3.25311497e-02,\n",
              "         4.98740338e-02,  2.47980263e-02,  1.76253205e-04,  3.23974639e-02,\n",
              "        -2.10502953e-03, -1.56764442e-03,  9.63379256e-03, -9.33011156e-03,\n",
              "        -2.22725943e-02, -5.75985154e-03, -3.30990031e-02, -9.02232993e-03,\n",
              "         7.64228404e-02,  3.79342325e-02, -9.34037194e-03, -2.47394596e-03,\n",
              "         1.70520283e-02,  1.17398938e-02,  3.56042013e-02, -1.33584635e-02,\n",
              "         1.10128550e-02,  4.97053051e-03,  5.13845012e-02,  6.83200657e-02,\n",
              "         3.00766854e-03,  3.22615653e-02,  2.24672910e-02, -5.06120923e-05,\n",
              "         1.53882066e-02,  3.59043628e-02, -9.10118371e-02, -4.91281739e-03,\n",
              "         5.48757873e-02, -3.37413186e-03, -8.88249278e-03, -9.30805039e-03,\n",
              "        -1.66846886e-02, -1.53243365e-02, -2.23794784e-02,  1.23265069e-02],\n",
              "       dtype=float32)>,\n",
              " <tf.Variable 'conv2d_12/kernel:0' shape=(3, 3, 64, 64) dtype=float32, numpy=\n",
              " array([[[[ 1.63603798e-02, -2.13470999e-02, -3.23194601e-02, ...,\n",
              "            5.56430370e-02,  3.50893959e-02, -1.16944211e-02],\n",
              "          [ 1.78377721e-02, -4.69446592e-02, -2.70201433e-02, ...,\n",
              "            3.74858007e-02, -1.30208489e-03, -3.78207956e-03],\n",
              "          [ 4.25128341e-02, -1.81376263e-02, -5.40876463e-02, ...,\n",
              "           -3.89725976e-02,  5.90658709e-02, -6.56398088e-02],\n",
              "          ...,\n",
              "          [ 4.61499207e-02, -1.86721329e-02, -4.46087345e-02, ...,\n",
              "            6.32086396e-02,  7.85806775e-02,  6.80658966e-02],\n",
              "          [-2.21470091e-02, -5.10348082e-02,  2.40436140e-02, ...,\n",
              "            7.16385338e-03, -8.37901793e-03, -4.52229269e-02],\n",
              "          [-3.13621722e-02, -2.94012912e-02,  5.78129143e-02, ...,\n",
              "            3.45814452e-02,  4.31849323e-02, -8.79817735e-03]],\n",
              " \n",
              "         [[-3.09769455e-02, -5.07914908e-02,  1.29426282e-03, ...,\n",
              "            2.28005610e-02,  5.40391132e-02,  7.12374449e-02],\n",
              "          [ 3.00882235e-02, -1.06452534e-03, -2.01791860e-02, ...,\n",
              "            4.37766837e-04,  7.51737952e-02,  2.77624615e-02],\n",
              "          [ 5.91914095e-02, -2.85832919e-02,  6.83089942e-02, ...,\n",
              "           -8.39068145e-02,  8.27229545e-02,  4.04999666e-02],\n",
              "          ...,\n",
              "          [-4.26032208e-02,  3.94397508e-03, -4.01250497e-02, ...,\n",
              "           -8.72003511e-02, -1.32846097e-02,  5.08491285e-05],\n",
              "          [-1.07031837e-01,  7.28271529e-02,  3.93608958e-02, ...,\n",
              "           -7.79295936e-02, -8.96529760e-03, -6.50363639e-02],\n",
              "          [ 2.70871427e-02, -9.46217403e-03, -1.78981367e-02, ...,\n",
              "           -5.63935526e-02, -5.44176251e-02,  6.81769848e-02]],\n",
              " \n",
              "         [[ 6.25731573e-02,  2.05427781e-02,  8.86054523e-03, ...,\n",
              "            5.91751263e-02,  4.27349135e-02, -5.96857220e-02],\n",
              "          [ 1.60852727e-02, -4.35463376e-02, -8.73465389e-02, ...,\n",
              "            2.99577061e-02,  5.14480807e-02,  2.32922453e-02],\n",
              "          [-6.44280715e-03,  7.27129579e-02,  4.02362645e-02, ...,\n",
              "           -1.23907384e-02,  1.02406163e-02,  1.68801975e-02],\n",
              "          ...,\n",
              "          [ 3.33605111e-02, -2.54068933e-02, -4.78031635e-02, ...,\n",
              "           -2.84485091e-02,  7.85567462e-02,  4.48804051e-02],\n",
              "          [-8.18657354e-02,  3.71736251e-02, -5.55818006e-02, ...,\n",
              "           -1.63471382e-02, -4.53163460e-02, -5.99696599e-02],\n",
              "          [-2.11028084e-02, -2.59184353e-02, -3.81027199e-02, ...,\n",
              "           -3.12605575e-02, -5.35795279e-02, -5.77890836e-02]]],\n",
              " \n",
              " \n",
              "        [[[-5.04492521e-02, -4.32234034e-02,  7.38868043e-02, ...,\n",
              "           -2.37821769e-02, -2.10697986e-02, -7.28993714e-02],\n",
              "          [-2.74697077e-02,  1.18570337e-02, -6.61466122e-02, ...,\n",
              "            2.36879028e-02, -5.65716822e-04, -4.15738076e-02],\n",
              "          [-7.25943828e-03,  1.08351139e-02,  1.14957225e-02, ...,\n",
              "            4.28945012e-02,  3.64086777e-02, -8.57763290e-02],\n",
              "          ...,\n",
              "          [-6.41273335e-02,  5.68033084e-02, -4.18171883e-02, ...,\n",
              "           -1.15706827e-02, -2.84444392e-02,  1.89646296e-02],\n",
              "          [ 1.73789505e-02, -4.87735868e-02,  3.03712822e-02, ...,\n",
              "            2.01052800e-02, -4.63301241e-02,  1.70266200e-02],\n",
              "          [-4.01628204e-02, -2.93192454e-02, -5.49769215e-02, ...,\n",
              "           -7.24904910e-02, -2.38209758e-02,  6.09504431e-02]],\n",
              " \n",
              "         [[ 3.60730104e-02, -9.09122266e-03, -4.34263088e-02, ...,\n",
              "           -3.52154747e-02,  7.45119378e-02, -6.40478209e-02],\n",
              "          [-3.78095992e-02, -6.65560141e-02, -4.49733436e-02, ...,\n",
              "            3.42160240e-02, -2.18546647e-03, -1.50637068e-02],\n",
              "          [-1.49932969e-02,  9.80671346e-02,  4.73137535e-02, ...,\n",
              "            1.73679926e-02,  1.12410346e-02,  6.08423613e-02],\n",
              "          ...,\n",
              "          [-2.34055351e-02, -5.42845950e-02,  2.76313461e-02, ...,\n",
              "           -5.48409484e-02, -1.75221879e-02,  2.63121724e-02],\n",
              "          [-2.63778549e-02,  4.72107343e-02, -1.79795548e-02, ...,\n",
              "            3.03717609e-02, -4.84810174e-02, -5.39673194e-02],\n",
              "          [-2.45843828e-02,  3.12222671e-02,  2.31914800e-02, ...,\n",
              "           -2.98364218e-02,  5.69416210e-02,  4.35338542e-02]],\n",
              " \n",
              "         [[ 1.33197708e-03, -4.37495224e-02, -1.38919363e-02, ...,\n",
              "            5.64506799e-02, -4.30626273e-02,  2.77443714e-02],\n",
              "          [-5.78510389e-02,  1.99243035e-02,  1.84648242e-02, ...,\n",
              "            1.02217775e-03,  2.40164879e-03, -4.84191477e-02],\n",
              "          [-4.09171209e-02, -3.55103463e-02,  4.77219485e-02, ...,\n",
              "           -7.97420889e-02,  1.30422246e-02, -7.12343380e-02],\n",
              "          ...,\n",
              "          [ 5.01477451e-04,  5.98524995e-02, -3.05018518e-02, ...,\n",
              "           -6.53127506e-02,  1.31931147e-02,  7.42263673e-03],\n",
              "          [ 2.54939543e-03, -9.41583365e-02, -2.54080389e-02, ...,\n",
              "            2.62975246e-02, -5.51696047e-02,  6.54648840e-02],\n",
              "          [-1.26633886e-03,  1.91440824e-02, -2.90970020e-02, ...,\n",
              "           -6.50998354e-02,  4.38751951e-02, -1.60343256e-02]]],\n",
              " \n",
              " \n",
              "        [[[-3.27420644e-02,  1.18524050e-02, -8.91395379e-03, ...,\n",
              "            2.74252817e-02, -6.12671189e-02,  5.00832386e-02],\n",
              "          [ 3.61231826e-02,  4.92080748e-02,  1.07002286e-02, ...,\n",
              "           -5.80200972e-03,  6.65449426e-02, -3.95920537e-02],\n",
              "          [-4.54044435e-03, -4.27469015e-02,  3.06070298e-02, ...,\n",
              "            4.45711135e-04,  6.41260017e-03,  5.02558313e-02],\n",
              "          ...,\n",
              "          [-2.26839259e-02,  2.02342384e-02,  1.14722066e-01, ...,\n",
              "           -1.62234306e-02, -2.09948365e-02,  7.03870784e-03],\n",
              "          [ 5.90125024e-02, -3.34809013e-02, -5.24819456e-02, ...,\n",
              "           -5.88015988e-02, -6.07805774e-02,  1.91292100e-04],\n",
              "          [-6.38162941e-02,  8.10069367e-02,  1.03821326e-02, ...,\n",
              "            3.26163620e-02,  3.92999575e-02,  3.23109552e-02]],\n",
              " \n",
              "         [[ 3.26370001e-02,  3.33755240e-02, -2.68257242e-02, ...,\n",
              "           -6.05822429e-02,  1.75257474e-02,  6.35454580e-02],\n",
              "          [-1.78163406e-03, -2.28276430e-03, -8.77699926e-02, ...,\n",
              "           -8.09228863e-04,  5.57606816e-02, -6.07635500e-03],\n",
              "          [-3.04481131e-03, -1.02180444e-01,  2.59156469e-02, ...,\n",
              "           -3.66447978e-02,  1.62712764e-02,  5.20420931e-02],\n",
              "          ...,\n",
              "          [-4.36232686e-02,  4.93538231e-02,  1.11904845e-01, ...,\n",
              "            2.74850540e-02,  6.75641298e-02, -5.29361772e-04],\n",
              "          [-5.35320751e-02, -6.30952939e-02,  5.58324456e-02, ...,\n",
              "            1.88041795e-02,  3.42573524e-02,  3.34032662e-02],\n",
              "          [-8.15803558e-03,  5.18483622e-03, -1.26086073e-02, ...,\n",
              "            2.14614235e-02,  2.18563974e-02, -6.75362796e-02]],\n",
              " \n",
              "         [[ 1.70996133e-02,  3.83268669e-02,  1.04356213e-02, ...,\n",
              "            7.21414108e-03, -1.21643990e-02, -4.80315313e-02],\n",
              "          [-1.48345474e-02, -5.40789254e-02,  7.51225725e-02, ...,\n",
              "           -3.02291140e-02,  6.31100088e-02, -2.68455762e-02],\n",
              "          [ 7.86856841e-03, -7.26359412e-02, -8.34783539e-02, ...,\n",
              "           -2.78490633e-02,  7.26664215e-02,  4.98798229e-02],\n",
              "          ...,\n",
              "          [-6.08113483e-02,  2.22468730e-02,  3.24328467e-02, ...,\n",
              "            5.82606941e-02,  1.30396597e-02, -5.36302961e-02],\n",
              "          [ 6.04047887e-02, -3.46411169e-02,  3.71491052e-02, ...,\n",
              "            4.85154837e-02, -5.00818379e-02, -6.93684220e-02],\n",
              "          [-5.10424525e-02,  3.26270126e-02,  7.68624619e-02, ...,\n",
              "            3.03920917e-02, -1.16300052e-02, -3.87074724e-02]]]],\n",
              "       dtype=float32)>,\n",
              " <tf.Variable 'conv2d_12/bias:0' shape=(64,) dtype=float32, numpy=\n",
              " array([-0.0937019 , -0.01745108, -0.02258686, -0.00373146, -0.03771587,\n",
              "        -0.02463579,  0.00165901, -0.00723453, -0.02789049, -0.01286546,\n",
              "        -0.01001329,  0.00292727, -0.03614983,  0.00438224, -0.01624189,\n",
              "         0.03333553, -0.02891279,  0.01156772,  0.01491346, -0.03789339,\n",
              "        -0.01130167, -0.00314501,  0.03833136,  0.00646865, -0.01938446,\n",
              "        -0.07702539, -0.03639041,  0.01752423,  0.01247702, -0.05680975,\n",
              "        -0.04373895, -0.01530398,  0.00781436, -0.0020097 ,  0.00512052,\n",
              "         0.00259159, -0.01362142, -0.0220787 ,  0.01449634, -0.01749395,\n",
              "        -0.06758905, -0.07592781,  0.05396167, -0.04584348, -0.04000865,\n",
              "        -0.02417031, -0.02774362, -0.02005688,  0.01133068,  0.02008644,\n",
              "        -0.05759998,  0.0046435 , -0.05231468, -0.05066195, -0.04953317,\n",
              "         0.00563119,  0.02899166, -0.06070591,  0.00061161, -0.03262378,\n",
              "         0.02929565, -0.03759808, -0.00753887,  0.01503011], dtype=float32)>,\n",
              " <tf.Variable 'dense_3/kernel:0' shape=(1024, 128) dtype=float32, numpy=\n",
              " array([[ 0.07098076,  0.0431822 , -0.01415927, ...,  0.01577601,\n",
              "         -0.06867045, -0.00239053],\n",
              "        [ 0.04782563, -0.00100123, -0.02158114, ..., -0.03556041,\n",
              "         -0.04050641,  0.00992699],\n",
              "        [-0.0139993 ,  0.01199898,  0.02122428, ...,  0.00375427,\n",
              "         -0.00539801,  0.06249056],\n",
              "        ...,\n",
              "        [-0.03386241,  0.00714629, -0.00567415, ...,  0.06896029,\n",
              "          0.02617699,  0.01389626],\n",
              "        [-0.02606305,  0.03169901, -0.0528459 , ...,  0.0503636 ,\n",
              "          0.01540817, -0.02897411],\n",
              "        [-0.03450388, -0.0547915 , -0.04118197, ...,  0.01187105,\n",
              "          0.01519246,  0.0524621 ]], dtype=float32)>,\n",
              " <tf.Variable 'dense_3/bias:0' shape=(128,) dtype=float32, numpy=\n",
              " array([ 0.0000000e+00, -8.5667806e-04,  0.0000000e+00,  9.2114357e-04,\n",
              "         0.0000000e+00, -5.5586887e-03, -4.9118246e-03,  2.9763670e-04,\n",
              "         1.9040102e-03, -3.5282234e-03, -5.9883827e-03, -3.5236913e-03,\n",
              "        -5.4280115e-03,  6.3488097e-03,  2.2176860e-03,  0.0000000e+00,\n",
              "        -5.4276497e-03, -3.7314538e-03, -2.2160362e-03, -5.6636268e-03,\n",
              "         1.5143319e-03, -6.3871015e-03, -2.3887106e-03, -5.5552442e-03,\n",
              "        -6.7683524e-03, -5.5351318e-03, -3.7972410e-03, -3.3214400e-03,\n",
              "        -1.4199638e-04,  0.0000000e+00, -3.0768034e-04, -7.0356070e-03,\n",
              "        -2.6549960e-03,  6.3115209e-03, -6.9567291e-03, -3.0974424e-03,\n",
              "        -6.7498935e-03, -5.5588195e-03,  6.2895357e-03, -2.8881964e-03,\n",
              "         1.8447126e-03, -6.6993977e-03, -2.7558773e-03,  6.3706762e-03,\n",
              "        -2.4047096e-03,  0.0000000e+00, -5.5585755e-03,  6.2986847e-04,\n",
              "        -1.1800387e-07, -4.8794243e-03, -6.2602893e-03,  1.7547245e-03,\n",
              "        -4.5694057e-03, -5.5587119e-03, -6.4742151e-03, -5.5587934e-03,\n",
              "        -3.6524064e-03, -1.3428387e-03,  0.0000000e+00, -5.5442629e-03,\n",
              "        -6.9200289e-03, -9.6446788e-03,  5.4763071e-03, -8.7804794e-03,\n",
              "        -5.2451179e-03,  5.3613493e-03, -5.6112548e-03,  1.3461291e-03,\n",
              "        -1.2866897e-03, -6.3292873e-03, -5.5567892e-03, -6.3777147e-03,\n",
              "        -4.3441625e-03, -5.1415586e-03, -6.9971303e-03,  6.3309395e-03,\n",
              "        -5.2810996e-03, -2.8851451e-03, -5.1271683e-03, -5.5253319e-03,\n",
              "        -2.1145453e-03, -3.1478163e-03,  8.0672521e-03, -5.5576656e-03,\n",
              "        -6.4372388e-03, -6.2285108e-03, -5.5584600e-03, -5.3464156e-03,\n",
              "        -6.8682940e-03, -3.3145063e-03, -7.1470579e-03,  4.1652024e-03,\n",
              "        -4.3262411e-03,  0.0000000e+00, -5.5582970e-03,  6.3456669e-03,\n",
              "        -9.2555424e-03,  6.5375692e-03, -5.4416438e-03, -2.5370591e-03,\n",
              "         6.3076825e-03,  5.0497251e-03,  0.0000000e+00, -1.2190004e-03,\n",
              "        -6.3588405e-03, -1.7622215e-03,  1.6446853e-03, -5.6173089e-03,\n",
              "         4.5615053e-03, -5.8480268e-03,  0.0000000e+00, -5.8486699e-03,\n",
              "        -7.5974273e-03, -5.3148498e-03, -1.2691914e-02,  2.8529079e-04,\n",
              "         0.0000000e+00, -2.7286981e-03, -5.5587799e-03, -5.4467730e-03,\n",
              "        -7.2909598e-03,  0.0000000e+00, -5.5587240e-03, -6.0275220e-03,\n",
              "        -5.5442806e-03,  4.5685465e-03, -5.3825472e-03,  1.3932082e-03],\n",
              "       dtype=float32)>,\n",
              " <tf.Variable 'dense_4/kernel:0' shape=(128, 2) dtype=float32, numpy=\n",
              " array([[ 0.16833104,  0.14416514],\n",
              "        [-0.19212954,  0.19454187],\n",
              "        [-0.12206405,  0.00998954],\n",
              "        [-0.10016716,  0.08892907],\n",
              "        [ 0.07589699, -0.11891752],\n",
              "        [ 0.07464672, -0.03572232],\n",
              "        [-0.05632672, -0.0890535 ],\n",
              "        [-0.1246425 , -0.04860787],\n",
              "        [-0.0847368 , -0.04925773],\n",
              "        [ 0.00376375,  0.0324193 ],\n",
              "        [ 0.19927745, -0.19905347],\n",
              "        [ 0.11451126,  0.03162233],\n",
              "        [-0.12488518, -0.15762335],\n",
              "        [-0.07982196,  0.17358904],\n",
              "        [-0.1950532 ,  0.12852164],\n",
              "        [-0.12420999,  0.20149101],\n",
              "        [ 0.18566251,  0.06787436],\n",
              "        [-0.15852225,  0.1288396 ],\n",
              "        [ 0.01756214, -0.1248921 ],\n",
              "        [ 0.05078856,  0.09448646],\n",
              "        [ 0.14548136,  0.15277751],\n",
              "        [ 0.14231361, -0.03606065],\n",
              "        [ 0.21527542, -0.09213705],\n",
              "        [-0.02459054, -0.19984186],\n",
              "        [-0.13543579,  0.15831913],\n",
              "        [-0.11440679, -0.19579586],\n",
              "        [-0.00091278, -0.00696207],\n",
              "        [ 0.00671742, -0.11640498],\n",
              "        [ 0.0140952 ,  0.10762282],\n",
              "        [-0.05104756,  0.14446114],\n",
              "        [ 0.04199198,  0.00380921],\n",
              "        [-0.02567188,  0.02757585],\n",
              "        [ 0.07843076, -0.13221474],\n",
              "        [-0.04000337,  0.04936957],\n",
              "        [ 0.11059847, -0.17749244],\n",
              "        [-0.17159602,  0.18297042],\n",
              "        [ 0.1296625 ,  0.12499953],\n",
              "        [ 0.19784404, -0.20702286],\n",
              "        [ 0.0913805 ,  0.18527079],\n",
              "        [-0.11908992, -0.05223381],\n",
              "        [ 0.10971539,  0.12257756],\n",
              "        [ 0.20448288,  0.14602521],\n",
              "        [ 0.21000427,  0.07413527],\n",
              "        [-0.10169493,  0.04426487],\n",
              "        [ 0.19352534,  0.01738182],\n",
              "        [ 0.05713741, -0.11075871],\n",
              "        [ 0.03629712, -0.08042938],\n",
              "        [-0.08473829, -0.0223186 ],\n",
              "        [ 0.09520697,  0.1748888 ],\n",
              "        [ 0.1291696 ,  0.00380414],\n",
              "        [ 0.10011782, -0.05820507],\n",
              "        [-0.1707602 ,  0.16297242],\n",
              "        [-0.06407852,  0.18197213],\n",
              "        [ 0.09977937, -0.02730928],\n",
              "        [ 0.06632966, -0.04464979],\n",
              "        [ 0.2029355 , -0.04310976],\n",
              "        [ 0.18102045,  0.02412771],\n",
              "        [-0.11152895,  0.07461441],\n",
              "        [-0.07859042, -0.00885639],\n",
              "        [ 0.19617942,  0.12743601],\n",
              "        [-0.11120055, -0.14926705],\n",
              "        [-0.02425928, -0.08958757],\n",
              "        [-0.15570492,  0.03307648],\n",
              "        [-0.09628996,  0.19630627],\n",
              "        [ 0.19103265, -0.1501016 ],\n",
              "        [ 0.059951  ,  0.0662594 ],\n",
              "        [ 0.12717958,  0.1460627 ],\n",
              "        [ 0.04444369,  0.12938102],\n",
              "        [ 0.050925  , -0.17078528],\n",
              "        [ 0.17202829,  0.04678579],\n",
              "        [-0.07151427, -0.15825412],\n",
              "        [ 0.03784382, -0.03309999],\n",
              "        [-0.03215935, -0.03146258],\n",
              "        [-0.03967277,  0.09807815],\n",
              "        [ 0.03853337,  0.0925172 ],\n",
              "        [ 0.05583128,  0.13010551],\n",
              "        [ 0.09991693, -0.03873287],\n",
              "        [ 0.08841051,  0.05439121],\n",
              "        [-0.04358886,  0.05443894],\n",
              "        [-0.08044877, -0.09838688],\n",
              "        [-0.02725338,  0.1664007 ],\n",
              "        [-0.08434905, -0.1657876 ],\n",
              "        [-0.08197663,  0.0402127 ],\n",
              "        [-0.08349102, -0.09205352],\n",
              "        [ 0.0094201 , -0.17835145],\n",
              "        [-0.18831064, -0.20509458],\n",
              "        [-0.06243306, -0.20094821],\n",
              "        [-0.09981979,  0.05675368],\n",
              "        [-0.11864457,  0.08147844],\n",
              "        [-0.02862221, -0.14573433],\n",
              "        [ 0.01693951, -0.03524203],\n",
              "        [-0.0200088 , -0.00967401],\n",
              "        [ 0.14334618, -0.1397405 ],\n",
              "        [ 0.18180399, -0.07398549],\n",
              "        [ 0.09479252,  0.06450915],\n",
              "        [-0.06797106,  0.16276042],\n",
              "        [-0.20397314, -0.14863724],\n",
              "        [-0.07997894,  0.04594152],\n",
              "        [-0.06984317, -0.13243736],\n",
              "        [-0.02770206, -0.05690632],\n",
              "        [-0.15460064,  0.11867277],\n",
              "        [ 0.06533705,  0.08724146],\n",
              "        [-0.02580531, -0.06801717],\n",
              "        [-0.13168119, -0.06235548],\n",
              "        [ 0.05537515, -0.17106365],\n",
              "        [-0.17395264, -0.11282728],\n",
              "        [-0.0083462 ,  0.0879204 ],\n",
              "        [ 0.08169542, -0.18489386],\n",
              "        [-0.07649174,  0.04708112],\n",
              "        [-0.03214658, -0.05356272],\n",
              "        [ 0.0765921 , -0.15016727],\n",
              "        [-0.04368506,  0.03498046],\n",
              "        [ 0.00490054,  0.00323887],\n",
              "        [ 0.2045498 ,  0.11532479],\n",
              "        [ 0.02453802,  0.16528317],\n",
              "        [-0.01688592,  0.10392318],\n",
              "        [-0.09526875,  0.08439238],\n",
              "        [-0.08149561, -0.11205877],\n",
              "        [ 0.05920965, -0.15702625],\n",
              "        [ 0.03550897,  0.00804884],\n",
              "        [ 0.18680969,  0.0832265 ],\n",
              "        [-0.03295478, -0.12009145],\n",
              "        [-0.05121991, -0.1894934 ],\n",
              "        [ 0.06260768, -0.10025652],\n",
              "        [ 0.19250266, -0.07838029],\n",
              "        [ 0.07010865,  0.12386176],\n",
              "        [ 0.17022248, -0.04840359],\n",
              "        [-0.15637587,  0.20846796]], dtype=float32)>,\n",
              " <tf.Variable 'dense_4/bias:0' shape=(2,) dtype=float32, numpy=array([-0.00637433,  0.00637432], dtype=float32)>]"
            ]
          },
          "metadata": {
            "tags": []
          },
          "execution_count": 29
        }
      ]
    },
    {
      "cell_type": "markdown",
      "metadata": {
        "id": "mobCUIe_QeHv",
        "colab_type": "text"
      },
      "source": [
        "## Preprocessing data for LIME explanation\n",
        "Our CNN model is ready to go. Let's move on to preparing for LIME explanation.  \n",
        "The function in the next cell takes image data as input (in our case, .jpg) and returns a flattened data format.  \n",
        "In theory, this function could take a list of images and return the images as a list of arrays. For our demonstration purposes, however, we will input images one-by-one.  \n",
        "This function comes from [Marco Tulio Correia Ribeiro's tutorial](https://github.com/marcotcr/lime/blob/master/doc/notebooks/Tutorial%20-%20Image%20Classification%20Keras.ipynb?fbclid=IwAR2zmS6xUc9zbd2esk3pGc1dWxR8adF6IEXjx-q6Yq-CJ9KGPHO_0Y7XBmE).\n"
      ]
    },
    {
      "cell_type": "code",
      "metadata": {
        "id": "mq2d5k2gbPNU",
        "colab_type": "code",
        "colab": {}
      },
      "source": [
        "def transform_img_fn(path_list):\n",
        "    out = []\n",
        "    for img_path in path_list:\n",
        "        img = image.load_img(img_path, target_size=(32, 32))\n",
        "        x = image.img_to_array(img)\n",
        "        x = np.expand_dims(x, axis=0)\n",
        "        x = inc_net.preprocess_input(x)\n",
        "        out.append(x)\n",
        "    return np.vstack(out)"
      ],
      "execution_count": null,
      "outputs": []
    },
    {
      "cell_type": "code",
      "metadata": {
        "id": "h7tYOBvFbWZ-",
        "colab_type": "code",
        "colab": {
          "base_uri": "https://localhost:8080/",
          "height": 283
        },
        "outputId": "5a7595af-9259-4dca-fe58-0c01525403ac"
      },
      "source": [
        "# Let's look at an example image.\n",
        "images = transform_img_fn(['train/fff059ecc91b30be5745e8b81111dc7b.jpg'])\n",
        "\n",
        "plt.imshow(images[0] / 2 + 0.5)\n",
        "preds = full_model.predict(images)\n",
        "print(preds)"
      ],
      "execution_count": null,
      "outputs": [
        {
          "output_type": "stream",
          "text": [
            "[[0.45229775 0.5477022 ]]\n"
          ],
          "name": "stdout"
        },
        {
          "output_type": "display_data",
          "data": {
            "image/png": "[encoded data removed]",
            "text/plain": [
              "<Figure size 432x288 with 1 Axes>"
            ]
          },
          "metadata": {
            "tags": [],
            "needs_background": "light"
          }
        }
      ]
    },
    {
      "cell_type": "markdown",
      "metadata": {
        "id": "aW58iyl5kEb5",
        "colab_type": "text"
      },
      "source": [
        "## What did we just see?\n",
        "1. We saw the image. It looks extremely blurry because earlier we wrote ```Input(shape = (32, 32, 3))```, designating the images as being 32 pixels by 32 pixels. Although this makes the images blurry, it reduces the time needed to analyze each image because the amount of data per image has been reduced drastically.\n",
        "2. From ```print(preds)```, we received the output ```[[0.45229775 0.5477022 ]]```. These numbers represent the model's decision (they are unlabeled because we only have two classifications - 0 (not a cactus-of-interest) and 1 (cactus-of-interest). The first number, ```0.45229775```, is essentially the model's predicted probability of the image in question being 0, while the second output ```0.5477022``` is the predicted probability of the image being 1 (a cactus-of-interest)."
      ]
    },
    {
      "cell_type": "markdown",
      "metadata": {
        "id": "fUkgWOiNQhqB",
        "colab_type": "text"
      },
      "source": [
        "## LIME explanation\n",
        "In the following cells, we prepare the LIME explainer using [Marco Tulio Correia Ribeiro's LIME package for Python](https://github.com/marcotcr/lime)."
      ]
    },
    {
      "cell_type": "code",
      "metadata": {
        "id": "Nl0UN9u6Uqsm",
        "colab_type": "code",
        "colab": {}
      },
      "source": [
        "explainer = lime_image.LimeImageExplainer()"
      ],
      "execution_count": null,
      "outputs": []
    },
    {
      "cell_type": "code",
      "metadata": {
        "id": "61xqgzNZU6Yq",
        "colab_type": "code",
        "colab": {
          "base_uri": "https://localhost:8080/",
          "height": 66,
          "referenced_widgets": [
            "c58babfae9a742c1b4462098b41fb820",
            "90ba2f2073ff4a4f9e1bf747faccbdd4",
            "2e20dbad37f14aa2902991374d0f61be",
            "6e50a6bfe0dc46fb87c64d4ce665f128",
            "e4e48ee2055d4e1fba98a3986f5d30b6",
            "4045ca0d12a7476da0f4212c6985bed8",
            "7a51b73a15cc496c873d781bef8249d8",
            "1d0702195e6942869215600e44099f0b"
          ]
        },
        "outputId": "5971d666-e22d-4948-d835-a418dd2296cf"
      },
      "source": [
        "explanation = explainer.explain_instance(images[0], full_model.predict, top_labels=5, hide_color=0, num_samples=1000)"
      ],
      "execution_count": null,
      "outputs": [
        {
          "output_type": "display_data",
          "data": {
            "application/vnd.jupyter.widget-view+json": {
              "model_id": "c58babfae9a742c1b4462098b41fb820",
              "version_minor": 0,
              "version_major": 2
            },
            "text/plain": [
              "HBox(children=(IntProgress(value=0, max=1000), HTML(value='')))"
            ]
          },
          "metadata": {
            "tags": []
          }
        },
        {
          "output_type": "stream",
          "text": [
            "\n"
          ],
          "name": "stdout"
        }
      ]
    },
    {
      "cell_type": "markdown",
      "metadata": {
        "id": "ctcovQZE1mdN",
        "colab_type": "text"
      },
      "source": [
        "# Displaying the LIME explanation\n",
        "The next three cells display the LIME explanation. They are presenting the same data in three different ways by manipulating two arguments of the ```LimeImageExplainer()``` function: ```positive_only``` and ```hide_rest```.  \n",
        "By setting ```positive_only = True``` and ```hide_rest = True```, the explainer shows us only the parts of the image that contributed to the classifier's most likely prediction. If the classifier has predicted that an image contains a cactus, this  setting will display only the parts of the image that contributed to that prediction.  \n",
        "By setting ```positive_only = True``` and ```hide_rest = False```, the explainer shows the entire image but shows the distinction between sections of the image that contributed to each label. Using this setting by itself can be confusing because although it shows different segments of the image (called superpixels), it does not indicate which superpixels contributed to which label.  \n",
        "By setting ```positive_only = False``` and ```hide_rest = False```, the explainer shows us the entire image, like in the previous setting, but indicates which superpixels correspond to which labels. Superpixels corresponding to the most likely superpixel are in green."
      ]
    },
    {
      "cell_type": "code",
      "metadata": {
        "id": "dyfketamGJ62",
        "colab_type": "code",
        "colab": {
          "base_uri": "https://localhost:8080/",
          "height": 283
        },
        "outputId": "67715fa7-f7b5-4a58-de38-23e4ac6845c1"
      },
      "source": [
        "temp, mask = explanation.get_image_and_mask(1, positive_only=True, num_features=5, hide_rest=True)\n",
        "plt.imshow(mark_boundaries(temp / 2 + 0.5, mask))"
      ],
      "execution_count": null,
      "outputs": [
        {
          "output_type": "execute_result",
          "data": {
            "text/plain": [
              "<matplotlib.image.AxesImage at 0x7f8f5f12d048>"
            ]
          },
          "metadata": {
            "tags": []
          },
          "execution_count": 35
        },
        {
          "output_type": "display_data",
          "data": {
            "image/png": "[encoded data removed]",
            "text/plain": [
              "<Figure size 432x288 with 1 Axes>"
            ]
          },
          "metadata": {
            "tags": [],
            "needs_background": "light"
          }
        }
      ]
    },
    {
      "cell_type": "code",
      "metadata": {
        "id": "zfWqvpvYGSBy",
        "colab_type": "code",
        "colab": {
          "base_uri": "https://localhost:8080/",
          "height": 283
        },
        "outputId": "3f23ab58-29a3-4a2e-d35f-a04051e9d279"
      },
      "source": [
        "temp, mask = explanation.get_image_and_mask(1, positive_only=True, num_features=5, hide_rest=False)\n",
        "plt.imshow(mark_boundaries(temp / 2 + 0.5, mask))"
      ],
      "execution_count": null,
      "outputs": [
        {
          "output_type": "execute_result",
          "data": {
            "text/plain": [
              "<matplotlib.image.AxesImage at 0x7f8f5f085d30>"
            ]
          },
          "metadata": {
            "tags": []
          },
          "execution_count": 36
        },
        {
          "output_type": "display_data",
          "data": {
            "image/png": "[encoded data removed]",
            "text/plain": [
              "<Figure size 432x288 with 1 Axes>"
            ]
          },
          "metadata": {
            "tags": [],
            "needs_background": "light"
          }
        }
      ]
    },
    {
      "cell_type": "code",
      "metadata": {
        "id": "d2hah-0lGSoj",
        "colab_type": "code",
        "colab": {
          "base_uri": "https://localhost:8080/",
          "height": 283
        },
        "outputId": "b509bf99-4101-4a86-a1c2-d37d271f4c86"
      },
      "source": [
        "temp, mask = explanation.get_image_and_mask(1, positive_only=False, num_features=10, hide_rest=False)\n",
        "plt.imshow(mark_boundaries(temp / 2 + 0.5, mask))"
      ],
      "execution_count": null,
      "outputs": [
        {
          "output_type": "execute_result",
          "data": {
            "text/plain": [
              "<matplotlib.image.AxesImage at 0x7f8f56e8eac8>"
            ]
          },
          "metadata": {
            "tags": []
          },
          "execution_count": 37
        },
        {
          "output_type": "display_data",
          "data": {
            "image/png": "[encoded data removed]",
            "text/plain": [
              "<Figure size 432x288 with 1 Axes>"
            ]
          },
          "metadata": {
            "tags": [],
            "needs_background": "light"
          }
        }
      ]
    },
    {
      "cell_type": "markdown",
      "metadata": {
        "id": "QKzNqlcE3Mup",
        "colab_type": "text"
      },
      "source": [
        "The last three cells displayed the same data but in different ways.  \n",
        "\n",
        "Now let's look at explanations of three other images. Doing so will give us a better idea of what exactly the classifier is looking for when it analyzes images.  \n",
        "We will do the same preprocessing to prepare the image for LIME explanation and then doing the first and third displays from before. We will skip the second display because it is basically the less useful combination of the first and third display methods.  \n",
        "These images were chosen randomly from our library."
      ]
    },
    {
      "cell_type": "markdown",
      "metadata": {
        "id": "Y16AU-kpJQbH",
        "colab_type": "text"
      },
      "source": [
        "## Image 1"
      ]
    },
    {
      "cell_type": "code",
      "metadata": {
        "id": "XH1D7fkQ3LO_",
        "colab_type": "code",
        "colab": {
          "base_uri": "https://localhost:8080/",
          "height": 332,
          "referenced_widgets": [
            "e4298e18517642e49a6f2190cc5c01fb",
            "ba7ebc91ea7d4b8f888f88bba5608b34",
            "4925b2ed006446dc976d10da249aedbb",
            "20c14f0a84624365ab8cd348c0d0c4b8",
            "c359599fcf964ad0a4e2ba37353ea7cd",
            "2afebbbfdc304b80ba30aba087383c96",
            "cbec24fcdf2c4a8cbec6ce43f30de271",
            "bf0a9d3bb3774db8ade27d6a4281222f"
          ]
        },
        "outputId": "f436f63d-f2fb-4b0f-85ec-d71ac6fcd1cc"
      },
      "source": [
        "images = transform_img_fn(['train/ffd686dcbe047a863de4d250d9b7687a.jpg'])\n",
        "\n",
        "plt.imshow(images[0] / 2 + 0.5)\n",
        "preds = full_model.predict(images)\n",
        "print(preds)\n",
        "\n",
        "explanation = explainer.explain_instance(images[0], full_model.predict, top_labels=5, hide_color=0, num_samples=1000)"
      ],
      "execution_count": null,
      "outputs": [
        {
          "output_type": "stream",
          "text": [
            "[[0.45894948 0.54105055]]\n"
          ],
          "name": "stdout"
        },
        {
          "output_type": "display_data",
          "data": {
            "application/vnd.jupyter.widget-view+json": {
              "model_id": "e4298e18517642e49a6f2190cc5c01fb",
              "version_minor": 0,
              "version_major": 2
            },
            "text/plain": [
              "HBox(children=(IntProgress(value=0, max=1000), HTML(value='')))"
            ]
          },
          "metadata": {
            "tags": []
          }
        },
        {
          "output_type": "stream",
          "text": [
            "\n"
          ],
          "name": "stdout"
        },
        {
          "output_type": "display_data",
          "data": {
            "image/png": "[encoded data removed]",
            "text/plain": [
              "<Figure size 432x288 with 1 Axes>"
            ]
          },
          "metadata": {
            "tags": [],
            "needs_background": "light"
          }
        }
      ]
    },
    {
      "cell_type": "code",
      "metadata": {
        "id": "i3E4ntH9CO2Q",
        "colab_type": "code",
        "colab": {
          "base_uri": "https://localhost:8080/",
          "height": 283
        },
        "outputId": "e8dc4e30-a0dc-4b47-e02d-b45477b6d095"
      },
      "source": [
        "temp, mask = explanation.get_image_and_mask(1, positive_only=True, num_features=5, hide_rest=True)\n",
        "plt.imshow(mark_boundaries(temp / 2 + 0.5, mask))"
      ],
      "execution_count": null,
      "outputs": [
        {
          "output_type": "execute_result",
          "data": {
            "text/plain": [
              "<matplotlib.image.AxesImage at 0x7f8f5f14c240>"
            ]
          },
          "metadata": {
            "tags": []
          },
          "execution_count": 39
        },
        {
          "output_type": "display_data",
          "data": {
            "image/png": "[encoded data removed]",
            "text/plain": [
              "<Figure size 432x288 with 1 Axes>"
            ]
          },
          "metadata": {
            "tags": [],
            "needs_background": "light"
          }
        }
      ]
    },
    {
      "cell_type": "code",
      "metadata": {
        "id": "L2n8fAGjGZ_o",
        "colab_type": "code",
        "colab": {
          "base_uri": "https://localhost:8080/",
          "height": 283
        },
        "outputId": "6bbddaac-c41e-488d-8473-d2e8391225b7"
      },
      "source": [
        "temp, mask = explanation.get_image_and_mask(1, positive_only=False, num_features=10, hide_rest=False)\n",
        "plt.imshow(mark_boundaries(temp / 2 + 0.5, mask))"
      ],
      "execution_count": null,
      "outputs": [
        {
          "output_type": "execute_result",
          "data": {
            "text/plain": [
              "<matplotlib.image.AxesImage at 0x7f8f570f44e0>"
            ]
          },
          "metadata": {
            "tags": []
          },
          "execution_count": 40
        },
        {
          "output_type": "display_data",
          "data": {
            "image/png": "[encoded data removed]",
            "text/plain": [
              "<Figure size 432x288 with 1 Axes>"
            ]
          },
          "metadata": {
            "tags": [],
            "needs_background": "light"
          }
        }
      ]
    },
    {
      "cell_type": "markdown",
      "metadata": {
        "id": "VgGY8V4lJUGj",
        "colab_type": "text"
      },
      "source": [
        "## Image 2"
      ]
    },
    {
      "cell_type": "code",
      "metadata": {
        "id": "NmZsVJxPGcNo",
        "colab_type": "code",
        "colab": {
          "base_uri": "https://localhost:8080/",
          "height": 332,
          "referenced_widgets": [
            "f55cfa27a35e4e7fa7bf25a47fb85800",
            "99a45192580e4fcf8ea795bb6ed7b3a4",
            "595019373dd640c28fee58f986fd403c",
            "8f41ae18e3d346d38ba65e2b2700d65b",
            "e25525cbe321492cbdd06d173196916c",
            "f2bd9b1742b14b90bff035ccbbe36207",
            "c77182b62d5e4e979de58306ee28e572",
            "3802e1404f5f4c2eb1358228e313b60b"
          ]
        },
        "outputId": "c184eeaf-ece4-4bd9-c9e7-e2b1f6765430"
      },
      "source": [
        "images = transform_img_fn(['train/ff78f7f0d19b99a8ffd98b63bf8a6e36.jpg'])\n",
        "\n",
        "plt.imshow(images[0] / 2 + 0.5)\n",
        "preds = full_model.predict(images)\n",
        "print(preds)\n",
        "\n",
        "explanation = explainer.explain_instance(images[0], full_model.predict, top_labels=5, hide_color=0, num_samples=1000)"
      ],
      "execution_count": null,
      "outputs": [
        {
          "output_type": "stream",
          "text": [
            "[[0.4622626  0.53773737]]\n"
          ],
          "name": "stdout"
        },
        {
          "output_type": "display_data",
          "data": {
            "application/vnd.jupyter.widget-view+json": {
              "model_id": "f55cfa27a35e4e7fa7bf25a47fb85800",
              "version_minor": 0,
              "version_major": 2
            },
            "text/plain": [
              "HBox(children=(IntProgress(value=0, max=1000), HTML(value='')))"
            ]
          },
          "metadata": {
            "tags": []
          }
        },
        {
          "output_type": "stream",
          "text": [
            "\n"
          ],
          "name": "stdout"
        },
        {
          "output_type": "display_data",
          "data": {
            "image/png": "[encoded data removed]",
            "text/plain": [
              "<Figure size 432x288 with 1 Axes>"
            ]
          },
          "metadata": {
            "tags": [],
            "needs_background": "light"
          }
        }
      ]
    },
    {
      "cell_type": "code",
      "metadata": {
        "id": "5cAZJNwxGwYV",
        "colab_type": "code",
        "colab": {
          "base_uri": "https://localhost:8080/",
          "height": 283
        },
        "outputId": "4f795b34-b89a-4db0-8c31-5f26556ea362"
      },
      "source": [
        "temp, mask = explanation.get_image_and_mask(1, positive_only=True, num_features=5, hide_rest=True)\n",
        "plt.imshow(mark_boundaries(temp / 2 + 0.5, mask))"
      ],
      "execution_count": null,
      "outputs": [
        {
          "output_type": "execute_result",
          "data": {
            "text/plain": [
              "<matplotlib.image.AxesImage at 0x7f8f56dadef0>"
            ]
          },
          "metadata": {
            "tags": []
          },
          "execution_count": 42
        },
        {
          "output_type": "display_data",
          "data": {
            "image/png": "[encoded data removed]",
            "text/plain": [
              "<Figure size 432x288 with 1 Axes>"
            ]
          },
          "metadata": {
            "tags": [],
            "needs_background": "light"
          }
        }
      ]
    },
    {
      "cell_type": "code",
      "metadata": {
        "id": "0II8ydGYG3r4",
        "colab_type": "code",
        "colab": {
          "base_uri": "https://localhost:8080/",
          "height": 283
        },
        "outputId": "70482c96-1512-44f5-cae7-66e67251f62c"
      },
      "source": [
        "temp, mask = explanation.get_image_and_mask(1, positive_only=False, num_features=10, hide_rest=False)\n",
        "plt.imshow(mark_boundaries(temp / 2 + 0.5, mask))"
      ],
      "execution_count": null,
      "outputs": [
        {
          "output_type": "execute_result",
          "data": {
            "text/plain": [
              "<matplotlib.image.AxesImage at 0x7f8f56d91c88>"
            ]
          },
          "metadata": {
            "tags": []
          },
          "execution_count": 43
        },
        {
          "output_type": "display_data",
          "data": {
            "image/png": "[encoded data removed]",
            "text/plain": [
              "<Figure size 432x288 with 1 Axes>"
            ]
          },
          "metadata": {
            "tags": [],
            "needs_background": "light"
          }
        }
      ]
    },
    {
      "cell_type": "markdown",
      "metadata": {
        "id": "RSqCaRo1JWrs",
        "colab_type": "text"
      },
      "source": [
        "## Image 3"
      ]
    },
    {
      "cell_type": "code",
      "metadata": {
        "id": "vLAuR_lGG5Ub",
        "colab_type": "code",
        "colab": {
          "base_uri": "https://localhost:8080/",
          "height": 332,
          "referenced_widgets": [
            "d1b6afb6da2246a18602f9ea07c5086d",
            "b2d3ff474a2c45d18d30b7ba4ae74368",
            "b5a7df763eb5444c867bfa1be18be739",
            "c40b53ea6a394793b76e713ad9660813",
            "021eeac1f4c94a2daed1157593b94d2c",
            "43970edcbc41417780a7f4ce07b2c384",
            "b96155b44ff04454b7e0d680ec7be127",
            "5872bd82211c42b8b66771f2d0d1ac5c"
          ]
        },
        "outputId": "dcb2a060-d335-4ced-8a91-1daba8c8fa71"
      },
      "source": [
        "images = transform_img_fn(['train/fdba1461a2b3c9b6a68c84fc5252c4b9.jpg'])\n",
        "\n",
        "plt.imshow(images[0] / 2 + 0.5)\n",
        "preds = full_model.predict(images)\n",
        "print(preds)\n",
        "\n",
        "explanation = explainer.explain_instance(images[0], full_model.predict, top_labels=5, hide_color=0, num_samples=1000)"
      ],
      "execution_count": null,
      "outputs": [
        {
          "output_type": "stream",
          "text": [
            "[[0.45581782 0.5441822 ]]\n"
          ],
          "name": "stdout"
        },
        {
          "output_type": "display_data",
          "data": {
            "application/vnd.jupyter.widget-view+json": {
              "model_id": "d1b6afb6da2246a18602f9ea07c5086d",
              "version_minor": 0,
              "version_major": 2
            },
            "text/plain": [
              "HBox(children=(IntProgress(value=0, max=1000), HTML(value='')))"
            ]
          },
          "metadata": {
            "tags": []
          }
        },
        {
          "output_type": "stream",
          "text": [
            "\n"
          ],
          "name": "stdout"
        },
        {
          "output_type": "display_data",
          "data": {
            "image/png": "[encoded data removed]",
            "text/plain": [
              "<Figure size 432x288 with 1 Axes>"
            ]
          },
          "metadata": {
            "tags": [],
            "needs_background": "light"
          }
        }
      ]
    },
    {
      "cell_type": "code",
      "metadata": {
        "id": "H7kwh-_rHtsj",
        "colab_type": "code",
        "colab": {
          "base_uri": "https://localhost:8080/",
          "height": 283
        },
        "outputId": "acc3e900-d3fd-4138-eb27-dbab75950957"
      },
      "source": [
        "temp, mask = explanation.get_image_and_mask(1, positive_only=True, num_features=5, hide_rest=True)\n",
        "plt.imshow(mark_boundaries(temp / 2 + 0.5, mask))"
      ],
      "execution_count": null,
      "outputs": [
        {
          "output_type": "execute_result",
          "data": {
            "text/plain": [
              "<matplotlib.image.AxesImage at 0x7f8f56ce1cf8>"
            ]
          },
          "metadata": {
            "tags": []
          },
          "execution_count": 45
        },
        {
          "output_type": "display_data",
          "data": {
            "image/png": "[encoded data removed]",
            "text/plain": [
              "<Figure size 432x288 with 1 Axes>"
            ]
          },
          "metadata": {
            "tags": [],
            "needs_background": "light"
          }
        }
      ]
    }
  ]
}
