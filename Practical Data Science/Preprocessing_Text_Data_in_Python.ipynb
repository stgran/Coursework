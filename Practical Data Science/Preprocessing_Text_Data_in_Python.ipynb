{
  "nbformat": 4,
  "nbformat_minor": 0,
  "metadata": {
    "colab": {
      "name": "Preprocessing Text Data in Python: An Introduction via Kaggle.ipynb",
      "provenance": [],
      "collapsed_sections": [],
      "include_colab_link": true
    },
    "kernelspec": {
      "name": "python3",
      "display_name": "Python 3"
    }
  },
  "cells": [
    {
      "cell_type": "markdown",
      "metadata": {
        "id": "view-in-github",
        "colab_type": "text"
      },
      "source": [
        "<a href=\"https://colab.research.google.com/github/stgran/Coursework/blob/master/Practical%20Data%20Science/Preprocessing_Text_Data_in_Python.ipynb\" target=\"_parent\"><img src=\"https://colab.research.google.com/assets/colab-badge.svg\" alt=\"Open In Colab\"/></a>"
      ]
    },
    {
      "cell_type": "markdown",
      "metadata": {
        "id": "OQcGt7I1CJh0",
        "colab_type": "text"
      },
      "source": [
        "## Real or Not? NLP with Disaster Tweets"
      ]
    },
    {
      "cell_type": "markdown",
      "metadata": {
        "id": "KOdytTk2CSdf",
        "colab_type": "text"
      },
      "source": [
        "### Columns\n",
        "- ```id```  - a unique identifier for each tweet \n",
        "- ```text``` - the text of the tweet \n",
        "- ```location``` - the location the tweet was sent from (may be blank)\n",
        "- ```keyword``` - a particular keyword from the tweet (may be blank)\n",
        "- ```target``` - in train.csv only, this denotes whether a tweet is about a real - \n",
        "- ```disaster``` (1) or not (0)\n"
      ]
    },
    {
      "cell_type": "markdown",
      "metadata": {
        "id": "Id3HiJCUw6Rp",
        "colab_type": "text"
      },
      "source": [
        "# Package Import"
      ]
    },
    {
      "cell_type": "code",
      "metadata": {
        "id": "_ymG3e4b9wa7",
        "colab_type": "code",
        "outputId": "93196d2d-6698-430d-c220-243682ad95de",
        "colab": {
          "base_uri": "https://localhost:8080/",
          "height": 102
        }
      },
      "source": [
        "## importing libraries\n",
        "import pandas as pd # our main data management package\n",
        "import matplotlib.pyplot as plt # our main display package\n",
        "import string # used for preprocessing\n",
        "import re # used for preprocessing\n",
        "import numpy as np # used for managing NaNs\n",
        "from nltk.tokenize import word_tokenize # our tokenizer\n",
        "from nltk.corpus import stopwords # used for preprocessing\n",
        "from nltk.stem import WordNetLemmatizer # used for preprocessing\n",
        "from sklearn.feature_extraction.text import TfidfVectorizer\n",
        "from sklearn.linear_model import LogisticRegression # our model\n",
        "from sklearn.model_selection import train_test_split\n",
        "nltk.download('stopwords')\n",
        "nltk.download('wordnet')"
      ],
      "execution_count": 125,
      "outputs": [
        {
          "output_type": "stream",
          "text": [
            "[nltk_data] Downloading package stopwords to /root/nltk_data...\n",
            "[nltk_data]   Package stopwords is already up-to-date!\n",
            "[nltk_data] Downloading package wordnet to /root/nltk_data...\n",
            "[nltk_data]   Package wordnet is already up-to-date!\n"
          ],
          "name": "stdout"
        },
        {
          "output_type": "execute_result",
          "data": {
            "text/plain": [
              "True"
            ]
          },
          "metadata": {
            "tags": []
          },
          "execution_count": 125
        }
      ]
    },
    {
      "cell_type": "markdown",
      "metadata": {
        "id": "CzrdDSjIw7fm",
        "colab_type": "text"
      },
      "source": [
        "# Data Import"
      ]
    },
    {
      "cell_type": "code",
      "metadata": {
        "id": "yTiJHkryG1d-",
        "colab_type": "code",
        "colab": {}
      },
      "source": [
        "data_urls = ['https://raw.githubusercontent.com/minerva-spring-pds/KaggleDisasterTweetsChallenge/master/Data/%s.csv'%ds for ds in ['train', 'test', 'sample_submission']]\n",
        "\n",
        "train = pd.read_csv(data_urls[0])\n",
        "test = pd.read_csv(data_urls[1])\n",
        "sample_submission = pd.read_csv(data_urls[2])"
      ],
      "execution_count": 0,
      "outputs": []
    },
    {
      "cell_type": "markdown",
      "metadata": {
        "id": "y9HuYgpgxAZt",
        "colab_type": "text"
      },
      "source": [
        "# Data Exploration"
      ]
    },
    {
      "cell_type": "code",
      "metadata": {
        "id": "YjdpFmpHB5rK",
        "colab_type": "code",
        "outputId": "c9df745d-328c-4c2d-9a4b-59a1b381f5e1",
        "colab": {
          "base_uri": "https://localhost:8080/",
          "height": 204
        }
      },
      "source": [
        "train.head()"
      ],
      "execution_count": 80,
      "outputs": [
        {
          "output_type": "execute_result",
          "data": {
            "text/html": [
              "<div>\n",
              "<style scoped>\n",
              "    .dataframe tbody tr th:only-of-type {\n",
              "        vertical-align: middle;\n",
              "    }\n",
              "\n",
              "    .dataframe tbody tr th {\n",
              "        vertical-align: top;\n",
              "    }\n",
              "\n",
              "    .dataframe thead th {\n",
              "        text-align: right;\n",
              "    }\n",
              "</style>\n",
              "<table border=\"1\" class=\"dataframe\">\n",
              "  <thead>\n",
              "    <tr style=\"text-align: right;\">\n",
              "      <th></th>\n",
              "      <th>id</th>\n",
              "      <th>keyword</th>\n",
              "      <th>location</th>\n",
              "      <th>text</th>\n",
              "      <th>target</th>\n",
              "    </tr>\n",
              "  </thead>\n",
              "  <tbody>\n",
              "    <tr>\n",
              "      <th>0</th>\n",
              "      <td>1</td>\n",
              "      <td>NaN</td>\n",
              "      <td>NaN</td>\n",
              "      <td>Our Deeds are the Reason of this #earthquake M...</td>\n",
              "      <td>1</td>\n",
              "    </tr>\n",
              "    <tr>\n",
              "      <th>1</th>\n",
              "      <td>4</td>\n",
              "      <td>NaN</td>\n",
              "      <td>NaN</td>\n",
              "      <td>Forest fire near La Ronge Sask. Canada</td>\n",
              "      <td>1</td>\n",
              "    </tr>\n",
              "    <tr>\n",
              "      <th>2</th>\n",
              "      <td>5</td>\n",
              "      <td>NaN</td>\n",
              "      <td>NaN</td>\n",
              "      <td>All residents asked to 'shelter in place' are ...</td>\n",
              "      <td>1</td>\n",
              "    </tr>\n",
              "    <tr>\n",
              "      <th>3</th>\n",
              "      <td>6</td>\n",
              "      <td>NaN</td>\n",
              "      <td>NaN</td>\n",
              "      <td>13,000 people receive #wildfires evacuation or...</td>\n",
              "      <td>1</td>\n",
              "    </tr>\n",
              "    <tr>\n",
              "      <th>4</th>\n",
              "      <td>7</td>\n",
              "      <td>NaN</td>\n",
              "      <td>NaN</td>\n",
              "      <td>Just got sent this photo from Ruby #Alaska as ...</td>\n",
              "      <td>1</td>\n",
              "    </tr>\n",
              "  </tbody>\n",
              "</table>\n",
              "</div>"
            ],
            "text/plain": [
              "   id keyword  ...                                               text target\n",
              "0   1     NaN  ...  Our Deeds are the Reason of this #earthquake M...      1\n",
              "1   4     NaN  ...             Forest fire near La Ronge Sask. Canada      1\n",
              "2   5     NaN  ...  All residents asked to 'shelter in place' are ...      1\n",
              "3   6     NaN  ...  13,000 people receive #wildfires evacuation or...      1\n",
              "4   7     NaN  ...  Just got sent this photo from Ruby #Alaska as ...      1\n",
              "\n",
              "[5 rows x 5 columns]"
            ]
          },
          "metadata": {
            "tags": []
          },
          "execution_count": 80
        }
      ]
    },
    {
      "cell_type": "code",
      "metadata": {
        "id": "qofywLDfIGKH",
        "colab_type": "code",
        "outputId": "1b543f78-d1db-486c-c6ae-28b656b2ccff",
        "colab": {
          "base_uri": "https://localhost:8080/",
          "height": 119
        }
      },
      "source": [
        "train.count()"
      ],
      "execution_count": 81,
      "outputs": [
        {
          "output_type": "execute_result",
          "data": {
            "text/plain": [
              "id          7613\n",
              "keyword     7552\n",
              "location    5080\n",
              "text        7613\n",
              "target      7613\n",
              "dtype: int64"
            ]
          },
          "metadata": {
            "tags": []
          },
          "execution_count": 81
        }
      ]
    },
    {
      "cell_type": "code",
      "metadata": {
        "id": "gLacvYp_eatb",
        "colab_type": "code",
        "colab": {}
      },
      "source": [
        "train = train.drop(['keyword', 'location'], axis = 1)\n",
        "test = test.drop(['keyword', 'location'], axis = 1)"
      ],
      "execution_count": 0,
      "outputs": []
    },
    {
      "cell_type": "markdown",
      "metadata": {
        "id": "rM5iLO5HMaWD",
        "colab_type": "text"
      },
      "source": [
        "## Overview\n",
        "The columns containing text are 'keyword', 'location', and 'text'. 'keyword' contains, ideally, the keyword in the text that made the tweet noteworthy in the context of disasters. It has 7552 of 7613 rows. 'location' refers to the location of the tweet and has only 5080 of 7613 rows. 'text' is the text of the tweet and has all 7613 rows."
      ]
    },
    {
      "cell_type": "markdown",
      "metadata": {
        "id": "OoaQArqmwu6d",
        "colab_type": "text"
      },
      "source": [
        "# Preprocessing part 1\n",
        "### Removing URLs/handles, making text lowercase, removing numbers, removing punctuation, tokenizing, removing stopwords, and lemmatizing"
      ]
    },
    {
      "cell_type": "code",
      "metadata": {
        "id": "ZBeKlED2N1Xn",
        "colab_type": "code",
        "colab": {}
      },
      "source": [
        "# remove urls, handles, and the hashtag from hashtags (taken from https://stackoverflow.com/questions/8376691/how-to-remove-hashtag-user-link-of-a-tweet-using-regular-expression)\n",
        "def remove_urls(text):\n",
        "  new_text = ' '.join(re.sub(\"(@[A-Za-z0-9]+)|([^0-9A-Za-z \\t])|(\\w+:\\/\\/\\S+)\",\" \",text).split())\n",
        "  return new_text\n",
        "\n",
        "# make all text lowercase\n",
        "def text_lowercase(text): \n",
        "  return text.lower()\n",
        "\n",
        "# remove numbers\n",
        "def remove_numbers(text): \n",
        "  result = re.sub(r'\\d+', '', text) \n",
        "  return result\n",
        "\n",
        "# remove punctuation\n",
        "def remove_punctuation(text): \n",
        "  translator = str.maketrans('', '', string.punctuation)\n",
        "  return text.translate(translator)\n",
        "\n",
        "# tokenize\n",
        "def tokenize(text):\n",
        "  text = word_tokenize(text)\n",
        "  return text\n",
        "\n",
        "# remove stopwords\n",
        "stop_words = set(stopwords.words('english'))\n",
        "def remove_stopwords(text):\n",
        "  text = [i for i in text if not i in stop_words]\n",
        "  return text\n",
        "\n",
        "# lemmatize\n",
        "lemmatizer = WordNetLemmatizer()\n",
        "def lemmatize(text):\n",
        "  text = [lemmatizer.lemmatize(token) for token in text]\n",
        "  return text\n",
        "\n",
        "def preprocessing(text):\n",
        "  text = text_lowercase(text)\n",
        "  text = remove_urls(text)\n",
        "  text = remove_numbers(text)\n",
        "  text = remove_punctuation(text)\n",
        "  text = tokenize(text)\n",
        "  text = remove_stopwords(text)\n",
        "  text = lemmatize(text)\n",
        "  text = ' '.join(text)\n",
        "  return text"
      ],
      "execution_count": 0,
      "outputs": []
    },
    {
      "cell_type": "code",
      "metadata": {
        "id": "2QMYkcdiiYoa",
        "colab_type": "code",
        "colab": {}
      },
      "source": [
        "# preprocessing the text columns\n",
        "# train data\n",
        "pp_text_train = [] # our preprocessed text column\n",
        "for text_data in train['text']:\n",
        "    pp_text_data = preprocessing(text_data)\n",
        "    pp_text_train.append(pp_text_data)\n",
        "\n",
        "train['pp_text'] = pp_text_train # add the preprocessed text as a column\n",
        "\n",
        "# test data\n",
        "pp_text_test = [] # our preprocessed text column\n",
        "for text_data in test['text']:\n",
        "    pp_text_data = preprocessing(text_data)\n",
        "    pp_text_test.append(pp_text_data)\n",
        "\n",
        "test['pp_text'] = pp_text_test # add the preprocessed text as a column"
      ],
      "execution_count": 0,
      "outputs": []
    },
    {
      "cell_type": "code",
      "metadata": {
        "id": "pakGAwoAwGql",
        "colab_type": "code",
        "outputId": "3d558202-c909-4e6a-9a0d-3932f04b7a24",
        "colab": {
          "base_uri": "https://localhost:8080/",
          "height": 204
        }
      },
      "source": [
        "train.head()"
      ],
      "execution_count": 128,
      "outputs": [
        {
          "output_type": "execute_result",
          "data": {
            "text/html": [
              "<div>\n",
              "<style scoped>\n",
              "    .dataframe tbody tr th:only-of-type {\n",
              "        vertical-align: middle;\n",
              "    }\n",
              "\n",
              "    .dataframe tbody tr th {\n",
              "        vertical-align: top;\n",
              "    }\n",
              "\n",
              "    .dataframe thead th {\n",
              "        text-align: right;\n",
              "    }\n",
              "</style>\n",
              "<table border=\"1\" class=\"dataframe\">\n",
              "  <thead>\n",
              "    <tr style=\"text-align: right;\">\n",
              "      <th></th>\n",
              "      <th>id</th>\n",
              "      <th>text</th>\n",
              "      <th>target</th>\n",
              "      <th>pp_text</th>\n",
              "    </tr>\n",
              "  </thead>\n",
              "  <tbody>\n",
              "    <tr>\n",
              "      <th>0</th>\n",
              "      <td>1</td>\n",
              "      <td>Our Deeds are the Reason of this #earthquake M...</td>\n",
              "      <td>1</td>\n",
              "      <td>deed reason earthquake may allah forgive u</td>\n",
              "    </tr>\n",
              "    <tr>\n",
              "      <th>1</th>\n",
              "      <td>4</td>\n",
              "      <td>Forest fire near La Ronge Sask. Canada</td>\n",
              "      <td>1</td>\n",
              "      <td>forest fire near la ronge sask canada</td>\n",
              "    </tr>\n",
              "    <tr>\n",
              "      <th>2</th>\n",
              "      <td>5</td>\n",
              "      <td>All residents asked to 'shelter in place' are ...</td>\n",
              "      <td>1</td>\n",
              "      <td>resident asked shelter place notified officer ...</td>\n",
              "    </tr>\n",
              "    <tr>\n",
              "      <th>3</th>\n",
              "      <td>6</td>\n",
              "      <td>13,000 people receive #wildfires evacuation or...</td>\n",
              "      <td>1</td>\n",
              "      <td>people receive wildfire evacuation order calif...</td>\n",
              "    </tr>\n",
              "    <tr>\n",
              "      <th>4</th>\n",
              "      <td>7</td>\n",
              "      <td>Just got sent this photo from Ruby #Alaska as ...</td>\n",
              "      <td>1</td>\n",
              "      <td>got sent photo ruby alaska smoke wildfire pour...</td>\n",
              "    </tr>\n",
              "  </tbody>\n",
              "</table>\n",
              "</div>"
            ],
            "text/plain": [
              "   id  ...                                            pp_text\n",
              "0   1  ...         deed reason earthquake may allah forgive u\n",
              "1   4  ...              forest fire near la ronge sask canada\n",
              "2   5  ...  resident asked shelter place notified officer ...\n",
              "3   6  ...  people receive wildfire evacuation order calif...\n",
              "4   7  ...  got sent photo ruby alaska smoke wildfire pour...\n",
              "\n",
              "[5 rows x 4 columns]"
            ]
          },
          "metadata": {
            "tags": []
          },
          "execution_count": 128
        }
      ]
    },
    {
      "cell_type": "markdown",
      "metadata": {
        "id": "WFoOWYCbae0D",
        "colab_type": "text"
      },
      "source": [
        "# Preprocessing part 2"
      ]
    },
    {
      "cell_type": "code",
      "metadata": {
        "id": "mW5vnnS9fIo8",
        "colab_type": "code",
        "colab": {}
      },
      "source": [
        "# combining the train and test text data into a single corpus,\n",
        "# which we will need to train the vectorizer\n",
        "train_text_data = list(train['pp_text'])\n",
        "test_text_data = list(test['pp_text'])\n",
        "\n",
        "corpus = train_text_data + test_text_data"
      ],
      "execution_count": 0,
      "outputs": []
    },
    {
      "cell_type": "code",
      "metadata": {
        "id": "jpNPxtgOXPWc",
        "colab_type": "code",
        "colab": {}
      },
      "source": [
        "tf=TfidfVectorizer()\n",
        "\n",
        "# the vectorizer must be fit onto the entire corpus\n",
        "fitted_vectorizer = tf.fit(corpus)\n",
        "\n",
        "# now we vectorize the train and test data separately\n",
        "# train\n",
        "train_transform = fitted_vectorizer.transform(train['pp_text'])\n",
        "y = train['target'] \n",
        "\n",
        "# test\n",
        "test_transform = fitted_vectorizer.transform(test['pp_text'])"
      ],
      "execution_count": 0,
      "outputs": []
    },
    {
      "cell_type": "code",
      "metadata": {
        "id": "BvLLxMwsZIB-",
        "colab_type": "code",
        "outputId": "29c729c7-4513-4817-bd43-442adfd8455a",
        "colab": {
          "base_uri": "https://localhost:8080/",
          "height": 884
        }
      },
      "source": [
        "print(train_transform)"
      ],
      "execution_count": 131,
      "outputs": [
        {
          "output_type": "stream",
          "text": [
            "  (0, 11223)\t0.3565094534235048\n",
            "  (0, 8491)\t0.30689576472023705\n",
            "  (0, 5201)\t0.47724964027208006\n",
            "  (0, 4146)\t0.33382310221398653\n",
            "  (0, 3403)\t0.5053201351576412\n",
            "  (0, 368)\t0.42914155882309796\n",
            "  (1, 12013)\t0.4999968670933836\n",
            "  (1, 11772)\t0.4999968670933836\n",
            "  (1, 9245)\t0.30535331214468475\n",
            "  (1, 7658)\t0.3540085679476195\n",
            "  (1, 5192)\t0.2947343443136663\n",
            "  (1, 5011)\t0.21426166605848176\n",
            "  (1, 2026)\t0.38557380501712757\n",
            "  (2, 12386)\t0.5666750369385926\n",
            "  (2, 11511)\t0.2678768546920339\n",
            "  (2, 10450)\t0.4588681678344489\n",
            "  (2, 9868)\t0.22129413712583343\n",
            "  (2, 9685)\t0.2286107019766729\n",
            "  (2, 9522)\t0.3359683721273607\n",
            "  (2, 4660)\t0.25719090399439354\n",
            "  (2, 4563)\t0.21106286302334237\n",
            "  (2, 766)\t0.2678768546920339\n",
            "  (3, 15310)\t0.3614357147352493\n",
            "  (3, 11245)\t0.5801828834474566\n",
            "  (3, 10256)\t0.3039464200345903\n",
            "  :\t:\n",
            "  (7610, 14732)\t0.5019800665003111\n",
            "  (7610, 7558)\t0.4786761820583672\n",
            "  (7610, 6109)\t0.5497529715916672\n",
            "  (7611, 13945)\t0.263100092463339\n",
            "  (7611, 13371)\t0.2781595707273074\n",
            "  (7611, 12260)\t0.24489006157073454\n",
            "  (7611, 11640)\t0.27371050150101667\n",
            "  (7611, 10605)\t0.29680514411431547\n",
            "  (7611, 10552)\t0.16924045478676536\n",
            "  (7611, 9454)\t0.250615858887718\n",
            "  (7611, 8007)\t0.2024066506005002\n",
            "  (7611, 7921)\t0.16997275956984345\n",
            "  (7611, 7004)\t0.24489006157073454\n",
            "  (7611, 6867)\t0.18461180920964676\n",
            "  (7611, 2663)\t0.21071015352537217\n",
            "  (7611, 2086)\t0.17604744516757634\n",
            "  (7611, 1367)\t0.5474210030020333\n",
            "  (7612, 15310)\t0.3442049492726007\n",
            "  (7612, 11174)\t0.39839794046847693\n",
            "  (7612, 9491)\t0.359408618850927\n",
            "  (7612, 9325)\t0.2868351922822403\n",
            "  (7612, 7756)\t0.3667140871887605\n",
            "  (7612, 6366)\t0.3153910823339076\n",
            "  (7612, 1985)\t0.32489578307838074\n",
            "  (7612, 24)\t0.41454194561014907\n"
          ],
          "name": "stdout"
        }
      ]
    },
    {
      "cell_type": "markdown",
      "metadata": {
        "id": "zJrhUZUHwX_A",
        "colab_type": "text"
      },
      "source": [
        "# Testing our model on a validation set"
      ]
    },
    {
      "cell_type": "code",
      "metadata": {
        "id": "5IbYCCA2gdYW",
        "colab_type": "code",
        "colab": {}
      },
      "source": [
        "X_train, X_test, y_train, y_test = train_test_split(train_transform, y)"
      ],
      "execution_count": 0,
      "outputs": []
    },
    {
      "cell_type": "code",
      "metadata": {
        "id": "kzrvonBz8pEJ",
        "colab_type": "code",
        "colab": {}
      },
      "source": [
        "scikit_log_reg = LogisticRegression()\n",
        "model=scikit_log_reg.fit(X_train, y_train)"
      ],
      "execution_count": 0,
      "outputs": []
    },
    {
      "cell_type": "code",
      "metadata": {
        "id": "HdA_HqQOg5iA",
        "colab_type": "code",
        "colab": {}
      },
      "source": [
        "predictions = model.predict(X_test)"
      ],
      "execution_count": 0,
      "outputs": []
    },
    {
      "cell_type": "code",
      "metadata": {
        "id": "J8IPcw29g6X9",
        "colab_type": "code",
        "colab": {
          "base_uri": "https://localhost:8080/",
          "height": 34
        },
        "outputId": "cd3f7993-77d9-4a2b-e7ee-a954e5c0524c"
      },
      "source": [
        "count = 0\n",
        "for guess, answer in zip(predictions, y_test):\n",
        "    if guess == answer:\n",
        "        count += 1\n",
        "print(count/len(y_test))"
      ],
      "execution_count": 135,
      "outputs": [
        {
          "output_type": "stream",
          "text": [
            "0.8025210084033614\n"
          ],
          "name": "stdout"
        }
      ]
    },
    {
      "cell_type": "markdown",
      "metadata": {
        "id": "RLuhYcxDwJYN",
        "colab_type": "text"
      },
      "source": [
        "# Kaggle Submission"
      ]
    },
    {
      "cell_type": "code",
      "metadata": {
        "id": "MwYgFiSFiCav",
        "colab_type": "code",
        "colab": {
          "base_uri": "https://localhost:8080/",
          "height": 204
        },
        "outputId": "5896e80f-8f2c-45dd-d80e-909f0428fdb6"
      },
      "source": [
        "sample_submission.head()"
      ],
      "execution_count": 60,
      "outputs": [
        {
          "output_type": "execute_result",
          "data": {
            "text/html": [
              "<div>\n",
              "<style scoped>\n",
              "    .dataframe tbody tr th:only-of-type {\n",
              "        vertical-align: middle;\n",
              "    }\n",
              "\n",
              "    .dataframe tbody tr th {\n",
              "        vertical-align: top;\n",
              "    }\n",
              "\n",
              "    .dataframe thead th {\n",
              "        text-align: right;\n",
              "    }\n",
              "</style>\n",
              "<table border=\"1\" class=\"dataframe\">\n",
              "  <thead>\n",
              "    <tr style=\"text-align: right;\">\n",
              "      <th></th>\n",
              "      <th>id</th>\n",
              "      <th>target</th>\n",
              "    </tr>\n",
              "  </thead>\n",
              "  <tbody>\n",
              "    <tr>\n",
              "      <th>0</th>\n",
              "      <td>0</td>\n",
              "      <td>0</td>\n",
              "    </tr>\n",
              "    <tr>\n",
              "      <th>1</th>\n",
              "      <td>2</td>\n",
              "      <td>0</td>\n",
              "    </tr>\n",
              "    <tr>\n",
              "      <th>2</th>\n",
              "      <td>3</td>\n",
              "      <td>0</td>\n",
              "    </tr>\n",
              "    <tr>\n",
              "      <th>3</th>\n",
              "      <td>9</td>\n",
              "      <td>0</td>\n",
              "    </tr>\n",
              "    <tr>\n",
              "      <th>4</th>\n",
              "      <td>11</td>\n",
              "      <td>0</td>\n",
              "    </tr>\n",
              "  </tbody>\n",
              "</table>\n",
              "</div>"
            ],
            "text/plain": [
              "   id  target\n",
              "0   0       0\n",
              "1   2       0\n",
              "2   3       0\n",
              "3   9       0\n",
              "4  11       0"
            ]
          },
          "metadata": {
            "tags": []
          },
          "execution_count": 60
        }
      ]
    },
    {
      "cell_type": "code",
      "metadata": {
        "id": "B0-jpM0-iPcH",
        "colab_type": "code",
        "colab": {}
      },
      "source": [
        "# getting predictions for the test set\n",
        "test_predictions = model.predict(test_transform)"
      ],
      "execution_count": 0,
      "outputs": []
    },
    {
      "cell_type": "code",
      "metadata": {
        "id": "rY2tRy-Ng-oy",
        "colab_type": "code",
        "colab": {}
      },
      "source": [
        "# creating a dataframe\n",
        "final_predictions = pd.DataFrame(test['id'])\n",
        "final_predictions['target'] = test_predictions"
      ],
      "execution_count": 0,
      "outputs": []
    },
    {
      "cell_type": "code",
      "metadata": {
        "id": "WzpKCcHLh_7z",
        "colab_type": "code",
        "colab": {
          "base_uri": "https://localhost:8080/",
          "height": 204
        },
        "outputId": "63657198-6684-4bfe-b28b-e929bd66a4e1"
      },
      "source": [
        "final_predictions.head()"
      ],
      "execution_count": 63,
      "outputs": [
        {
          "output_type": "execute_result",
          "data": {
            "text/html": [
              "<div>\n",
              "<style scoped>\n",
              "    .dataframe tbody tr th:only-of-type {\n",
              "        vertical-align: middle;\n",
              "    }\n",
              "\n",
              "    .dataframe tbody tr th {\n",
              "        vertical-align: top;\n",
              "    }\n",
              "\n",
              "    .dataframe thead th {\n",
              "        text-align: right;\n",
              "    }\n",
              "</style>\n",
              "<table border=\"1\" class=\"dataframe\">\n",
              "  <thead>\n",
              "    <tr style=\"text-align: right;\">\n",
              "      <th></th>\n",
              "      <th>id</th>\n",
              "      <th>target</th>\n",
              "    </tr>\n",
              "  </thead>\n",
              "  <tbody>\n",
              "    <tr>\n",
              "      <th>0</th>\n",
              "      <td>0</td>\n",
              "      <td>1</td>\n",
              "    </tr>\n",
              "    <tr>\n",
              "      <th>1</th>\n",
              "      <td>2</td>\n",
              "      <td>1</td>\n",
              "    </tr>\n",
              "    <tr>\n",
              "      <th>2</th>\n",
              "      <td>3</td>\n",
              "      <td>1</td>\n",
              "    </tr>\n",
              "    <tr>\n",
              "      <th>3</th>\n",
              "      <td>9</td>\n",
              "      <td>0</td>\n",
              "    </tr>\n",
              "    <tr>\n",
              "      <th>4</th>\n",
              "      <td>11</td>\n",
              "      <td>1</td>\n",
              "    </tr>\n",
              "  </tbody>\n",
              "</table>\n",
              "</div>"
            ],
            "text/plain": [
              "   id  target\n",
              "0   0       1\n",
              "1   2       1\n",
              "2   3       1\n",
              "3   9       0\n",
              "4  11       1"
            ]
          },
          "metadata": {
            "tags": []
          },
          "execution_count": 63
        }
      ]
    },
    {
      "cell_type": "code",
      "metadata": {
        "id": "GOGDwsrpi-zY",
        "colab_type": "code",
        "colab": {}
      },
      "source": [
        "from google.colab import files"
      ],
      "execution_count": 0,
      "outputs": []
    },
    {
      "cell_type": "code",
      "metadata": {
        "id": "yTeKb9oZiuWt",
        "colab_type": "code",
        "colab": {}
      },
      "source": [
        "# exporting the data\n",
        "final_predictions.to_csv('logit_guesses_mark_i.csv', index=False)\n",
        "files.download('logit_guesses_mark_i.csv')\n",
        "# this file is ready to submit to Kaggle"
      ],
      "execution_count": 0,
      "outputs": []
    }
  ]
}